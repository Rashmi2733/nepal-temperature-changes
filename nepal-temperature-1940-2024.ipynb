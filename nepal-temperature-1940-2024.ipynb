{
 "cells": [
  {
   "cell_type": "code",
   "execution_count": 1,
   "id": "4ab1467d",
   "metadata": {},
   "outputs": [],
   "source": [
    "#Importing necessary libraries\n",
    "import xarray as xr #helps work with NetCDF files\n",
    "import pandas as pd \n",
    "import numpy as np \n",
    "import matplotlib.pyplot as plt \n",
    "import plotly.graph_objects as go\n",
    "from scipy.stats import linregress"
   ]
  },
  {
   "cell_type": "code",
   "execution_count": null,
   "id": "f15b50d0",
   "metadata": {},
   "outputs": [
    {
     "name": "stdout",
     "output_type": "stream",
     "text": [
      "Dataset:\n",
      "\n",
      "<xarray.Dataset> Size: 3GB\n",
      "Dimensions:  (time: 745400, lat: 21, lon: 41)\n",
      "Coordinates:\n",
      "  * time     (time) datetime64[ns] 6MB 1940-01-01 ... 2024-12-31T23:00:00\n",
      "  * lon      (lon) float64 328B 79.0 79.25 79.5 79.75 ... 88.25 88.5 88.75 89.0\n",
      "  * lat      (lat) float64 168B 31.0 30.75 30.5 30.25 ... 26.75 26.5 26.25 26.0\n",
      "Data variables:\n",
      "    2t       (time, lat, lon) float32 3GB ...\n",
      "Attributes:\n",
      "    CDI:          Climate Data Interface version 2.4.0 (https://mpimet.mpg.de...\n",
      "    Conventions:  CF-1.6\n",
      "    institution:  European Centre for Medium-Range Weather Forecasts\n",
      "    history:      Sat Aug 16 14:14:44 2025: cdo mergetime temp_data_1940.nc t...\n",
      "    CDO:          Climate Data Operators version 2.4.0 (https://mpimet.mpg.de...\n",
      "\n",
      "Variables in the dataset: ['2t']\n"
     ]
    }
   ],
   "source": [
    "#Getting the NetCDF file with temperature values of Nepal from 1940 to 2024\n",
    "ds = xr.open_dataset(r\"temp_data_1940_2024.nc\") ##File about 3GB so not uploaded to github\n",
    "print(\"Dataset:\\n\")\n",
    "print(ds)\n",
    "\n",
    "#Checking the variable\n",
    "variable_names = list(ds.data_vars)\n",
    "print(\"\\nVariables in the dataset:\", variable_names)"
   ]
  },
  {
   "cell_type": "code",
   "execution_count": 3,
   "id": "9dcf6c8a",
   "metadata": {},
   "outputs": [],
   "source": [
    "# Removing conflicting values if they exist (_FillValue and missing_value)\n",
    "ds.attrs.pop('_FillValue', None) \n",
    "ds.attrs.pop('missing_value', None) \n",
    "\n",
    "# Setting the data with consistent _FillValue and missing_value (will be removed later)\n",
    "encoding = {'2t': {'_FillValue': -99.9,'missing_value': -99.9}}\n"
   ]
  },
  {
   "cell_type": "code",
   "execution_count": 4,
   "id": "9df19b98",
   "metadata": {},
   "outputs": [
    {
     "data": {
      "text/html": [
       "<div><svg style=\"position: absolute; width: 0; height: 0; overflow: hidden\">\n",
       "<defs>\n",
       "<symbol id=\"icon-database\" viewBox=\"0 0 32 32\">\n",
       "<path d=\"M16 0c-8.837 0-16 2.239-16 5v4c0 2.761 7.163 5 16 5s16-2.239 16-5v-4c0-2.761-7.163-5-16-5z\"></path>\n",
       "<path d=\"M16 17c-8.837 0-16-2.239-16-5v6c0 2.761 7.163 5 16 5s16-2.239 16-5v-6c0 2.761-7.163 5-16 5z\"></path>\n",
       "<path d=\"M16 26c-8.837 0-16-2.239-16-5v6c0 2.761 7.163 5 16 5s16-2.239 16-5v-6c0 2.761-7.163 5-16 5z\"></path>\n",
       "</symbol>\n",
       "<symbol id=\"icon-file-text2\" viewBox=\"0 0 32 32\">\n",
       "<path d=\"M28.681 7.159c-0.694-0.947-1.662-2.053-2.724-3.116s-2.169-2.030-3.116-2.724c-1.612-1.182-2.393-1.319-2.841-1.319h-15.5c-1.378 0-2.5 1.121-2.5 2.5v27c0 1.378 1.122 2.5 2.5 2.5h23c1.378 0 2.5-1.122 2.5-2.5v-19.5c0-0.448-0.137-1.23-1.319-2.841zM24.543 5.457c0.959 0.959 1.712 1.825 2.268 2.543h-4.811v-4.811c0.718 0.556 1.584 1.309 2.543 2.268zM28 29.5c0 0.271-0.229 0.5-0.5 0.5h-23c-0.271 0-0.5-0.229-0.5-0.5v-27c0-0.271 0.229-0.5 0.5-0.5 0 0 15.499-0 15.5 0v7c0 0.552 0.448 1 1 1h7v19.5z\"></path>\n",
       "<path d=\"M23 26h-14c-0.552 0-1-0.448-1-1s0.448-1 1-1h14c0.552 0 1 0.448 1 1s-0.448 1-1 1z\"></path>\n",
       "<path d=\"M23 22h-14c-0.552 0-1-0.448-1-1s0.448-1 1-1h14c0.552 0 1 0.448 1 1s-0.448 1-1 1z\"></path>\n",
       "<path d=\"M23 18h-14c-0.552 0-1-0.448-1-1s0.448-1 1-1h14c0.552 0 1 0.448 1 1s-0.448 1-1 1z\"></path>\n",
       "</symbol>\n",
       "</defs>\n",
       "</svg>\n",
       "<style>/* CSS stylesheet for displaying xarray objects in jupyterlab.\n",
       " *\n",
       " */\n",
       "\n",
       ":root {\n",
       "  --xr-font-color0: var(\n",
       "    --jp-content-font-color0,\n",
       "    var(--pst-color-text-base rgba(0, 0, 0, 1))\n",
       "  );\n",
       "  --xr-font-color2: var(\n",
       "    --jp-content-font-color2,\n",
       "    var(--pst-color-text-base, rgba(0, 0, 0, 0.54))\n",
       "  );\n",
       "  --xr-font-color3: var(\n",
       "    --jp-content-font-color3,\n",
       "    var(--pst-color-text-base, rgba(0, 0, 0, 0.38))\n",
       "  );\n",
       "  --xr-border-color: var(\n",
       "    --jp-border-color2,\n",
       "    hsl(from var(--pst-color-on-background, white) h s calc(l - 10))\n",
       "  );\n",
       "  --xr-disabled-color: var(\n",
       "    --jp-layout-color3,\n",
       "    hsl(from var(--pst-color-on-background, white) h s calc(l - 40))\n",
       "  );\n",
       "  --xr-background-color: var(\n",
       "    --jp-layout-color0,\n",
       "    var(--pst-color-on-background, white)\n",
       "  );\n",
       "  --xr-background-color-row-even: var(\n",
       "    --jp-layout-color1,\n",
       "    hsl(from var(--pst-color-on-background, white) h s calc(l - 5))\n",
       "  );\n",
       "  --xr-background-color-row-odd: var(\n",
       "    --jp-layout-color2,\n",
       "    hsl(from var(--pst-color-on-background, white) h s calc(l - 15))\n",
       "  );\n",
       "}\n",
       "\n",
       "html[theme=\"dark\"],\n",
       "html[data-theme=\"dark\"],\n",
       "body[data-theme=\"dark\"],\n",
       "body.vscode-dark {\n",
       "  --xr-font-color0: var(\n",
       "    --jp-content-font-color0,\n",
       "    var(--pst-color-text-base, rgba(255, 255, 255, 1))\n",
       "  );\n",
       "  --xr-font-color2: var(\n",
       "    --jp-content-font-color2,\n",
       "    var(--pst-color-text-base, rgba(255, 255, 255, 0.54))\n",
       "  );\n",
       "  --xr-font-color3: var(\n",
       "    --jp-content-font-color3,\n",
       "    var(--pst-color-text-base, rgba(255, 255, 255, 0.38))\n",
       "  );\n",
       "  --xr-border-color: var(\n",
       "    --jp-border-color2,\n",
       "    hsl(from var(--pst-color-on-background, #111111) h s calc(l + 10))\n",
       "  );\n",
       "  --xr-disabled-color: var(\n",
       "    --jp-layout-color3,\n",
       "    hsl(from var(--pst-color-on-background, #111111) h s calc(l + 40))\n",
       "  );\n",
       "  --xr-background-color: var(\n",
       "    --jp-layout-color0,\n",
       "    var(--pst-color-on-background, #111111)\n",
       "  );\n",
       "  --xr-background-color-row-even: var(\n",
       "    --jp-layout-color1,\n",
       "    hsl(from var(--pst-color-on-background, #111111) h s calc(l + 5))\n",
       "  );\n",
       "  --xr-background-color-row-odd: var(\n",
       "    --jp-layout-color2,\n",
       "    hsl(from var(--pst-color-on-background, #111111) h s calc(l + 15))\n",
       "  );\n",
       "}\n",
       "\n",
       ".xr-wrap {\n",
       "  display: block !important;\n",
       "  min-width: 300px;\n",
       "  max-width: 700px;\n",
       "}\n",
       "\n",
       ".xr-text-repr-fallback {\n",
       "  /* fallback to plain text repr when CSS is not injected (untrusted notebook) */\n",
       "  display: none;\n",
       "}\n",
       "\n",
       ".xr-header {\n",
       "  padding-top: 6px;\n",
       "  padding-bottom: 6px;\n",
       "  margin-bottom: 4px;\n",
       "  border-bottom: solid 1px var(--xr-border-color);\n",
       "}\n",
       "\n",
       ".xr-header > div,\n",
       ".xr-header > ul {\n",
       "  display: inline;\n",
       "  margin-top: 0;\n",
       "  margin-bottom: 0;\n",
       "}\n",
       "\n",
       ".xr-obj-type,\n",
       ".xr-array-name {\n",
       "  margin-left: 2px;\n",
       "  margin-right: 10px;\n",
       "}\n",
       "\n",
       ".xr-obj-type {\n",
       "  color: var(--xr-font-color2);\n",
       "}\n",
       "\n",
       ".xr-sections {\n",
       "  padding-left: 0 !important;\n",
       "  display: grid;\n",
       "  grid-template-columns: 150px auto auto 1fr 0 20px 0 20px;\n",
       "}\n",
       "\n",
       ".xr-section-item {\n",
       "  display: contents;\n",
       "}\n",
       "\n",
       ".xr-section-item input {\n",
       "  display: inline-block;\n",
       "  opacity: 0;\n",
       "  height: 0;\n",
       "}\n",
       "\n",
       ".xr-section-item input + label {\n",
       "  color: var(--xr-disabled-color);\n",
       "  border: 2px solid transparent !important;\n",
       "}\n",
       "\n",
       ".xr-section-item input:enabled + label {\n",
       "  cursor: pointer;\n",
       "  color: var(--xr-font-color2);\n",
       "}\n",
       "\n",
       ".xr-section-item input:focus + label {\n",
       "  border: 2px solid var(--xr-font-color0) !important;\n",
       "}\n",
       "\n",
       ".xr-section-item input:enabled + label:hover {\n",
       "  color: var(--xr-font-color0);\n",
       "}\n",
       "\n",
       ".xr-section-summary {\n",
       "  grid-column: 1;\n",
       "  color: var(--xr-font-color2);\n",
       "  font-weight: 500;\n",
       "}\n",
       "\n",
       ".xr-section-summary > span {\n",
       "  display: inline-block;\n",
       "  padding-left: 0.5em;\n",
       "}\n",
       "\n",
       ".xr-section-summary-in:disabled + label {\n",
       "  color: var(--xr-font-color2);\n",
       "}\n",
       "\n",
       ".xr-section-summary-in + label:before {\n",
       "  display: inline-block;\n",
       "  content: \"►\";\n",
       "  font-size: 11px;\n",
       "  width: 15px;\n",
       "  text-align: center;\n",
       "}\n",
       "\n",
       ".xr-section-summary-in:disabled + label:before {\n",
       "  color: var(--xr-disabled-color);\n",
       "}\n",
       "\n",
       ".xr-section-summary-in:checked + label:before {\n",
       "  content: \"▼\";\n",
       "}\n",
       "\n",
       ".xr-section-summary-in:checked + label > span {\n",
       "  display: none;\n",
       "}\n",
       "\n",
       ".xr-section-summary,\n",
       ".xr-section-inline-details {\n",
       "  padding-top: 4px;\n",
       "  padding-bottom: 4px;\n",
       "}\n",
       "\n",
       ".xr-section-inline-details {\n",
       "  grid-column: 2 / -1;\n",
       "}\n",
       "\n",
       ".xr-section-details {\n",
       "  display: none;\n",
       "  grid-column: 1 / -1;\n",
       "  margin-bottom: 5px;\n",
       "}\n",
       "\n",
       ".xr-section-summary-in:checked ~ .xr-section-details {\n",
       "  display: contents;\n",
       "}\n",
       "\n",
       ".xr-array-wrap {\n",
       "  grid-column: 1 / -1;\n",
       "  display: grid;\n",
       "  grid-template-columns: 20px auto;\n",
       "}\n",
       "\n",
       ".xr-array-wrap > label {\n",
       "  grid-column: 1;\n",
       "  vertical-align: top;\n",
       "}\n",
       "\n",
       ".xr-preview {\n",
       "  color: var(--xr-font-color3);\n",
       "}\n",
       "\n",
       ".xr-array-preview,\n",
       ".xr-array-data {\n",
       "  padding: 0 5px !important;\n",
       "  grid-column: 2;\n",
       "}\n",
       "\n",
       ".xr-array-data,\n",
       ".xr-array-in:checked ~ .xr-array-preview {\n",
       "  display: none;\n",
       "}\n",
       "\n",
       ".xr-array-in:checked ~ .xr-array-data,\n",
       ".xr-array-preview {\n",
       "  display: inline-block;\n",
       "}\n",
       "\n",
       ".xr-dim-list {\n",
       "  display: inline-block !important;\n",
       "  list-style: none;\n",
       "  padding: 0 !important;\n",
       "  margin: 0;\n",
       "}\n",
       "\n",
       ".xr-dim-list li {\n",
       "  display: inline-block;\n",
       "  padding: 0;\n",
       "  margin: 0;\n",
       "}\n",
       "\n",
       ".xr-dim-list:before {\n",
       "  content: \"(\";\n",
       "}\n",
       "\n",
       ".xr-dim-list:after {\n",
       "  content: \")\";\n",
       "}\n",
       "\n",
       ".xr-dim-list li:not(:last-child):after {\n",
       "  content: \",\";\n",
       "  padding-right: 5px;\n",
       "}\n",
       "\n",
       ".xr-has-index {\n",
       "  font-weight: bold;\n",
       "}\n",
       "\n",
       ".xr-var-list,\n",
       ".xr-var-item {\n",
       "  display: contents;\n",
       "}\n",
       "\n",
       ".xr-var-item > div,\n",
       ".xr-var-item label,\n",
       ".xr-var-item > .xr-var-name span {\n",
       "  background-color: var(--xr-background-color-row-even);\n",
       "  border-color: var(--xr-background-color-row-odd);\n",
       "  margin-bottom: 0;\n",
       "  padding-top: 2px;\n",
       "}\n",
       "\n",
       ".xr-var-item > .xr-var-name:hover span {\n",
       "  padding-right: 5px;\n",
       "}\n",
       "\n",
       ".xr-var-list > li:nth-child(odd) > div,\n",
       ".xr-var-list > li:nth-child(odd) > label,\n",
       ".xr-var-list > li:nth-child(odd) > .xr-var-name span {\n",
       "  background-color: var(--xr-background-color-row-odd);\n",
       "  border-color: var(--xr-background-color-row-even);\n",
       "}\n",
       "\n",
       ".xr-var-name {\n",
       "  grid-column: 1;\n",
       "}\n",
       "\n",
       ".xr-var-dims {\n",
       "  grid-column: 2;\n",
       "}\n",
       "\n",
       ".xr-var-dtype {\n",
       "  grid-column: 3;\n",
       "  text-align: right;\n",
       "  color: var(--xr-font-color2);\n",
       "}\n",
       "\n",
       ".xr-var-preview {\n",
       "  grid-column: 4;\n",
       "}\n",
       "\n",
       ".xr-index-preview {\n",
       "  grid-column: 2 / 5;\n",
       "  color: var(--xr-font-color2);\n",
       "}\n",
       "\n",
       ".xr-var-name,\n",
       ".xr-var-dims,\n",
       ".xr-var-dtype,\n",
       ".xr-preview,\n",
       ".xr-attrs dt {\n",
       "  white-space: nowrap;\n",
       "  overflow: hidden;\n",
       "  text-overflow: ellipsis;\n",
       "  padding-right: 10px;\n",
       "}\n",
       "\n",
       ".xr-var-name:hover,\n",
       ".xr-var-dims:hover,\n",
       ".xr-var-dtype:hover,\n",
       ".xr-attrs dt:hover {\n",
       "  overflow: visible;\n",
       "  width: auto;\n",
       "  z-index: 1;\n",
       "}\n",
       "\n",
       ".xr-var-attrs,\n",
       ".xr-var-data,\n",
       ".xr-index-data {\n",
       "  display: none;\n",
       "  border-top: 2px dotted var(--xr-background-color);\n",
       "  padding-bottom: 20px !important;\n",
       "  padding-top: 10px !important;\n",
       "}\n",
       "\n",
       ".xr-var-attrs-in + label,\n",
       ".xr-var-data-in + label,\n",
       ".xr-index-data-in + label {\n",
       "  padding: 0 1px;\n",
       "}\n",
       "\n",
       ".xr-var-attrs-in:checked ~ .xr-var-attrs,\n",
       ".xr-var-data-in:checked ~ .xr-var-data,\n",
       ".xr-index-data-in:checked ~ .xr-index-data {\n",
       "  display: block;\n",
       "}\n",
       "\n",
       ".xr-var-data > table {\n",
       "  float: right;\n",
       "}\n",
       "\n",
       ".xr-var-data > pre,\n",
       ".xr-index-data > pre,\n",
       ".xr-var-data > table > tbody > tr {\n",
       "  background-color: transparent !important;\n",
       "}\n",
       "\n",
       ".xr-var-name span,\n",
       ".xr-var-data,\n",
       ".xr-index-name div,\n",
       ".xr-index-data,\n",
       ".xr-attrs {\n",
       "  padding-left: 25px !important;\n",
       "}\n",
       "\n",
       ".xr-attrs,\n",
       ".xr-var-attrs,\n",
       ".xr-var-data,\n",
       ".xr-index-data {\n",
       "  grid-column: 1 / -1;\n",
       "}\n",
       "\n",
       "dl.xr-attrs {\n",
       "  padding: 0;\n",
       "  margin: 0;\n",
       "  display: grid;\n",
       "  grid-template-columns: 125px auto;\n",
       "}\n",
       "\n",
       ".xr-attrs dt,\n",
       ".xr-attrs dd {\n",
       "  padding: 0;\n",
       "  margin: 0;\n",
       "  float: left;\n",
       "  padding-right: 10px;\n",
       "  width: auto;\n",
       "}\n",
       "\n",
       ".xr-attrs dt {\n",
       "  font-weight: normal;\n",
       "  grid-column: 1;\n",
       "}\n",
       "\n",
       ".xr-attrs dt:hover span {\n",
       "  display: inline-block;\n",
       "  background: var(--xr-background-color);\n",
       "  padding-right: 10px;\n",
       "}\n",
       "\n",
       ".xr-attrs dd {\n",
       "  grid-column: 2;\n",
       "  white-space: pre-wrap;\n",
       "  word-break: break-all;\n",
       "}\n",
       "\n",
       ".xr-icon-database,\n",
       ".xr-icon-file-text2,\n",
       ".xr-no-icon {\n",
       "  display: inline-block;\n",
       "  vertical-align: middle;\n",
       "  width: 1em;\n",
       "  height: 1.5em !important;\n",
       "  stroke-width: 0;\n",
       "  stroke: currentColor;\n",
       "  fill: currentColor;\n",
       "}\n",
       "\n",
       ".xr-var-attrs-in:checked + label > .xr-icon-file-text2,\n",
       ".xr-var-data-in:checked + label > .xr-icon-database,\n",
       ".xr-index-data-in:checked + label > .xr-icon-database {\n",
       "  color: var(--xr-font-color0);\n",
       "  filter: drop-shadow(1px 1px 5px var(--xr-font-color2));\n",
       "  stroke-width: 0.8px;\n",
       "}\n",
       "</style><pre class='xr-text-repr-fallback'>&lt;xarray.DataArray &#x27;2t&#x27; (time: 745400, lat: 21, lon: 41)&gt; Size: 3GB\n",
       "[641789400 values with dtype=float32]\n",
       "Coordinates:\n",
       "  * time     (time) datetime64[ns] 6MB 1940-01-01 ... 2024-12-31T23:00:00\n",
       "  * lon      (lon) float64 328B 79.0 79.25 79.5 79.75 ... 88.25 88.5 88.75 89.0\n",
       "  * lat      (lat) float64 168B 31.0 30.75 30.5 30.25 ... 26.75 26.5 26.25 26.0\n",
       "Attributes:\n",
       "    long_name:  2 metre temperature\n",
       "    units:      K\n",
       "    code:       167\n",
       "    table:      128</pre><div class='xr-wrap' style='display:none'><div class='xr-header'><div class='xr-obj-type'>xarray.DataArray</div><div class='xr-array-name'>'2t'</div><ul class='xr-dim-list'><li><span class='xr-has-index'>time</span>: 745400</li><li><span class='xr-has-index'>lat</span>: 21</li><li><span class='xr-has-index'>lon</span>: 41</li></ul></div><ul class='xr-sections'><li class='xr-section-item'><div class='xr-array-wrap'><input id='section-9cadb2c7-39cf-4428-b79e-914496e867f3' class='xr-array-in' type='checkbox' checked><label for='section-9cadb2c7-39cf-4428-b79e-914496e867f3' title='Show/hide data repr'><svg class='icon xr-icon-database'><use xlink:href='#icon-database'></use></svg></label><div class='xr-array-preview xr-preview'><span>...</span></div><div class='xr-array-data'><pre>[641789400 values with dtype=float32]</pre></div></div></li><li class='xr-section-item'><input id='section-4f4a4af3-edf8-4339-8254-608bbf7214e5' class='xr-section-summary-in' type='checkbox'  checked><label for='section-4f4a4af3-edf8-4339-8254-608bbf7214e5' class='xr-section-summary' >Coordinates: <span>(3)</span></label><div class='xr-section-inline-details'></div><div class='xr-section-details'><ul class='xr-var-list'><li class='xr-var-item'><div class='xr-var-name'><span class='xr-has-index'>time</span></div><div class='xr-var-dims'>(time)</div><div class='xr-var-dtype'>datetime64[ns]</div><div class='xr-var-preview xr-preview'>1940-01-01 ... 2024-12-31T23:00:00</div><input id='attrs-af0f4d51-0e8a-4ac8-9038-f949dac8d178' class='xr-var-attrs-in' type='checkbox' disabled><label for='attrs-af0f4d51-0e8a-4ac8-9038-f949dac8d178' title='Show/Hide attributes'><svg class='icon xr-icon-file-text2'><use xlink:href='#icon-file-text2'></use></svg></label><input id='data-b466751d-1400-4413-9241-56f3a99ed89a' class='xr-var-data-in' type='checkbox'><label for='data-b466751d-1400-4413-9241-56f3a99ed89a' title='Show/Hide data repr'><svg class='icon xr-icon-database'><use xlink:href='#icon-database'></use></svg></label><div class='xr-var-attrs'><dl class='xr-attrs'></dl></div><div class='xr-var-data'><pre>array([&#x27;1940-01-01T00:00:00.000000000&#x27;, &#x27;1940-01-01T01:00:00.000000000&#x27;,\n",
       "       &#x27;1940-01-01T02:00:00.000000000&#x27;, ..., &#x27;2024-12-31T21:00:00.000000000&#x27;,\n",
       "       &#x27;2024-12-31T22:00:00.000000000&#x27;, &#x27;2024-12-31T23:00:00.000000000&#x27;],\n",
       "      shape=(745400,), dtype=&#x27;datetime64[ns]&#x27;)</pre></div></li><li class='xr-var-item'><div class='xr-var-name'><span class='xr-has-index'>lon</span></div><div class='xr-var-dims'>(lon)</div><div class='xr-var-dtype'>float64</div><div class='xr-var-preview xr-preview'>79.0 79.25 79.5 ... 88.5 88.75 89.0</div><input id='attrs-f2ea41ae-0ded-4a99-8d7b-3088e19aed38' class='xr-var-attrs-in' type='checkbox' ><label for='attrs-f2ea41ae-0ded-4a99-8d7b-3088e19aed38' title='Show/Hide attributes'><svg class='icon xr-icon-file-text2'><use xlink:href='#icon-file-text2'></use></svg></label><input id='data-6da67cdc-2d35-4de0-b02c-d0cc27cd57db' class='xr-var-data-in' type='checkbox'><label for='data-6da67cdc-2d35-4de0-b02c-d0cc27cd57db' title='Show/Hide data repr'><svg class='icon xr-icon-database'><use xlink:href='#icon-database'></use></svg></label><div class='xr-var-attrs'><dl class='xr-attrs'><dt><span>standard_name :</span></dt><dd>longitude</dd><dt><span>long_name :</span></dt><dd>longitude</dd><dt><span>units :</span></dt><dd>degrees_east</dd><dt><span>axis :</span></dt><dd>X</dd></dl></div><div class='xr-var-data'><pre>array([79.  , 79.25, 79.5 , 79.75, 80.  , 80.25, 80.5 , 80.75, 81.  , 81.25,\n",
       "       81.5 , 81.75, 82.  , 82.25, 82.5 , 82.75, 83.  , 83.25, 83.5 , 83.75,\n",
       "       84.  , 84.25, 84.5 , 84.75, 85.  , 85.25, 85.5 , 85.75, 86.  , 86.25,\n",
       "       86.5 , 86.75, 87.  , 87.25, 87.5 , 87.75, 88.  , 88.25, 88.5 , 88.75,\n",
       "       89.  ])</pre></div></li><li class='xr-var-item'><div class='xr-var-name'><span class='xr-has-index'>lat</span></div><div class='xr-var-dims'>(lat)</div><div class='xr-var-dtype'>float64</div><div class='xr-var-preview xr-preview'>31.0 30.75 30.5 ... 26.5 26.25 26.0</div><input id='attrs-2464b710-8da5-4896-81f1-5b9a12e793ec' class='xr-var-attrs-in' type='checkbox' ><label for='attrs-2464b710-8da5-4896-81f1-5b9a12e793ec' title='Show/Hide attributes'><svg class='icon xr-icon-file-text2'><use xlink:href='#icon-file-text2'></use></svg></label><input id='data-006a4fd1-11e3-4e03-bfc0-efbc3acb32aa' class='xr-var-data-in' type='checkbox'><label for='data-006a4fd1-11e3-4e03-bfc0-efbc3acb32aa' title='Show/Hide data repr'><svg class='icon xr-icon-database'><use xlink:href='#icon-database'></use></svg></label><div class='xr-var-attrs'><dl class='xr-attrs'><dt><span>standard_name :</span></dt><dd>latitude</dd><dt><span>long_name :</span></dt><dd>latitude</dd><dt><span>units :</span></dt><dd>degrees_north</dd><dt><span>axis :</span></dt><dd>Y</dd></dl></div><div class='xr-var-data'><pre>array([31.  , 30.75, 30.5 , 30.25, 30.  , 29.75, 29.5 , 29.25, 29.  , 28.75,\n",
       "       28.5 , 28.25, 28.  , 27.75, 27.5 , 27.25, 27.  , 26.75, 26.5 , 26.25,\n",
       "       26.  ])</pre></div></li></ul></div></li><li class='xr-section-item'><input id='section-9eb71511-9058-4534-8041-75ee68fe5da4' class='xr-section-summary-in' type='checkbox'  ><label for='section-9eb71511-9058-4534-8041-75ee68fe5da4' class='xr-section-summary' >Indexes: <span>(3)</span></label><div class='xr-section-inline-details'></div><div class='xr-section-details'><ul class='xr-var-list'><li class='xr-var-item'><div class='xr-index-name'><div>time</div></div><div class='xr-index-preview'>PandasIndex</div><input type='checkbox' disabled/><label></label><input id='index-23209a34-29bb-4052-9030-8b0d8e8cf317' class='xr-index-data-in' type='checkbox'/><label for='index-23209a34-29bb-4052-9030-8b0d8e8cf317' title='Show/Hide index repr'><svg class='icon xr-icon-database'><use xlink:href='#icon-database'></use></svg></label><div class='xr-index-data'><pre>PandasIndex(DatetimeIndex([&#x27;1940-01-01 00:00:00&#x27;, &#x27;1940-01-01 01:00:00&#x27;,\n",
       "               &#x27;1940-01-01 02:00:00&#x27;, &#x27;1940-01-01 03:00:00&#x27;,\n",
       "               &#x27;1940-01-01 04:00:00&#x27;, &#x27;1940-01-01 05:00:00&#x27;,\n",
       "               &#x27;1940-01-01 06:00:00&#x27;, &#x27;1940-01-01 07:00:00&#x27;,\n",
       "               &#x27;1940-01-01 08:00:00&#x27;, &#x27;1940-01-01 09:00:00&#x27;,\n",
       "               ...\n",
       "               &#x27;2024-12-31 14:00:00&#x27;, &#x27;2024-12-31 15:00:00&#x27;,\n",
       "               &#x27;2024-12-31 16:00:00&#x27;, &#x27;2024-12-31 17:00:00&#x27;,\n",
       "               &#x27;2024-12-31 18:00:00&#x27;, &#x27;2024-12-31 19:00:00&#x27;,\n",
       "               &#x27;2024-12-31 20:00:00&#x27;, &#x27;2024-12-31 21:00:00&#x27;,\n",
       "               &#x27;2024-12-31 22:00:00&#x27;, &#x27;2024-12-31 23:00:00&#x27;],\n",
       "              dtype=&#x27;datetime64[ns]&#x27;, name=&#x27;time&#x27;, length=745400, freq=None))</pre></div></li><li class='xr-var-item'><div class='xr-index-name'><div>lon</div></div><div class='xr-index-preview'>PandasIndex</div><input type='checkbox' disabled/><label></label><input id='index-c1b0813a-b702-49a8-8f6e-c9e033f4c50a' class='xr-index-data-in' type='checkbox'/><label for='index-c1b0813a-b702-49a8-8f6e-c9e033f4c50a' title='Show/Hide index repr'><svg class='icon xr-icon-database'><use xlink:href='#icon-database'></use></svg></label><div class='xr-index-data'><pre>PandasIndex(Index([ 79.0, 79.25,  79.5, 79.75,  80.0, 80.25,  80.5, 80.75,  81.0, 81.25,\n",
       "        81.5, 81.75,  82.0, 82.25,  82.5, 82.75,  83.0, 83.25,  83.5, 83.75,\n",
       "        84.0, 84.25,  84.5, 84.75,  85.0, 85.25,  85.5, 85.75,  86.0, 86.25,\n",
       "        86.5, 86.75,  87.0, 87.25,  87.5, 87.75,  88.0, 88.25,  88.5, 88.75,\n",
       "        89.0],\n",
       "      dtype=&#x27;float64&#x27;, name=&#x27;lon&#x27;))</pre></div></li><li class='xr-var-item'><div class='xr-index-name'><div>lat</div></div><div class='xr-index-preview'>PandasIndex</div><input type='checkbox' disabled/><label></label><input id='index-0df3e73e-0f9b-45f6-a21f-5746299b4b95' class='xr-index-data-in' type='checkbox'/><label for='index-0df3e73e-0f9b-45f6-a21f-5746299b4b95' title='Show/Hide index repr'><svg class='icon xr-icon-database'><use xlink:href='#icon-database'></use></svg></label><div class='xr-index-data'><pre>PandasIndex(Index([ 31.0, 30.75,  30.5, 30.25,  30.0, 29.75,  29.5, 29.25,  29.0, 28.75,\n",
       "        28.5, 28.25,  28.0, 27.75,  27.5, 27.25,  27.0, 26.75,  26.5, 26.25,\n",
       "        26.0],\n",
       "      dtype=&#x27;float64&#x27;, name=&#x27;lat&#x27;))</pre></div></li></ul></div></li><li class='xr-section-item'><input id='section-1685093f-f8b8-4750-89ef-94c9f9448d05' class='xr-section-summary-in' type='checkbox'  checked><label for='section-1685093f-f8b8-4750-89ef-94c9f9448d05' class='xr-section-summary' >Attributes: <span>(4)</span></label><div class='xr-section-inline-details'></div><div class='xr-section-details'><dl class='xr-attrs'><dt><span>long_name :</span></dt><dd>2 metre temperature</dd><dt><span>units :</span></dt><dd>K</dd><dt><span>code :</span></dt><dd>167</dd><dt><span>table :</span></dt><dd>128</dd></dl></div></li></ul></div></div>"
      ],
      "text/plain": [
       "<xarray.DataArray '2t' (time: 745400, lat: 21, lon: 41)> Size: 3GB\n",
       "[641789400 values with dtype=float32]\n",
       "Coordinates:\n",
       "  * time     (time) datetime64[ns] 6MB 1940-01-01 ... 2024-12-31T23:00:00\n",
       "  * lon      (lon) float64 328B 79.0 79.25 79.5 79.75 ... 88.25 88.5 88.75 89.0\n",
       "  * lat      (lat) float64 168B 31.0 30.75 30.5 30.25 ... 26.75 26.5 26.25 26.0\n",
       "Attributes:\n",
       "    long_name:  2 metre temperature\n",
       "    units:      K\n",
       "    code:       167\n",
       "    table:      128"
      ]
     },
     "execution_count": 4,
     "metadata": {},
     "output_type": "execute_result"
    }
   ],
   "source": [
    "dataset = ds.copy()\n",
    "\n",
    "# Changing the time to datetime format and extracting just the temperature values (saved as 2t for 2m Temperature)\n",
    "dataset['time'] = pd.to_datetime(dataset['time'].values) \n",
    "time_data = dataset['2t']\n",
    "\n",
    "time_data"
   ]
  },
  {
   "cell_type": "code",
   "execution_count": 5,
   "id": "699c0472",
   "metadata": {},
   "outputs": [
    {
     "data": {
      "text/html": [
       "<div>\n",
       "<style scoped>\n",
       "    .dataframe tbody tr th:only-of-type {\n",
       "        vertical-align: middle;\n",
       "    }\n",
       "\n",
       "    .dataframe tbody tr th {\n",
       "        vertical-align: top;\n",
       "    }\n",
       "\n",
       "    .dataframe thead th {\n",
       "        text-align: right;\n",
       "    }\n",
       "</style>\n",
       "<table border=\"1\" class=\"dataframe\">\n",
       "  <thead>\n",
       "    <tr style=\"text-align: right;\">\n",
       "      <th></th>\n",
       "      <th>time</th>\n",
       "      <th>area_avg_temp</th>\n",
       "    </tr>\n",
       "  </thead>\n",
       "  <tbody>\n",
       "    <tr>\n",
       "      <th>0</th>\n",
       "      <td>1940-01-01 00:00:00</td>\n",
       "      <td>267.596619</td>\n",
       "    </tr>\n",
       "    <tr>\n",
       "      <th>1</th>\n",
       "      <td>1940-01-01 01:00:00</td>\n",
       "      <td>267.288513</td>\n",
       "    </tr>\n",
       "    <tr>\n",
       "      <th>2</th>\n",
       "      <td>1940-01-01 02:00:00</td>\n",
       "      <td>268.300842</td>\n",
       "    </tr>\n",
       "    <tr>\n",
       "      <th>3</th>\n",
       "      <td>1940-01-01 03:00:00</td>\n",
       "      <td>272.103973</td>\n",
       "    </tr>\n",
       "    <tr>\n",
       "      <th>4</th>\n",
       "      <td>1940-01-01 04:00:00</td>\n",
       "      <td>275.582275</td>\n",
       "    </tr>\n",
       "    <tr>\n",
       "      <th>...</th>\n",
       "      <td>...</td>\n",
       "      <td>...</td>\n",
       "    </tr>\n",
       "    <tr>\n",
       "      <th>745395</th>\n",
       "      <td>2024-12-31 19:00:00</td>\n",
       "      <td>271.555908</td>\n",
       "    </tr>\n",
       "    <tr>\n",
       "      <th>745396</th>\n",
       "      <td>2024-12-31 20:00:00</td>\n",
       "      <td>270.853851</td>\n",
       "    </tr>\n",
       "    <tr>\n",
       "      <th>745397</th>\n",
       "      <td>2024-12-31 21:00:00</td>\n",
       "      <td>270.584167</td>\n",
       "    </tr>\n",
       "    <tr>\n",
       "      <th>745398</th>\n",
       "      <td>2024-12-31 22:00:00</td>\n",
       "      <td>270.584717</td>\n",
       "    </tr>\n",
       "    <tr>\n",
       "      <th>745399</th>\n",
       "      <td>2024-12-31 23:00:00</td>\n",
       "      <td>270.515503</td>\n",
       "    </tr>\n",
       "  </tbody>\n",
       "</table>\n",
       "<p>745400 rows × 2 columns</p>\n",
       "</div>"
      ],
      "text/plain": [
       "                      time  area_avg_temp\n",
       "0      1940-01-01 00:00:00     267.596619\n",
       "1      1940-01-01 01:00:00     267.288513\n",
       "2      1940-01-01 02:00:00     268.300842\n",
       "3      1940-01-01 03:00:00     272.103973\n",
       "4      1940-01-01 04:00:00     275.582275\n",
       "...                    ...            ...\n",
       "745395 2024-12-31 19:00:00     271.555908\n",
       "745396 2024-12-31 20:00:00     270.853851\n",
       "745397 2024-12-31 21:00:00     270.584167\n",
       "745398 2024-12-31 22:00:00     270.584717\n",
       "745399 2024-12-31 23:00:00     270.515503\n",
       "\n",
       "[745400 rows x 2 columns]"
      ]
     },
     "execution_count": 5,
     "metadata": {},
     "output_type": "execute_result"
    }
   ],
   "source": [
    "#Removing all -99.9 values from earlier\n",
    "time_data_masked = time_data.where(time_data != -99.9)  \n",
    "\n",
    "#Averaging the values for each gridded area giving us avgerage temp values for each grid\n",
    "area_avg_time = time_data_masked.mean(dim=['lat', 'lon']) \n",
    "\n",
    "#Converting avg temp values to DataFrame\n",
    "df_area_avg = area_avg_time.to_dataframe(name='area_avg_temp').reset_index()\n",
    "df_area_avg = df_area_avg.dropna(subset=['area_avg_temp'])\n",
    "df_area_avg"
   ]
  },
  {
   "cell_type": "code",
   "execution_count": 6,
   "id": "bf1da627",
   "metadata": {},
   "outputs": [
    {
     "data": {
      "text/html": [
       "<div>\n",
       "<style scoped>\n",
       "    .dataframe tbody tr th:only-of-type {\n",
       "        vertical-align: middle;\n",
       "    }\n",
       "\n",
       "    .dataframe tbody tr th {\n",
       "        vertical-align: top;\n",
       "    }\n",
       "\n",
       "    .dataframe thead th {\n",
       "        text-align: right;\n",
       "    }\n",
       "</style>\n",
       "<table border=\"1\" class=\"dataframe\">\n",
       "  <thead>\n",
       "    <tr style=\"text-align: right;\">\n",
       "      <th></th>\n",
       "      <th>year</th>\n",
       "      <th>month</th>\n",
       "      <th>monthly_temperature_K</th>\n",
       "      <th>monthly_temperature_C</th>\n",
       "    </tr>\n",
       "  </thead>\n",
       "  <tbody>\n",
       "    <tr>\n",
       "      <th>0</th>\n",
       "      <td>1940</td>\n",
       "      <td>1</td>\n",
       "      <td>272.830383</td>\n",
       "      <td>-0.319611</td>\n",
       "    </tr>\n",
       "    <tr>\n",
       "      <th>1</th>\n",
       "      <td>1940</td>\n",
       "      <td>2</td>\n",
       "      <td>272.948334</td>\n",
       "      <td>-0.201660</td>\n",
       "    </tr>\n",
       "    <tr>\n",
       "      <th>2</th>\n",
       "      <td>1940</td>\n",
       "      <td>3</td>\n",
       "      <td>275.880951</td>\n",
       "      <td>2.730957</td>\n",
       "    </tr>\n",
       "    <tr>\n",
       "      <th>3</th>\n",
       "      <td>1940</td>\n",
       "      <td>4</td>\n",
       "      <td>282.839996</td>\n",
       "      <td>9.690002</td>\n",
       "    </tr>\n",
       "    <tr>\n",
       "      <th>4</th>\n",
       "      <td>1940</td>\n",
       "      <td>5</td>\n",
       "      <td>287.461823</td>\n",
       "      <td>14.311829</td>\n",
       "    </tr>\n",
       "    <tr>\n",
       "      <th>...</th>\n",
       "      <td>...</td>\n",
       "      <td>...</td>\n",
       "      <td>...</td>\n",
       "      <td>...</td>\n",
       "    </tr>\n",
       "    <tr>\n",
       "      <th>1015</th>\n",
       "      <td>2024</td>\n",
       "      <td>8</td>\n",
       "      <td>291.154724</td>\n",
       "      <td>18.004730</td>\n",
       "    </tr>\n",
       "    <tr>\n",
       "      <th>1016</th>\n",
       "      <td>2024</td>\n",
       "      <td>9</td>\n",
       "      <td>289.970917</td>\n",
       "      <td>16.820923</td>\n",
       "    </tr>\n",
       "    <tr>\n",
       "      <th>1017</th>\n",
       "      <td>2024</td>\n",
       "      <td>10</td>\n",
       "      <td>286.332153</td>\n",
       "      <td>13.182159</td>\n",
       "    </tr>\n",
       "    <tr>\n",
       "      <th>1018</th>\n",
       "      <td>2024</td>\n",
       "      <td>11</td>\n",
       "      <td>281.473572</td>\n",
       "      <td>8.323578</td>\n",
       "    </tr>\n",
       "    <tr>\n",
       "      <th>1019</th>\n",
       "      <td>2024</td>\n",
       "      <td>12</td>\n",
       "      <td>276.347839</td>\n",
       "      <td>3.197845</td>\n",
       "    </tr>\n",
       "  </tbody>\n",
       "</table>\n",
       "<p>1020 rows × 4 columns</p>\n",
       "</div>"
      ],
      "text/plain": [
       "      year  month  monthly_temperature_K  monthly_temperature_C\n",
       "0     1940      1             272.830383              -0.319611\n",
       "1     1940      2             272.948334              -0.201660\n",
       "2     1940      3             275.880951               2.730957\n",
       "3     1940      4             282.839996               9.690002\n",
       "4     1940      5             287.461823              14.311829\n",
       "...    ...    ...                    ...                    ...\n",
       "1015  2024      8             291.154724              18.004730\n",
       "1016  2024      9             289.970917              16.820923\n",
       "1017  2024     10             286.332153              13.182159\n",
       "1018  2024     11             281.473572               8.323578\n",
       "1019  2024     12             276.347839               3.197845\n",
       "\n",
       "[1020 rows x 4 columns]"
      ]
     },
     "execution_count": 6,
     "metadata": {},
     "output_type": "execute_result"
    }
   ],
   "source": [
    "#Getting the year and month columns from the date column\n",
    "df_area_avg['year'] = df_area_avg['time'].dt.year\n",
    "df_area_avg['month'] = df_area_avg['time'].dt.month\n",
    "\n",
    "# #Getting the avg temp for each month of each year\n",
    "df_monthly_temp = df_area_avg.groupby(['year', 'month'])['area_avg_temp'].mean().reset_index()\n",
    "df_monthly_temp.rename(columns={'area_avg_temp': 'monthly_temperature_K'}, inplace=True)\n",
    "\n",
    "# #Getting temperatures in C as well\n",
    "df_monthly_temp['monthly_temperature_C'] = df_monthly_temp['monthly_temperature_K'] - 273.15\n",
    "df_monthly_temp"
   ]
  },
  {
   "cell_type": "code",
   "execution_count": null,
   "id": "8f38aca0",
   "metadata": {},
   "outputs": [
    {
     "data": {
      "application/vnd.plotly.v1+json": {
       "config": {
        "plotlyServerURL": "https://plot.ly"
       },
       "data": [
        {
         "hovertemplate": "<b>Year:</b> %{text}<br><b>Month:</b> %{x}<br><b>Temp:</b> %{y:.2f} °C<extra></extra>",
         "line": {
          "color": "grey",
          "width": 1.5
         },
         "mode": "lines",
         "name": "1940 – 2019",
         "opacity": 0.3,
         "showlegend": true,
         "text": [
          "1940",
          "1940",
          "1940",
          "1940",
          "1940",
          "1940",
          "1940",
          "1940",
          "1940",
          "1940",
          "1940",
          "1940"
         ],
         "type": "scatter",
         "x": [
          "Jan",
          "Feb",
          "Mar",
          "Apr",
          "May",
          "Jun",
          "Jul",
          "Aug",
          "Sep",
          "Oct",
          "Nov",
          "Dec"
         ],
         "y": {
          "bdata": "AKSjvgCATr4AyC5AQAobQUD9ZEEgn4hBQF+DQUAgeUEAuFdB4IojQYDorUAAiAU/",
          "dtype": "f4"
         }
        },
        {
         "hovertemplate": "<b>Year:</b> %{text}<br><b>Month:</b> %{x}<br><b>Temp:</b> %{y:.2f} °C<extra></extra>",
         "line": {
          "color": "grey",
          "width": 1.5
         },
         "mode": "lines",
         "opacity": 0.3,
         "showlegend": false,
         "text": [
          "1941",
          "1941",
          "1941",
          "1941",
          "1941",
          "1941",
          "1941",
          "1941",
          "1941",
          "1941",
          "1941",
          "1941"
         ],
         "type": "scatter",
         "x": [
          "Jan",
          "Feb",
          "Mar",
          "Apr",
          "May",
          "Jun",
          "Jul",
          "Aug",
          "Sep",
          "Oct",
          "Nov",
          "Dec"
         ],
         "y": {
          "bdata": "AEShv4AoDkAAg7VAAFQZQQBDYEFgE3ZB8KSBQeBqd0EASVZBoMENQcBJn0CApDtA",
          "dtype": "f4"
         }
        },
        {
         "hovertemplate": "<b>Year:</b> %{text}<br><b>Month:</b> %{x}<br><b>Temp:</b> %{y:.2f} °C<extra></extra>",
         "line": {
          "color": "grey",
          "width": 1.5
         },
         "mode": "lines",
         "opacity": 0.3,
         "showlegend": false,
         "text": [
          "1942",
          "1942",
          "1942",
          "1942",
          "1942",
          "1942",
          "1942",
          "1942",
          "1942",
          "1942",
          "1942",
          "1942"
         ],
         "type": "scatter",
         "x": [
          "Jan",
          "Feb",
          "Mar",
          "Apr",
          "May",
          "Jun",
          "Jul",
          "Aug",
          "Sep",
          "Oct",
          "Nov",
          "Dec"
         ],
         "y": {
          "bdata": "AAROvwBOOT8AOLZAYIcwQcDcdUEAzYhBQBF2QWAGcUFgtFNBoEAKQQD+jEAAvlI/",
          "dtype": "f4"
         }
        },
        {
         "hovertemplate": "<b>Year:</b> %{text}<br><b>Month:</b> %{x}<br><b>Temp:</b> %{y:.2f} °C<extra></extra>",
         "line": {
          "color": "grey",
          "width": 1.5
         },
         "mode": "lines",
         "opacity": 0.3,
         "showlegend": false,
         "text": [
          "1943",
          "1943",
          "1943",
          "1943",
          "1943",
          "1943",
          "1943",
          "1943",
          "1943",
          "1943",
          "1943",
          "1943"
         ],
         "type": "scatter",
         "x": [
          "Jan",
          "Feb",
          "Mar",
          "Apr",
          "May",
          "Jun",
          "Jul",
          "Aug",
          "Sep",
          "Oct",
          "Nov",
          "Dec"
         ],
         "y": {
          "bdata": "ANZHvwCVMEBAd9tAoLIBQWDqWkFgd3tBoAB4QUAPaUFgL1tBADURQQAzu0CAphJA",
          "dtype": "f4"
         }
        },
        {
         "hovertemplate": "<b>Year:</b> %{text}<br><b>Month:</b> %{x}<br><b>Temp:</b> %{y:.2f} °C<extra></extra>",
         "line": {
          "color": "grey",
          "width": 1.5
         },
         "mode": "lines",
         "opacity": 0.3,
         "showlegend": false,
         "text": [
          "1944",
          "1944",
          "1944",
          "1944",
          "1944",
          "1944",
          "1944",
          "1944",
          "1944",
          "1944",
          "1944",
          "1944"
         ],
         "type": "scatter",
         "x": [
          "Jan",
          "Feb",
          "Mar",
          "Apr",
          "May",
          "Jun",
          "Jul",
          "Aug",
          "Sep",
          "Oct",
          "Nov",
          "Dec"
         ],
         "y": {
          "bdata": "AOIdvwDo0D5A6rFAwC0SQSAOfkEQoYpB4OiCQSD1f0FgX2RBgDktQQBxxkCAs0lA",
          "dtype": "f4"
         }
        },
        {
         "hovertemplate": "<b>Year:</b> %{text}<br><b>Month:</b> %{x}<br><b>Temp:</b> %{y:.2f} °C<extra></extra>",
         "line": {
          "color": "grey",
          "width": 1.5
         },
         "mode": "lines",
         "opacity": 0.3,
         "showlegend": false,
         "text": [
          "1945",
          "1945",
          "1945",
          "1945",
          "1945",
          "1945",
          "1945",
          "1945",
          "1945",
          "1945",
          "1945",
          "1945"
         ],
         "type": "scatter",
         "x": [
          "Jan",
          "Feb",
          "Mar",
          "Apr",
          "May",
          "Jun",
          "Jul",
          "Aug",
          "Sep",
          "Oct",
          "Nov",
          "Dec"
         ],
         "y": {
          "bdata": "AJIzwABQSL8Awb5AoHQSQeABWUFwDItBsCmFQXBZgEFguGxBYBUJQQAO/T8ANKa/",
          "dtype": "f4"
         }
        },
        {
         "hovertemplate": "<b>Year:</b> %{text}<br><b>Month:</b> %{x}<br><b>Temp:</b> %{y:.2f} °C<extra></extra>",
         "line": {
          "color": "grey",
          "width": 1.5
         },
         "mode": "lines",
         "opacity": 0.3,
         "showlegend": false,
         "text": [
          "1946",
          "1946",
          "1946",
          "1946",
          "1946",
          "1946",
          "1946",
          "1946",
          "1946",
          "1946",
          "1946",
          "1946"
         ],
         "type": "scatter",
         "x": [
          "Jan",
          "Feb",
          "Mar",
          "Apr",
          "May",
          "Jun",
          "Jul",
          "Aug",
          "Sep",
          "Oct",
          "Nov",
          "Dec"
         ],
         "y": {
          "bdata": "AI+OP4CaYUCA9LNAAH0uQWAyb0HgBZBB8PaIQcBYhEEARW1BoJoYQQDFtEAAW5s/",
          "dtype": "f4"
         }
        },
        {
         "hovertemplate": "<b>Year:</b> %{text}<br><b>Month:</b> %{x}<br><b>Temp:</b> %{y:.2f} °C<extra></extra>",
         "line": {
          "color": "grey",
          "width": 1.5
         },
         "mode": "lines",
         "opacity": 0.3,
         "showlegend": false,
         "text": [
          "1947",
          "1947",
          "1947",
          "1947",
          "1947",
          "1947",
          "1947",
          "1947",
          "1947",
          "1947",
          "1947",
          "1947"
         ],
         "type": "scatter",
         "x": [
          "Jan",
          "Feb",
          "Mar",
          "Apr",
          "May",
          "Jun",
          "Jul",
          "Aug",
          "Sep",
          "Oct",
          "Nov",
          "Dec"
         ],
         "y": {
          "bdata": "AATUvwAYlz8Aw9tAIMdLQYAadUFgv49B0DqFQdCCgEHgLG9BgDQnQcDtqkAAWu0/",
          "dtype": "f4"
         }
        },
        {
         "hovertemplate": "<b>Year:</b> %{text}<br><b>Month:</b> %{x}<br><b>Temp:</b> %{y:.2f} °C<extra></extra>",
         "line": {
          "color": "grey",
          "width": 1.5
         },
         "mode": "lines",
         "opacity": 0.3,
         "showlegend": false,
         "text": [
          "1948",
          "1948",
          "1948",
          "1948",
          "1948",
          "1948",
          "1948",
          "1948",
          "1948",
          "1948",
          "1948",
          "1948"
         ],
         "type": "scatter",
         "x": [
          "Jan",
          "Feb",
          "Mar",
          "Apr",
          "May",
          "Jun",
          "Jul",
          "Aug",
          "Sep",
          "Oct",
          "Nov",
          "Dec"
         ],
         "y": {
          "bdata": "AESHvgA4mz4Ao6NA4Ik+QQD8eEEQB5NBsBGEQUA8fkHg4GlBgEEeQQDurEAAWEM+",
          "dtype": "f4"
         }
        },
        {
         "hovertemplate": "<b>Year:</b> %{text}<br><b>Month:</b> %{x}<br><b>Temp:</b> %{y:.2f} °C<extra></extra>",
         "line": {
          "color": "grey",
          "width": 1.5
         },
         "mode": "lines",
         "opacity": 0.3,
         "showlegend": false,
         "text": [
          "1949",
          "1949",
          "1949",
          "1949",
          "1949",
          "1949",
          "1949",
          "1949",
          "1949",
          "1949",
          "1949",
          "1949"
         ],
         "type": "scatter",
         "x": [
          "Jan",
          "Feb",
          "Mar",
          "Apr",
          "May",
          "Jun",
          "Jul",
          "Aug",
          "Sep",
          "Oct",
          "Nov",
          "Dec"
         ],
         "y": {
          "bdata": "AMQ8PwD4Gr+Ad4JAQB0YQQBHaUEwSYtBMMGCQYBLeUHAQGZBABY0QQArREAA/H2/",
          "dtype": "f4"
         }
        },
        {
         "hovertemplate": "<b>Year:</b> %{text}<br><b>Month:</b> %{x}<br><b>Temp:</b> %{y:.2f} °C<extra></extra>",
         "line": {
          "color": "grey",
          "width": 1.5
         },
         "mode": "lines",
         "opacity": 0.3,
         "showlegend": false,
         "text": [
          "1950",
          "1950",
          "1950",
          "1950",
          "1950",
          "1950",
          "1950",
          "1950",
          "1950",
          "1950",
          "1950",
          "1950"
         ],
         "type": "scatter",
         "x": [
          "Jan",
          "Feb",
          "Mar",
          "Apr",
          "May",
          "Jun",
          "Jul",
          "Aug",
          "Sep",
          "Oct",
          "Nov",
          "Dec"
         ],
         "y": {
          "bdata": "AOAbPgCYEb4A02JAwM0eQUBIc0Ew5odBoIF9QUC+c0EAKGZBAJ8qQYD+RkAAlCy/",
          "dtype": "f4"
         }
        },
        {
         "hovertemplate": "<b>Year:</b> %{text}<br><b>Month:</b> %{x}<br><b>Temp:</b> %{y:.2f} °C<extra></extra>",
         "line": {
          "color": "grey",
          "width": 1.5
         },
         "mode": "lines",
         "opacity": 0.3,
         "showlegend": false,
         "text": [
          "1951",
          "1951",
          "1951",
          "1951",
          "1951",
          "1951",
          "1951",
          "1951",
          "1951",
          "1951",
          "1951",
          "1951"
         ],
         "type": "scatter",
         "x": [
          "Jan",
          "Feb",
          "Mar",
          "Apr",
          "May",
          "Jun",
          "Jul",
          "Aug",
          "Sep",
          "Oct",
          "Nov",
          "Dec"
         ],
         "y": {
          "bdata": "AG4ZwABsrz7AxZNA4CcAQSCkWUEgdoJBQBaBQZCpgUFA1F9BYEkuQcCvsUAALjo/",
          "dtype": "f4"
         }
        },
        {
         "hovertemplate": "<b>Year:</b> %{text}<br><b>Month:</b> %{x}<br><b>Temp:</b> %{y:.2f} °C<extra></extra>",
         "line": {
          "color": "grey",
          "width": 1.5
         },
         "mode": "lines",
         "opacity": 0.3,
         "showlegend": false,
         "text": [
          "1952",
          "1952",
          "1952",
          "1952",
          "1952",
          "1952",
          "1952",
          "1952",
          "1952",
          "1952",
          "1952",
          "1952"
         ],
         "type": "scatter",
         "x": [
          "Jan",
          "Feb",
          "Mar",
          "Apr",
          "May",
          "Jun",
          "Jul",
          "Aug",
          "Sep",
          "Oct",
          "Nov",
          "Dec"
         ],
         "y": {
          "bdata": "AO2gvwDSFz8ARfA/4LMPQaC9T0GAsHtBcGKCQcCxekEAJWZBYEIfQYCMnEAAeGE+",
          "dtype": "f4"
         }
        },
        {
         "hovertemplate": "<b>Year:</b> %{text}<br><b>Month:</b> %{x}<br><b>Temp:</b> %{y:.2f} °C<extra></extra>",
         "line": {
          "color": "grey",
          "width": 1.5
         },
         "mode": "lines",
         "opacity": 0.3,
         "showlegend": false,
         "text": [
          "1953",
          "1953",
          "1953",
          "1953",
          "1953",
          "1953",
          "1953",
          "1953",
          "1953",
          "1953",
          "1953",
          "1953"
         ],
         "type": "scatter",
         "x": [
          "Jan",
          "Feb",
          "Mar",
          "Apr",
          "May",
          "Jun",
          "Jul",
          "Aug",
          "Sep",
          "Oct",
          "Nov",
          "Dec"
         ],
         "y": {
          "bdata": "gIBhwAB8vj6A6bRAgJsOQcC8TkEgqn1BYOF5QaCyeEFAQV9BAKUSQQBTlkAAP19A",
          "dtype": "f4"
         }
        },
        {
         "hovertemplate": "<b>Year:</b> %{text}<br><b>Month:</b> %{x}<br><b>Temp:</b> %{y:.2f} °C<extra></extra>",
         "line": {
          "color": "grey",
          "width": 1.5
         },
         "mode": "lines",
         "opacity": 0.3,
         "showlegend": false,
         "text": [
          "1954",
          "1954",
          "1954",
          "1954",
          "1954",
          "1954",
          "1954",
          "1954",
          "1954",
          "1954",
          "1954",
          "1954"
         ],
         "type": "scatter",
         "x": [
          "Jan",
          "Feb",
          "Mar",
          "Apr",
          "May",
          "Jun",
          "Jul",
          "Aug",
          "Sep",
          "Oct",
          "Nov",
          "Dec"
         ],
         "y": {
          "bdata": "AFUswAB2/z+ApLpAwFU3QSCzbUGAAodBQGuDQbACgEGATXJBwDUOQYDVi0AAkEA+",
          "dtype": "f4"
         }
        },
        {
         "hovertemplate": "<b>Year:</b> %{text}<br><b>Month:</b> %{x}<br><b>Temp:</b> %{y:.2f} °C<extra></extra>",
         "line": {
          "color": "grey",
          "width": 1.5
         },
         "mode": "lines",
         "opacity": 0.3,
         "showlegend": false,
         "text": [
          "1955",
          "1955",
          "1955",
          "1955",
          "1955",
          "1955",
          "1955",
          "1955",
          "1955",
          "1955",
          "1955",
          "1955"
         ],
         "type": "scatter",
         "x": [
          "Jan",
          "Feb",
          "Mar",
          "Apr",
          "May",
          "Jun",
          "Jul",
          "Aug",
          "Sep",
          "Oct",
          "Nov",
          "Dec"
         ],
         "y": {
          "bdata": "AOpGvwCQ2T8ALu1AgD4QQaANY0EQVoJBYLmAQQAXdEFgampBYMAoQQDv0UAAaK4/",
          "dtype": "f4"
         }
        },
        {
         "hovertemplate": "<b>Year:</b> %{text}<br><b>Month:</b> %{x}<br><b>Temp:</b> %{y:.2f} °C<extra></extra>",
         "line": {
          "color": "grey",
          "width": 1.5
         },
         "mode": "lines",
         "opacity": 0.3,
         "showlegend": false,
         "text": [
          "1956",
          "1956",
          "1956",
          "1956",
          "1956",
          "1956",
          "1956",
          "1956",
          "1956",
          "1956",
          "1956",
          "1956"
         ],
         "type": "scatter",
         "x": [
          "Jan",
          "Feb",
          "Mar",
          "Apr",
          "May",
          "Jun",
          "Jul",
          "Aug",
          "Sep",
          "Oct",
          "Nov",
          "Dec"
         ],
         "y": {
          "bdata": "APyTvgBauD8AHtdAYJdBQdAUhEHQvYZBQN9+QWAWfEGgZ2ZB4DkQQYBLiUAAoMc+",
          "dtype": "f4"
         }
        },
        {
         "hovertemplate": "<b>Year:</b> %{text}<br><b>Month:</b> %{x}<br><b>Temp:</b> %{y:.2f} °C<extra></extra>",
         "line": {
          "color": "grey",
          "width": 1.5
         },
         "mode": "lines",
         "opacity": 0.3,
         "showlegend": false,
         "text": [
          "1957",
          "1957",
          "1957",
          "1957",
          "1957",
          "1957",
          "1957",
          "1957",
          "1957",
          "1957",
          "1957",
          "1957"
         ],
         "type": "scatter",
         "x": [
          "Jan",
          "Feb",
          "Mar",
          "Apr",
          "May",
          "Jun",
          "Jul",
          "Aug",
          "Sep",
          "Oct",
          "Nov",
          "Dec"
         ],
         "y": {
          "bdata": "AJu6vwBQTz7AO5hA4HgsQeAUcEEQp4NBYG+HQeBBgkFA2m5BIBMjQYCrwUAA5wdA",
          "dtype": "f4"
         }
        },
        {
         "hovertemplate": "<b>Year:</b> %{text}<br><b>Month:</b> %{x}<br><b>Temp:</b> %{y:.2f} °C<extra></extra>",
         "line": {
          "color": "grey",
          "width": 1.5
         },
         "mode": "lines",
         "opacity": 0.3,
         "showlegend": false,
         "text": [
          "1958",
          "1958",
          "1958",
          "1958",
          "1958",
          "1958",
          "1958",
          "1958",
          "1958",
          "1958",
          "1958",
          "1958"
         ],
         "type": "scatter",
         "x": [
          "Jan",
          "Feb",
          "Mar",
          "Apr",
          "May",
          "Jun",
          "Jul",
          "Aug",
          "Sep",
          "Oct",
          "Nov",
          "Dec"
         ],
         "y": {
          "bdata": "AKWSPwBsyT9Amc5A4AtHQYB3ckHwkpBBoNOJQYA7gEEAsnhBII48QQBs9kCAWmFA",
          "dtype": "f4"
         }
        },
        {
         "hovertemplate": "<b>Year:</b> %{text}<br><b>Month:</b> %{x}<br><b>Temp:</b> %{y:.2f} °C<extra></extra>",
         "line": {
          "color": "grey",
          "width": 1.5
         },
         "mode": "lines",
         "opacity": 0.3,
         "showlegend": false,
         "text": [
          "1959",
          "1959",
          "1959",
          "1959",
          "1959",
          "1959",
          "1959",
          "1959",
          "1959",
          "1959",
          "1959",
          "1959"
         ],
         "type": "scatter",
         "x": [
          "Jan",
          "Feb",
          "Mar",
          "Apr",
          "May",
          "Jun",
          "Jul",
          "Aug",
          "Sep",
          "Oct",
          "Nov",
          "Dec"
         ],
         "y": {
          "bdata": "AHA+PwCiWj+A6eNAYIZDQcBwc0FwVIlBEJWGQcAdg0FgQ2tBYJ8nQYAArkAA0D5A",
          "dtype": "f4"
         }
        },
        {
         "hovertemplate": "<b>Year:</b> %{text}<br><b>Month:</b> %{x}<br><b>Temp:</b> %{y:.2f} °C<extra></extra>",
         "line": {
          "color": "grey",
          "width": 1.5
         },
         "mode": "lines",
         "opacity": 0.3,
         "showlegend": false,
         "text": [
          "1960",
          "1960",
          "1960",
          "1960",
          "1960",
          "1960",
          "1960",
          "1960",
          "1960",
          "1960",
          "1960",
          "1960"
         ],
         "type": "scatter",
         "x": [
          "Jan",
          "Feb",
          "Mar",
          "Apr",
          "May",
          "Jun",
          "Jul",
          "Aug",
          "Sep",
          "Oct",
          "Nov",
          "Dec"
         ],
         "y": {
          "bdata": "ALgjvoDvoEDA08JA4JUwQSBgfkEw05BBwMuGQVDEhUEgQ2pBAEEeQYBgtEAAkGZA",
          "dtype": "f4"
         }
        },
        {
         "hovertemplate": "<b>Year:</b> %{text}<br><b>Month:</b> %{x}<br><b>Temp:</b> %{y:.2f} °C<extra></extra>",
         "line": {
          "color": "grey",
          "width": 1.5
         },
         "mode": "lines",
         "opacity": 0.3,
         "showlegend": false,
         "text": [
          "1961",
          "1961",
          "1961",
          "1961",
          "1961",
          "1961",
          "1961",
          "1961",
          "1961",
          "1961",
          "1961",
          "1961"
         ],
         "type": "scatter",
         "x": [
          "Jan",
          "Feb",
          "Mar",
          "Apr",
          "May",
          "Jun",
          "Jul",
          "Aug",
          "Sep",
          "Oct",
          "Nov",
          "Dec"
         ],
         "y": {
          "bdata": "AEy9PgAAwDgAadJAgEI6QWA9ckHglopBoKiJQfD4hEHAWnhBACQhQYDgX0AANuO/",
          "dtype": "f4"
         }
        },
        {
         "hovertemplate": "<b>Year:</b> %{text}<br><b>Month:</b> %{x}<br><b>Temp:</b> %{y:.2f} °C<extra></extra>",
         "line": {
          "color": "grey",
          "width": 1.5
         },
         "mode": "lines",
         "opacity": 0.3,
         "showlegend": false,
         "text": [
          "1962",
          "1962",
          "1962",
          "1962",
          "1962",
          "1962",
          "1962",
          "1962",
          "1962",
          "1962",
          "1962",
          "1962"
         ],
         "type": "scatter",
         "x": [
          "Jan",
          "Feb",
          "Mar",
          "Apr",
          "May",
          "Jun",
          "Jul",
          "Aug",
          "Sep",
          "Oct",
          "Nov",
          "Dec"
         ],
         "y": {
          "bdata": "ABB/vwB2QT9A+ZpAYG4yQSB9Y0GQzIhB4OKKQQCYf0HATG1BoF4iQYD1wEAAC4o/",
          "dtype": "f4"
         }
        },
        {
         "hovertemplate": "<b>Year:</b> %{text}<br><b>Month:</b> %{x}<br><b>Temp:</b> %{y:.2f} °C<extra></extra>",
         "line": {
          "color": "grey",
          "width": 1.5
         },
         "mode": "lines",
         "opacity": 0.3,
         "showlegend": false,
         "text": [
          "1963",
          "1963",
          "1963",
          "1963",
          "1963",
          "1963",
          "1963",
          "1963",
          "1963",
          "1963",
          "1963",
          "1963"
         ],
         "type": "scatter",
         "x": [
          "Jan",
          "Feb",
          "Mar",
          "Apr",
          "May",
          "Jun",
          "Jul",
          "Aug",
          "Sep",
          "Oct",
          "Nov",
          "Dec"
         ],
         "y": {
          "bdata": "AAzKvgBZSkBA9rBA4NUkQWBwYUGwJIVBwImGQVACgkEgV2VBAIQiQQBfl0AAMoM/",
          "dtype": "f4"
         }
        },
        {
         "hovertemplate": "<b>Year:</b> %{text}<br><b>Month:</b> %{x}<br><b>Temp:</b> %{y:.2f} °C<extra></extra>",
         "line": {
          "color": "grey",
          "width": 1.5
         },
         "mode": "lines",
         "opacity": 0.3,
         "showlegend": false,
         "text": [
          "1964",
          "1964",
          "1964",
          "1964",
          "1964",
          "1964",
          "1964",
          "1964",
          "1964",
          "1964",
          "1964",
          "1964"
         ],
         "type": "scatter",
         "x": [
          "Jan",
          "Feb",
          "Mar",
          "Apr",
          "May",
          "Jun",
          "Jul",
          "Aug",
          "Sep",
          "Oct",
          "Nov",
          "Dec"
         ],
         "y": {
          "bdata": "AAAmPgBHHEBA1wRBYIJOQSCuXkEgxpBB8EKBQdAKgkEAYmJBADM8QcBIx0AA7BNA",
          "dtype": "f4"
         }
        },
        {
         "hovertemplate": "<b>Year:</b> %{text}<br><b>Month:</b> %{x}<br><b>Temp:</b> %{y:.2f} °C<extra></extra>",
         "line": {
          "color": "grey",
          "width": 1.5
         },
         "mode": "lines",
         "opacity": 0.3,
         "showlegend": false,
         "text": [
          "1965",
          "1965",
          "1965",
          "1965",
          "1965",
          "1965",
          "1965",
          "1965",
          "1965",
          "1965",
          "1965",
          "1965"
         ],
         "type": "scatter",
         "x": [
          "Jan",
          "Feb",
          "Mar",
          "Apr",
          "May",
          "Jun",
          "Jul",
          "Aug",
          "Sep",
          "Oct",
          "Nov",
          "Dec"
         ],
         "y": {
          "bdata": "AI63PwC1oz/AmJtAgJwlQUATbEFAt45B8CKEQWBOdEFg61pB4FQQQUDZmUAApuw/",
          "dtype": "f4"
         }
        },
        {
         "hovertemplate": "<b>Year:</b> %{text}<br><b>Month:</b> %{x}<br><b>Temp:</b> %{y:.2f} °C<extra></extra>",
         "line": {
          "color": "grey",
          "width": 1.5
         },
         "mode": "lines",
         "opacity": 0.3,
         "showlegend": false,
         "text": [
          "1966",
          "1966",
          "1966",
          "1966",
          "1966",
          "1966",
          "1966",
          "1966",
          "1966",
          "1966",
          "1966",
          "1966"
         ],
         "type": "scatter",
         "x": [
          "Jan",
          "Feb",
          "Mar",
          "Apr",
          "May",
          "Jun",
          "Jul",
          "Aug",
          "Sep",
          "Oct",
          "Nov",
          "Dec"
         ],
         "y": {
          "bdata": "AExNv4DCMkCAw9FAoG80QSCWd0Eg4IhB0KWFQcDKgEGAIlpBYLcOQQAlzUCA0hNA",
          "dtype": "f4"
         }
        },
        {
         "hovertemplate": "<b>Year:</b> %{text}<br><b>Month:</b> %{x}<br><b>Temp:</b> %{y:.2f} °C<extra></extra>",
         "line": {
          "color": "grey",
          "width": 1.5
         },
         "mode": "lines",
         "opacity": 0.3,
         "showlegend": false,
         "text": [
          "1967",
          "1967",
          "1967",
          "1967",
          "1967",
          "1967",
          "1967",
          "1967",
          "1967",
          "1967",
          "1967",
          "1967"
         ],
         "type": "scatter",
         "x": [
          "Jan",
          "Feb",
          "Mar",
          "Apr",
          "May",
          "Jun",
          "Jul",
          "Aug",
          "Sep",
          "Oct",
          "Nov",
          "Dec"
         ],
         "y": {
          "bdata": "AEyWPoBlc0AA76dAgOEkQaCSaEHQH4pB8L6HQfBrgUEADnBBYMIaQQBSc0AAtJk/",
          "dtype": "f4"
         }
        },
        {
         "hovertemplate": "<b>Year:</b> %{text}<br><b>Month:</b> %{x}<br><b>Temp:</b> %{y:.2f} °C<extra></extra>",
         "line": {
          "color": "grey",
          "width": 1.5
         },
         "mode": "lines",
         "opacity": 0.3,
         "showlegend": false,
         "text": [
          "1968",
          "1968",
          "1968",
          "1968",
          "1968",
          "1968",
          "1968",
          "1968",
          "1968",
          "1968",
          "1968",
          "1968"
         ],
         "type": "scatter",
         "x": [
          "Jan",
          "Feb",
          "Mar",
          "Apr",
          "May",
          "Jun",
          "Jul",
          "Aug",
          "Sep",
          "Oct",
          "Nov",
          "Dec"
         ],
         "y": {
          "bdata": "AFa5vwAgsj7ANMBAYI8rQQCpbEHAhIBBQJuCQTCCgkGAGHhBgGX9QMDXlUAARac/",
          "dtype": "f4"
         }
        },
        {
         "hovertemplate": "<b>Year:</b> %{text}<br><b>Month:</b> %{x}<br><b>Temp:</b> %{y:.2f} °C<extra></extra>",
         "line": {
          "color": "grey",
          "width": 1.5
         },
         "mode": "lines",
         "opacity": 0.3,
         "showlegend": false,
         "text": [
          "1969",
          "1969",
          "1969",
          "1969",
          "1969",
          "1969",
          "1969",
          "1969",
          "1969",
          "1969",
          "1969",
          "1969"
         ],
         "type": "scatter",
         "x": [
          "Jan",
          "Feb",
          "Mar",
          "Apr",
          "May",
          "Jun",
          "Jul",
          "Aug",
          "Sep",
          "Oct",
          "Nov",
          "Dec"
         ],
         "y": {
          "bdata": "ANhgvwAhBECAD/5AYGcyQeAoYUEgdoZBMAqGQdAogUHA3mVBIBgfQYDp2ECAjTlA",
          "dtype": "f4"
         }
        },
        {
         "hovertemplate": "<b>Year:</b> %{text}<br><b>Month:</b> %{x}<br><b>Temp:</b> %{y:.2f} °C<extra></extra>",
         "line": {
          "color": "grey",
          "width": 1.5
         },
         "mode": "lines",
         "opacity": 0.3,
         "showlegend": false,
         "text": [
          "1970",
          "1970",
          "1970",
          "1970",
          "1970",
          "1970",
          "1970",
          "1970",
          "1970",
          "1970",
          "1970",
          "1970"
         ],
         "type": "scatter",
         "x": [
          "Jan",
          "Feb",
          "Mar",
          "Apr",
          "May",
          "Jun",
          "Jul",
          "Aug",
          "Sep",
          "Oct",
          "Nov",
          "Dec"
         ],
         "y": {
          "bdata": "ACiRPgBMqT9AZ7VAoPtAQcDZdkHALoJBQOWIQUCKg0EAY3RBoNI3QYBGrUAAZTVA",
          "dtype": "f4"
         }
        },
        {
         "hovertemplate": "<b>Year:</b> %{text}<br><b>Month:</b> %{x}<br><b>Temp:</b> %{y:.2f} °C<extra></extra>",
         "line": {
          "color": "grey",
          "width": 1.5
         },
         "mode": "lines",
         "opacity": 0.3,
         "showlegend": false,
         "text": [
          "1971",
          "1971",
          "1971",
          "1971",
          "1971",
          "1971",
          "1971",
          "1971",
          "1971",
          "1971",
          "1971",
          "1971"
         ],
         "type": "scatter",
         "x": [
          "Jan",
          "Feb",
          "Mar",
          "Apr",
          "May",
          "Jun",
          "Jul",
          "Aug",
          "Sep",
          "Oct",
          "Nov",
          "Dec"
         ],
         "y": {
          "bdata": "AGA/PgCr5T9A0LJAgPgtQWDlUEEweYJBYFiDQaAhekFgom5BgIodQYBxgUAAiSRA",
          "dtype": "f4"
         }
        },
        {
         "hovertemplate": "<b>Year:</b> %{text}<br><b>Month:</b> %{x}<br><b>Temp:</b> %{y:.2f} °C<extra></extra>",
         "line": {
          "color": "grey",
          "width": 1.5
         },
         "mode": "lines",
         "opacity": 0.3,
         "showlegend": false,
         "text": [
          "1972",
          "1972",
          "1972",
          "1972",
          "1972",
          "1972",
          "1972",
          "1972",
          "1972",
          "1972",
          "1972",
          "1972"
         ],
         "type": "scatter",
         "x": [
          "Jan",
          "Feb",
          "Mar",
          "Apr",
          "May",
          "Jun",
          "Jul",
          "Aug",
          "Sep",
          "Oct",
          "Nov",
          "Dec"
         ],
         "y": {
          "bdata": "AH/dPwDsqj7AnuFAIFYsQWDOfUHQ4pBBsM2QQaAHhEEARmBBwNsYQQC3dUAAnL0/",
          "dtype": "f4"
         }
        },
        {
         "hovertemplate": "<b>Year:</b> %{text}<br><b>Month:</b> %{x}<br><b>Temp:</b> %{y:.2f} °C<extra></extra>",
         "line": {
          "color": "grey",
          "width": 1.5
         },
         "mode": "lines",
         "opacity": 0.3,
         "showlegend": false,
         "text": [
          "1973",
          "1973",
          "1973",
          "1973",
          "1973",
          "1973",
          "1973",
          "1973",
          "1973",
          "1973",
          "1973",
          "1973"
         ],
         "type": "scatter",
         "x": [
          "Jan",
          "Feb",
          "Mar",
          "Apr",
          "May",
          "Jun",
          "Jul",
          "Aug",
          "Sep",
          "Oct",
          "Nov",
          "Dec"
         ],
         "y": {
          "bdata": "APz7PoB9FEBAeb9A4I9OQUDVcUFAKINBUJmKQQC+gUHgBm5BgHMRQYDhk0AALDU/",
          "dtype": "f4"
         }
        },
        {
         "hovertemplate": "<b>Year:</b> %{text}<br><b>Month:</b> %{x}<br><b>Temp:</b> %{y:.2f} °C<extra></extra>",
         "line": {
          "color": "grey",
          "width": 1.5
         },
         "mode": "lines",
         "opacity": 0.3,
         "showlegend": false,
         "text": [
          "1974",
          "1974",
          "1974",
          "1974",
          "1974",
          "1974",
          "1974",
          "1974",
          "1974",
          "1974",
          "1974",
          "1974"
         ],
         "type": "scatter",
         "x": [
          "Jan",
          "Feb",
          "Mar",
          "Apr",
          "May",
          "Jun",
          "Jul",
          "Aug",
          "Sep",
          "Oct",
          "Nov",
          "Dec"
         ],
         "y": {
          "bdata": "AACeuwAs5D+Ar+tAAP5JQWA1dEEAY4xBQM+FQaCkhUEgQm5BIKVJQcDWs0AA+BA/",
          "dtype": "f4"
         }
        },
        {
         "hovertemplate": "<b>Year:</b> %{text}<br><b>Month:</b> %{x}<br><b>Temp:</b> %{y:.2f} °C<extra></extra>",
         "line": {
          "color": "grey",
          "width": 1.5
         },
         "mode": "lines",
         "opacity": 0.3,
         "showlegend": false,
         "text": [
          "1975",
          "1975",
          "1975",
          "1975",
          "1975",
          "1975",
          "1975",
          "1975",
          "1975",
          "1975",
          "1975",
          "1975"
         ],
         "type": "scatter",
         "x": [
          "Jan",
          "Feb",
          "Mar",
          "Apr",
          "May",
          "Jun",
          "Jul",
          "Aug",
          "Sep",
          "Oct",
          "Nov",
          "Dec"
         ],
         "y": {
          "bdata": "AK5HvwAXlz+AQ7lAQPQ9QeBfdUEw6otBQOeDQRCHhkEg1HFBID5LQcA+sECA+R1A",
          "dtype": "f4"
         }
        },
        {
         "hovertemplate": "<b>Year:</b> %{text}<br><b>Month:</b> %{x}<br><b>Temp:</b> %{y:.2f} °C<extra></extra>",
         "line": {
          "color": "grey",
          "width": 1.5
         },
         "mode": "lines",
         "opacity": 0.3,
         "showlegend": false,
         "text": [
          "1976",
          "1976",
          "1976",
          "1976",
          "1976",
          "1976",
          "1976",
          "1976",
          "1976",
          "1976",
          "1976",
          "1976"
         ],
         "type": "scatter",
         "x": [
          "Jan",
          "Feb",
          "Mar",
          "Apr",
          "May",
          "Jun",
          "Jul",
          "Aug",
          "Sep",
          "Oct",
          "Nov",
          "Dec"
         ],
         "y": {
          "bdata": "ADmWP4CyTUCAOeFAQAk3QYDvaUFwkYZBsG2IQaD4gEFAeG5BoGkxQYA5BEEAWwtA",
          "dtype": "f4"
         }
        },
        {
         "hovertemplate": "<b>Year:</b> %{text}<br><b>Month:</b> %{x}<br><b>Temp:</b> %{y:.2f} °C<extra></extra>",
         "line": {
          "color": "grey",
          "width": 1.5
         },
         "mode": "lines",
         "opacity": 0.3,
         "showlegend": false,
         "text": [
          "1977",
          "1977",
          "1977",
          "1977",
          "1977",
          "1977",
          "1977",
          "1977",
          "1977",
          "1977",
          "1977",
          "1977"
         ],
         "type": "scatter",
         "x": [
          "Jan",
          "Feb",
          "Mar",
          "Apr",
          "May",
          "Jun",
          "Jul",
          "Aug",
          "Sep",
          "Oct",
          "Nov",
          "Dec"
         ],
         "y": {
          "bdata": "AChRPwDbLUCg9AtBYPM4QWDyUkHALohBoAuKQfC3iEHAendBoHgqQcDp80CAqgNA",
          "dtype": "f4"
         }
        },
        {
         "hovertemplate": "<b>Year:</b> %{text}<br><b>Month:</b> %{x}<br><b>Temp:</b> %{y:.2f} °C<extra></extra>",
         "line": {
          "color": "grey",
          "width": 1.5
         },
         "mode": "lines",
         "opacity": 0.3,
         "showlegend": false,
         "text": [
          "1978",
          "1978",
          "1978",
          "1978",
          "1978",
          "1978",
          "1978",
          "1978",
          "1978",
          "1978",
          "1978",
          "1978"
         ],
         "type": "scatter",
         "x": [
          "Jan",
          "Feb",
          "Mar",
          "Apr",
          "May",
          "Jun",
          "Jul",
          "Aug",
          "Sep",
          "Oct",
          "Nov",
          "Dec"
         ],
         "y": {
          "bdata": "ADuwvwDVlj/Av5BAIM8rQQAtgUHASo5BcDmKQSC2h0FgcnBBYPM7QcAL1kAAEdI/",
          "dtype": "f4"
         }
        },
        {
         "hovertemplate": "<b>Year:</b> %{text}<br><b>Month:</b> %{x}<br><b>Temp:</b> %{y:.2f} °C<extra></extra>",
         "line": {
          "color": "grey",
          "width": 1.5
         },
         "mode": "lines",
         "opacity": 0.3,
         "showlegend": false,
         "text": [
          "1979",
          "1979",
          "1979",
          "1979",
          "1979",
          "1979",
          "1979",
          "1979",
          "1979",
          "1979",
          "1979",
          "1979"
         ],
         "type": "scatter",
         "x": [
          "Jan",
          "Feb",
          "Mar",
          "Apr",
          "May",
          "Jun",
          "Jul",
          "Aug",
          "Sep",
          "Oct",
          "Nov",
          "Dec"
         ],
         "y": {
          "bdata": "AImVPwCoRD9AjahAYKpBQSAmdEFAno1BoHiLQeCxi0Eg+nBB4PU0QQBFA0EAnqQ/",
          "dtype": "f4"
         }
        },
        {
         "hovertemplate": "<b>Year:</b> %{text}<br><b>Month:</b> %{x}<br><b>Temp:</b> %{y:.2f} °C<extra></extra>",
         "line": {
          "color": "grey",
          "width": 1.5
         },
         "mode": "lines",
         "opacity": 0.3,
         "showlegend": false,
         "text": [
          "1980",
          "1980",
          "1980",
          "1980",
          "1980",
          "1980",
          "1980",
          "1980",
          "1980",
          "1980",
          "1980",
          "1980"
         ],
         "type": "scatter",
         "x": [
          "Jan",
          "Feb",
          "Mar",
          "Apr",
          "May",
          "Jun",
          "Jul",
          "Aug",
          "Sep",
          "Oct",
          "Nov",
          "Dec"
         ],
         "y": {
          "bdata": "AHIav4AZJ0BAyMJAgLlMQcBOdUGABIlBAAeLQbARh0GASXVBIAAhQYArzkCAMktA",
          "dtype": "f4"
         }
        },
        {
         "hovertemplate": "<b>Year:</b> %{text}<br><b>Month:</b> %{x}<br><b>Temp:</b> %{y:.2f} °C<extra></extra>",
         "line": {
          "color": "grey",
          "width": 1.5
         },
         "mode": "lines",
         "opacity": 0.3,
         "showlegend": false,
         "text": [
          "1981",
          "1981",
          "1981",
          "1981",
          "1981",
          "1981",
          "1981",
          "1981",
          "1981",
          "1981",
          "1981",
          "1981"
         ],
         "type": "scatter",
         "x": [
          "Jan",
          "Feb",
          "Mar",
          "Apr",
          "May",
          "Jun",
          "Jul",
          "Aug",
          "Sep",
          "Oct",
          "Nov",
          "Dec"
         ],
         "y": {
          "bdata": "AOg8vwBEJkDA9sBA4OQxQaBybEFwh45B8GuKQUBvikFAtXFB4A4sQQALhkAAWJs+",
          "dtype": "f4"
         }
        },
        {
         "hovertemplate": "<b>Year:</b> %{text}<br><b>Month:</b> %{x}<br><b>Temp:</b> %{y:.2f} °C<extra></extra>",
         "line": {
          "color": "grey",
          "width": 1.5
         },
         "mode": "lines",
         "opacity": 0.3,
         "showlegend": false,
         "text": [
          "1982",
          "1982",
          "1982",
          "1982",
          "1982",
          "1982",
          "1982",
          "1982",
          "1982",
          "1982",
          "1982",
          "1982"
         ],
         "type": "scatter",
         "x": [
          "Jan",
          "Feb",
          "Mar",
          "Apr",
          "May",
          "Jun",
          "Jul",
          "Aug",
          "Sep",
          "Oct",
          "Nov",
          "Dec"
         ],
         "y": {
          "bdata": "APRZPwDU4z4AZJlAYEYqQeAFX0GAnYVBoEeRQYAdjEHAsXJBYA0nQUDFqkAAJg1A",
          "dtype": "f4"
         }
        },
        {
         "hovertemplate": "<b>Year:</b> %{text}<br><b>Month:</b> %{x}<br><b>Temp:</b> %{y:.2f} °C<extra></extra>",
         "line": {
          "color": "grey",
          "width": 1.5
         },
         "mode": "lines",
         "opacity": 0.3,
         "showlegend": false,
         "text": [
          "1983",
          "1983",
          "1983",
          "1983",
          "1983",
          "1983",
          "1983",
          "1983",
          "1983",
          "1983",
          "1983",
          "1983"
         ],
         "type": "scatter",
         "x": [
          "Jan",
          "Feb",
          "Mar",
          "Apr",
          "May",
          "Jun",
          "Jul",
          "Aug",
          "Sep",
          "Oct",
          "Nov",
          "Dec"
         ],
         "y": {
          "bdata": "ABhuvwBIQD5AD75AoNoWQeDeXUHweotB0OaQQbDNjkEgnnxBQDklQYDhm0AA/bE/",
          "dtype": "f4"
         }
        },
        {
         "hovertemplate": "<b>Year:</b> %{text}<br><b>Month:</b> %{x}<br><b>Temp:</b> %{y:.2f} °C<extra></extra>",
         "line": {
          "color": "grey",
          "width": 1.5
         },
         "mode": "lines",
         "opacity": 0.3,
         "showlegend": false,
         "text": [
          "1984",
          "1984",
          "1984",
          "1984",
          "1984",
          "1984",
          "1984",
          "1984",
          "1984",
          "1984",
          "1984",
          "1984"
         ],
         "type": "scatter",
         "x": [
          "Jan",
          "Feb",
          "Mar",
          "Apr",
          "May",
          "Jun",
          "Jul",
          "Aug",
          "Sep",
          "Oct",
          "Nov",
          "Dec"
         ],
         "y": {
          "bdata": "AAhUvwB7sD9AMwBBwEQ+QfArg0EgSI1B4AyIQUBniEFAj2dBADpBQQDMqEAAUUdA",
          "dtype": "f4"
         }
        },
        {
         "hovertemplate": "<b>Year:</b> %{text}<br><b>Month:</b> %{x}<br><b>Temp:</b> %{y:.2f} °C<extra></extra>",
         "line": {
          "color": "grey",
          "width": 1.5
         },
         "mode": "lines",
         "opacity": 0.3,
         "showlegend": false,
         "text": [
          "1985",
          "1985",
          "1985",
          "1985",
          "1985",
          "1985",
          "1985",
          "1985",
          "1985",
          "1985",
          "1985",
          "1985"
         ],
         "type": "scatter",
         "x": [
          "Jan",
          "Feb",
          "Mar",
          "Apr",
          "May",
          "Jun",
          "Jul",
          "Aug",
          "Sep",
          "Oct",
          "Nov",
          "Dec"
         ],
         "y": {
          "bdata": "APJLvwCNIkCg3BZB4G1LQUDBc0GAZJBBwIWFQQDPikGAgHFBwCkfQUBrmECA7ShA",
          "dtype": "f4"
         }
        },
        {
         "hovertemplate": "<b>Year:</b> %{text}<br><b>Month:</b> %{x}<br><b>Temp:</b> %{y:.2f} °C<extra></extra>",
         "line": {
          "color": "grey",
          "width": 1.5
         },
         "mode": "lines",
         "opacity": 0.3,
         "showlegend": false,
         "text": [
          "1986",
          "1986",
          "1986",
          "1986",
          "1986",
          "1986",
          "1986",
          "1986",
          "1986",
          "1986",
          "1986",
          "1986"
         ],
         "type": "scatter",
         "x": [
          "Jan",
          "Feb",
          "Mar",
          "Apr",
          "May",
          "Jun",
          "Jul",
          "Aug",
          "Sep",
          "Oct",
          "Nov",
          "Dec"
         ],
         "y": {
          "bdata": "AKAlvQBW5z9AdNlAoI8wQWBLVEFwkY1B4N+KQcCzikHgF3BBINYSQcD6y0AAvKQ+",
          "dtype": "f4"
         }
        },
        {
         "hovertemplate": "<b>Year:</b> %{text}<br><b>Month:</b> %{x}<br><b>Temp:</b> %{y:.2f} °C<extra></extra>",
         "line": {
          "color": "grey",
          "width": 1.5
         },
         "mode": "lines",
         "opacity": 0.3,
         "showlegend": false,
         "text": [
          "1987",
          "1987",
          "1987",
          "1987",
          "1987",
          "1987",
          "1987",
          "1987",
          "1987",
          "1987",
          "1987",
          "1987"
         ],
         "type": "scatter",
         "x": [
          "Jan",
          "Feb",
          "Mar",
          "Apr",
          "May",
          "Jun",
          "Jul",
          "Aug",
          "Sep",
          "Oct",
          "Nov",
          "Dec"
         ],
         "y": {
          "bdata": "AOgKvwBcLUDAvdlAgJE2QeAVXEEgNJdBII6SQWBGikEghX9BIDghQUDhs0AAPRNA",
          "dtype": "f4"
         }
        },
        {
         "hovertemplate": "<b>Year:</b> %{text}<br><b>Month:</b> %{x}<br><b>Temp:</b> %{y:.2f} °C<extra></extra>",
         "line": {
          "color": "grey",
          "width": 1.5
         },
         "mode": "lines",
         "opacity": 0.3,
         "showlegend": false,
         "text": [
          "1988",
          "1988",
          "1988",
          "1988",
          "1988",
          "1988",
          "1988",
          "1988",
          "1988",
          "1988",
          "1988",
          "1988"
         ],
         "type": "scatter",
         "x": [
          "Jan",
          "Feb",
          "Mar",
          "Apr",
          "May",
          "Jun",
          "Jul",
          "Aug",
          "Sep",
          "Oct",
          "Nov",
          "Dec"
         ],
         "y": {
          "bdata": "ANmUP4CfdUDAIdBAgABBQSClfEEg6otBUDiNQZAhikEAjYFBYH04QUB3wUCA+kZA",
          "dtype": "f4"
         }
        },
        {
         "hovertemplate": "<b>Year:</b> %{text}<br><b>Month:</b> %{x}<br><b>Temp:</b> %{y:.2f} °C<extra></extra>",
         "line": {
          "color": "grey",
          "width": 1.5
         },
         "mode": "lines",
         "opacity": 0.3,
         "showlegend": false,
         "text": [
          "1989",
          "1989",
          "1989",
          "1989",
          "1989",
          "1989",
          "1989",
          "1989",
          "1989",
          "1989",
          "1989",
          "1989"
         ],
         "type": "scatter",
         "x": [
          "Jan",
          "Feb",
          "Mar",
          "Apr",
          "May",
          "Jun",
          "Jul",
          "Aug",
          "Sep",
          "Oct",
          "Nov",
          "Dec"
         ],
         "y": {
          "bdata": "ALqqvwCOqD/AEtFAoCswQUCHd0FwqIhB8O6LQdBSh0GAWX5BYJY3QYAktEAACmY/",
          "dtype": "f4"
         }
        },
        {
         "hovertemplate": "<b>Year:</b> %{text}<br><b>Month:</b> %{x}<br><b>Temp:</b> %{y:.2f} °C<extra></extra>",
         "line": {
          "color": "grey",
          "width": 1.5
         },
         "mode": "lines",
         "opacity": 0.3,
         "showlegend": false,
         "text": [
          "1990",
          "1990",
          "1990",
          "1990",
          "1990",
          "1990",
          "1990",
          "1990",
          "1990",
          "1990",
          "1990",
          "1990"
         ],
         "type": "scatter",
         "x": [
          "Jan",
          "Feb",
          "Mar",
          "Apr",
          "May",
          "Jun",
          "Jul",
          "Aug",
          "Sep",
          "Oct",
          "Nov",
          "Dec"
         ],
         "y": {
          "bdata": "gDc0QADQHECABJhAwMkmQYA2bkEgDJRBgEqLQcD6iEHgFHlB4HYsQYAG00CAnQZA",
          "dtype": "f4"
         }
        },
        {
         "hovertemplate": "<b>Year:</b> %{text}<br><b>Month:</b> %{x}<br><b>Temp:</b> %{y:.2f} °C<extra></extra>",
         "line": {
          "color": "grey",
          "width": 1.5
         },
         "mode": "lines",
         "opacity": 0.3,
         "showlegend": false,
         "text": [
          "1991",
          "1991",
          "1991",
          "1991",
          "1991",
          "1991",
          "1991",
          "1991",
          "1991",
          "1991",
          "1991",
          "1991"
         ],
         "type": "scatter",
         "x": [
          "Jan",
          "Feb",
          "Mar",
          "Apr",
          "May",
          "Jun",
          "Jul",
          "Aug",
          "Sep",
          "Oct",
          "Nov",
          "Dec"
         ],
         "y": {
          "bdata": "AEytv4BKQEBAStdAgFUtQcBedkGAW41BMHyTQVA2iUHAyHZBgOwyQYDYrUAAFOI/",
          "dtype": "f4"
         }
        },
        {
         "hovertemplate": "<b>Year:</b> %{text}<br><b>Month:</b> %{x}<br><b>Temp:</b> %{y:.2f} °C<extra></extra>",
         "line": {
          "color": "grey",
          "width": 1.5
         },
         "mode": "lines",
         "opacity": 0.3,
         "showlegend": false,
         "text": [
          "1992",
          "1992",
          "1992",
          "1992",
          "1992",
          "1992",
          "1992",
          "1992",
          "1992",
          "1992",
          "1992",
          "1992"
         ],
         "type": "scatter",
         "x": [
          "Jan",
          "Feb",
          "Mar",
          "Apr",
          "May",
          "Jun",
          "Jul",
          "Aug",
          "Sep",
          "Oct",
          "Nov",
          "Dec"
         ],
         "y": {
          "bdata": "ACjVPgBaBz8AfvhAoABCQcDLYEGwoItBoNuKQZB2ikHAP31BQMslQUCptUAAB6Y/",
          "dtype": "f4"
         }
        },
        {
         "hovertemplate": "<b>Year:</b> %{text}<br><b>Month:</b> %{x}<br><b>Temp:</b> %{y:.2f} °C<extra></extra>",
         "line": {
          "color": "grey",
          "width": 1.5
         },
         "mode": "lines",
         "opacity": 0.3,
         "showlegend": false,
         "text": [
          "1993",
          "1993",
          "1993",
          "1993",
          "1993",
          "1993",
          "1993",
          "1993",
          "1993",
          "1993",
          "1993",
          "1993"
         ],
         "type": "scatter",
         "x": [
          "Jan",
          "Feb",
          "Mar",
          "Apr",
          "May",
          "Jun",
          "Jul",
          "Aug",
          "Sep",
          "Oct",
          "Nov",
          "Dec"
         ],
         "y": {
          "bdata": "AHCEPoAqc0BAVJtAwHomQYA/c0GwpYxBAFGSQaD8jUGAUnBBQOU+QcBZ8UAA13ZA",
          "dtype": "f4"
         }
        },
        {
         "hovertemplate": "<b>Year:</b> %{text}<br><b>Month:</b> %{x}<br><b>Temp:</b> %{y:.2f} °C<extra></extra>",
         "line": {
          "color": "grey",
          "width": 1.5
         },
         "mode": "lines",
         "opacity": 0.3,
         "showlegend": false,
         "text": [
          "1994",
          "1994",
          "1994",
          "1994",
          "1994",
          "1994",
          "1994",
          "1994",
          "1994",
          "1994",
          "1994",
          "1994"
         ],
         "type": "scatter",
         "x": [
          "Jan",
          "Feb",
          "Mar",
          "Apr",
          "May",
          "Jun",
          "Jul",
          "Aug",
          "Sep",
          "Oct",
          "Nov",
          "Dec"
         ],
         "y": {
          "bdata": "APhdPwAcNj8AH/JAoEkrQcDEeUHAV5RBoASTQcDAjEGQxIFB4G8zQQCUvUCAcx5A",
          "dtype": "f4"
         }
        },
        {
         "hovertemplate": "<b>Year:</b> %{text}<br><b>Month:</b> %{x}<br><b>Temp:</b> %{y:.2f} °C<extra></extra>",
         "line": {
          "color": "grey",
          "width": 1.5
         },
         "mode": "lines",
         "opacity": 0.3,
         "showlegend": false,
         "text": [
          "1995",
          "1995",
          "1995",
          "1995",
          "1995",
          "1995",
          "1995",
          "1995",
          "1995",
          "1995",
          "1995",
          "1995"
         ],
         "type": "scatter",
         "x": [
          "Jan",
          "Feb",
          "Mar",
          "Apr",
          "May",
          "Jun",
          "Jul",
          "Aug",
          "Sep",
          "Oct",
          "Nov",
          "Dec"
         ],
         "y": {
          "bdata": "AAzRvwDbwD8AyMtAID8yQUC3iEGAN5dBQDONQUA3h0HAHnxBYFU/QUDDh0AAGGQ/",
          "dtype": "f4"
         }
        },
        {
         "hovertemplate": "<b>Year:</b> %{text}<br><b>Month:</b> %{x}<br><b>Temp:</b> %{y:.2f} °C<extra></extra>",
         "line": {
          "color": "grey",
          "width": 1.5
         },
         "mode": "lines",
         "opacity": 0.3,
         "showlegend": false,
         "text": [
          "1996",
          "1996",
          "1996",
          "1996",
          "1996",
          "1996",
          "1996",
          "1996",
          "1996",
          "1996",
          "1996",
          "1996"
         ],
         "type": "scatter",
         "x": [
          "Jan",
          "Feb",
          "Mar",
          "Apr",
          "May",
          "Jun",
          "Jul",
          "Aug",
          "Sep",
          "Oct",
          "Nov",
          "Dec"
         ],
         "y": {
          "bdata": "AOT4vgAz2z+AzulAILUzQWDweEGwlYdBINSMQfBvh0GAv3dBgFwkQcBNo0AAeO4/",
          "dtype": "f4"
         }
        },
        {
         "hovertemplate": "<b>Year:</b> %{text}<br><b>Month:</b> %{x}<br><b>Temp:</b> %{y:.2f} °C<extra></extra>",
         "line": {
          "color": "grey",
          "width": 1.5
         },
         "mode": "lines",
         "opacity": 0.3,
         "showlegend": false,
         "text": [
          "1997",
          "1997",
          "1997",
          "1997",
          "1997",
          "1997",
          "1997",
          "1997",
          "1997",
          "1997",
          "1997",
          "1997"
         ],
         "type": "scatter",
         "x": [
          "Jan",
          "Feb",
          "Mar",
          "Apr",
          "May",
          "Jun",
          "Jul",
          "Aug",
          "Sep",
          "Oct",
          "Nov",
          "Dec"
         ],
         "y": {
          "bdata": "AKzkvgCHvT8A7dpAoMcVQeCvXkFwtIhBcMiOQTCyiUEgxXRB4OgGQQCojEAA7Zi/",
          "dtype": "f4"
         }
        },
        {
         "hovertemplate": "<b>Year:</b> %{text}<br><b>Month:</b> %{x}<br><b>Temp:</b> %{y:.2f} °C<extra></extra>",
         "line": {
          "color": "grey",
          "width": 1.5
         },
         "mode": "lines",
         "opacity": 0.3,
         "showlegend": false,
         "text": [
          "1998",
          "1998",
          "1998",
          "1998",
          "1998",
          "1998",
          "1998",
          "1998",
          "1998",
          "1998",
          "1998",
          "1998"
         ],
         "type": "scatter",
         "x": [
          "Jan",
          "Feb",
          "Mar",
          "Apr",
          "May",
          "Jun",
          "Jul",
          "Aug",
          "Sep",
          "Oct",
          "Nov",
          "Dec"
         ],
         "y": {
          "bdata": "AMo1v4BQJUDAzZpAIDktQUBsf0EAKZhBoKKNQVAXikFgbX9BoA1LQcD56UAAYSpA",
          "dtype": "f4"
         }
        },
        {
         "hovertemplate": "<b>Year:</b> %{text}<br><b>Month:</b> %{x}<br><b>Temp:</b> %{y:.2f} °C<extra></extra>",
         "line": {
          "color": "grey",
          "width": 1.5
         },
         "mode": "lines",
         "opacity": 0.3,
         "showlegend": false,
         "text": [
          "1999",
          "1999",
          "1999",
          "1999",
          "1999",
          "1999",
          "1999",
          "1999",
          "1999",
          "1999",
          "1999",
          "1999"
         ],
         "type": "scatter",
         "x": [
          "Jan",
          "Feb",
          "Mar",
          "Apr",
          "May",
          "Jun",
          "Jul",
          "Aug",
          "Sep",
          "Oct",
          "Nov",
          "Dec"
         ],
         "y": {
          "bdata": "ABBXPoByiEDg6QRBIApeQbBvgEEQXIpB0GaLQcDfhkHAEnlBYEMkQYCMskAAjCRA",
          "dtype": "f4"
         }
        },
        {
         "hovertemplate": "<b>Year:</b> %{text}<br><b>Month:</b> %{x}<br><b>Temp:</b> %{y:.2f} °C<extra></extra>",
         "line": {
          "color": "grey",
          "width": 1.5
         },
         "mode": "lines",
         "opacity": 0.3,
         "showlegend": false,
         "text": [
          "2000",
          "2000",
          "2000",
          "2000",
          "2000",
          "2000",
          "2000",
          "2000",
          "2000",
          "2000",
          "2000",
          "2000"
         ],
         "type": "scatter",
         "x": [
          "Jan",
          "Feb",
          "Mar",
          "Apr",
          "May",
          "Jun",
          "Jul",
          "Aug",
          "Sep",
          "Oct",
          "Nov",
          "Dec"
         ],
         "y": {
          "bdata": "ADThPgBQ5j3AtKhAAIk5QeC6ekFQUYhBcG6KQfABiUEgCmxBQKlBQYAY6EAAkzVA",
          "dtype": "f4"
         }
        },
        {
         "hovertemplate": "<b>Year:</b> %{text}<br><b>Month:</b> %{x}<br><b>Temp:</b> %{y:.2f} °C<extra></extra>",
         "line": {
          "color": "grey",
          "width": 1.5
         },
         "mode": "lines",
         "opacity": 0.3,
         "showlegend": false,
         "text": [
          "2001",
          "2001",
          "2001",
          "2001",
          "2001",
          "2001",
          "2001",
          "2001",
          "2001",
          "2001",
          "2001",
          "2001"
         ],
         "type": "scatter",
         "x": [
          "Jan",
          "Feb",
          "Mar",
          "Apr",
          "May",
          "Jun",
          "Jul",
          "Aug",
          "Sep",
          "Oct",
          "Nov",
          "Dec"
         ],
         "y": {
          "bdata": "AEAYv4DcYEAAgM1AIKY0QeBNbkEwoIZBQO6PQRBpikHAh3lBIGNBQQDP60CA1i5A",
          "dtype": "f4"
         }
        },
        {
         "hovertemplate": "<b>Year:</b> %{text}<br><b>Month:</b> %{x}<br><b>Temp:</b> %{y:.2f} °C<extra></extra>",
         "line": {
          "color": "grey",
          "width": 1.5
         },
         "mode": "lines",
         "opacity": 0.3,
         "showlegend": false,
         "text": [
          "2002",
          "2002",
          "2002",
          "2002",
          "2002",
          "2002",
          "2002",
          "2002",
          "2002",
          "2002",
          "2002",
          "2002"
         ],
         "type": "scatter",
         "x": [
          "Jan",
          "Feb",
          "Mar",
          "Apr",
          "May",
          "Jun",
          "Jul",
          "Aug",
          "Sep",
          "Oct",
          "Nov",
          "Dec"
         ],
         "y": {
          "bdata": "AMCWPADBBECAYtBAAIM6QWDjaEHgQ4xBYAeTQZBSiUFACGxBoLopQcCEzUAAa0BA",
          "dtype": "f4"
         }
        },
        {
         "hovertemplate": "<b>Year:</b> %{text}<br><b>Month:</b> %{x}<br><b>Temp:</b> %{y:.2f} °C<extra></extra>",
         "line": {
          "color": "grey",
          "width": 1.5
         },
         "mode": "lines",
         "opacity": 0.3,
         "showlegend": false,
         "text": [
          "2003",
          "2003",
          "2003",
          "2003",
          "2003",
          "2003",
          "2003",
          "2003",
          "2003",
          "2003",
          "2003",
          "2003"
         ],
         "type": "scatter",
         "x": [
          "Jan",
          "Feb",
          "Mar",
          "Apr",
          "May",
          "Jun",
          "Jul",
          "Aug",
          "Sep",
          "Oct",
          "Nov",
          "Dec"
         ],
         "y": {
          "bdata": "ANogvwA7oD8AjbtAoPNAQSC2Y0FgC4pBEEiLQRD4jEHgLHpBYKk2QYBD10AAhhRA",
          "dtype": "f4"
         }
        },
        {
         "hovertemplate": "<b>Year:</b> %{text}<br><b>Month:</b> %{x}<br><b>Temp:</b> %{y:.2f} °C<extra></extra>",
         "line": {
          "color": "grey",
          "width": 1.5
         },
         "mode": "lines",
         "opacity": 0.3,
         "showlegend": false,
         "text": [
          "2004",
          "2004",
          "2004",
          "2004",
          "2004",
          "2004",
          "2004",
          "2004",
          "2004",
          "2004",
          "2004",
          "2004"
         ],
         "type": "scatter",
         "x": [
          "Jan",
          "Feb",
          "Mar",
          "Apr",
          "May",
          "Jun",
          "Jul",
          "Aug",
          "Sep",
          "Oct",
          "Nov",
          "Dec"
         ],
         "y": {
          "bdata": "AL4svwDHJEBgihtBwABMQWBLfEEgsIZBkEOKQZBbi0HQmIFBIJwcQYBBrUAAcmdA",
          "dtype": "f4"
         }
        },
        {
         "hovertemplate": "<b>Year:</b> %{text}<br><b>Month:</b> %{x}<br><b>Temp:</b> %{y:.2f} °C<extra></extra>",
         "line": {
          "color": "grey",
          "width": 1.5
         },
         "mode": "lines",
         "opacity": 0.3,
         "showlegend": false,
         "text": [
          "2005",
          "2005",
          "2005",
          "2005",
          "2005",
          "2005",
          "2005",
          "2005",
          "2005",
          "2005",
          "2005",
          "2005"
         ],
         "type": "scatter",
         "x": [
          "Jan",
          "Feb",
          "Mar",
          "Apr",
          "May",
          "Jun",
          "Jul",
          "Aug",
          "Sep",
          "Oct",
          "Nov",
          "Dec"
         ],
         "y": {
          "bdata": "AGhSPgAcAUAAn+xAYMIwQUD5Y0FwBJJBoLSMQRBQjEEwxYFBoHU0QcAbwUCA7CNA",
          "dtype": "f4"
         }
        },
        {
         "hovertemplate": "<b>Year:</b> %{text}<br><b>Month:</b> %{x}<br><b>Temp:</b> %{y:.2f} °C<extra></extra>",
         "line": {
          "color": "grey",
          "width": 1.5
         },
         "mode": "lines",
         "opacity": 0.3,
         "showlegend": false,
         "text": [
          "2006",
          "2006",
          "2006",
          "2006",
          "2006",
          "2006",
          "2006",
          "2006",
          "2006",
          "2006",
          "2006",
          "2006"
         ],
         "type": "scatter",
         "x": [
          "Jan",
          "Feb",
          "Mar",
          "Apr",
          "May",
          "Jun",
          "Jul",
          "Aug",
          "Sep",
          "Oct",
          "Nov",
          "Dec"
         ],
         "y": {
          "bdata": "gBIdQECr2ECAON1AwA0yQYAceEGQ/IpB8A+SQdBUi0FAqnpBoC0zQcA0vkAA00hA",
          "dtype": "f4"
         }
        },
        {
         "hovertemplate": "<b>Year:</b> %{text}<br><b>Month:</b> %{x}<br><b>Temp:</b> %{y:.2f} °C<extra></extra>",
         "line": {
          "color": "grey",
          "width": 1.5
         },
         "mode": "lines",
         "opacity": 0.3,
         "showlegend": false,
         "text": [
          "2007",
          "2007",
          "2007",
          "2007",
          "2007",
          "2007",
          "2007",
          "2007",
          "2007",
          "2007",
          "2007",
          "2007"
         ],
         "type": "scatter",
         "x": [
          "Jan",
          "Feb",
          "Mar",
          "Apr",
          "May",
          "Jun",
          "Jul",
          "Aug",
          "Sep",
          "Oct",
          "Nov",
          "Dec"
         ],
         "y": {
          "bdata": "AG31P4A3DEAA2bpAIJRKQWDYeEGgjZBBAPWMQfBKjEHgDX1B4EY8QYDp2EAAJydA",
          "dtype": "f4"
         }
        },
        {
         "hovertemplate": "<b>Year:</b> %{text}<br><b>Month:</b> %{x}<br><b>Temp:</b> %{y:.2f} °C<extra></extra>",
         "line": {
          "color": "grey",
          "width": 1.5
         },
         "mode": "lines",
         "opacity": 0.3,
         "showlegend": false,
         "text": [
          "2008",
          "2008",
          "2008",
          "2008",
          "2008",
          "2008",
          "2008",
          "2008",
          "2008",
          "2008",
          "2008",
          "2008"
         ],
         "type": "scatter",
         "x": [
          "Jan",
          "Feb",
          "Mar",
          "Apr",
          "May",
          "Jun",
          "Jul",
          "Aug",
          "Sep",
          "Oct",
          "Nov",
          "Dec"
         ],
         "y": {
          "bdata": "ACYWPwCwsz9AZvlAwAlCQaD4bEFQm4ZBcMmKQcC4iEGgP3RBIJUvQYAg7kCAQJBA",
          "dtype": "f4"
         }
        },
        {
         "hovertemplate": "<b>Year:</b> %{text}<br><b>Month:</b> %{x}<br><b>Temp:</b> %{y:.2f} °C<extra></extra>",
         "line": {
          "color": "grey",
          "width": 1.5
         },
         "mode": "lines",
         "opacity": 0.3,
         "showlegend": false,
         "text": [
          "2009",
          "2009",
          "2009",
          "2009",
          "2009",
          "2009",
          "2009",
          "2009",
          "2009",
          "2009",
          "2009",
          "2009"
         ],
         "type": "scatter",
         "x": [
          "Jan",
          "Feb",
          "Mar",
          "Apr",
          "May",
          "Jun",
          "Jul",
          "Aug",
          "Sep",
          "Oct",
          "Nov",
          "Dec"
         ],
         "y": {
          "bdata": "ADM+QABFkUDAHfxAwBJUQQCya0Fgj5JBoLqUQYCGjEEAB4FBoKUtQQDjwkCAiwhA",
          "dtype": "f4"
         }
        },
        {
         "hovertemplate": "<b>Year:</b> %{text}<br><b>Month:</b> %{x}<br><b>Temp:</b> %{y:.2f} °C<extra></extra>",
         "line": {
          "color": "grey",
          "width": 1.5
         },
         "mode": "lines",
         "opacity": 0.3,
         "showlegend": false,
         "text": [
          "2010",
          "2010",
          "2010",
          "2010",
          "2010",
          "2010",
          "2010",
          "2010",
          "2010",
          "2010",
          "2010",
          "2010"
         ],
         "type": "scatter",
         "x": [
          "Jan",
          "Feb",
          "Mar",
          "Apr",
          "May",
          "Jun",
          "Jul",
          "Aug",
          "Sep",
          "Oct",
          "Nov",
          "Dec"
         ],
         "y": {
          "bdata": "AOTgPgBYKUAA9BlB4PNkQSDzfkEgEZNB0OKRQXCmjEHg23xBYMI9QQAV8EAAMRVA",
          "dtype": "f4"
         }
        },
        {
         "hovertemplate": "<b>Year:</b> %{text}<br><b>Month:</b> %{x}<br><b>Temp:</b> %{y:.2f} °C<extra></extra>",
         "line": {
          "color": "grey",
          "width": 1.5
         },
         "mode": "lines",
         "opacity": 0.3,
         "showlegend": false,
         "text": [
          "2011",
          "2011",
          "2011",
          "2011",
          "2011",
          "2011",
          "2011",
          "2011",
          "2011",
          "2011",
          "2011",
          "2011"
         ],
         "type": "scatter",
         "x": [
          "Jan",
          "Feb",
          "Mar",
          "Apr",
          "May",
          "Jun",
          "Jul",
          "Aug",
          "Sep",
          "Oct",
          "Nov",
          "Dec"
         ],
         "y": {
          "bdata": "AKA6v4DXF0CAV95AQNMsQSCIb0FAHYdB8EWMQTA0iUHAVn9BYHI5QUAf60AArW1A",
          "dtype": "f4"
         }
        },
        {
         "hovertemplate": "<b>Year:</b> %{text}<br><b>Month:</b> %{x}<br><b>Temp:</b> %{y:.2f} °C<extra></extra>",
         "line": {
          "color": "grey",
          "width": 1.5
         },
         "mode": "lines",
         "opacity": 0.3,
         "showlegend": false,
         "text": [
          "2012",
          "2012",
          "2012",
          "2012",
          "2012",
          "2012",
          "2012",
          "2012",
          "2012",
          "2012",
          "2012",
          "2012"
         ],
         "type": "scatter",
         "x": [
          "Jan",
          "Feb",
          "Mar",
          "Apr",
          "May",
          "Jun",
          "Jul",
          "Aug",
          "Sep",
          "Oct",
          "Nov",
          "Dec"
         ],
         "y": {
          "bdata": "APK4vwAzyT9AvrtAgMQ3QUBIeEEAJZlB0BuQQfDuikGA3npB4JInQcAEuUCAWhxA",
          "dtype": "f4"
         }
        },
        {
         "hovertemplate": "<b>Year:</b> %{text}<br><b>Month:</b> %{x}<br><b>Temp:</b> %{y:.2f} °C<extra></extra>",
         "line": {
          "color": "grey",
          "width": 1.5
         },
         "mode": "lines",
         "opacity": 0.3,
         "showlegend": false,
         "text": [
          "2013",
          "2013",
          "2013",
          "2013",
          "2013",
          "2013",
          "2013",
          "2013",
          "2013",
          "2013",
          "2013",
          "2013"
         ],
         "type": "scatter",
         "x": [
          "Jan",
          "Feb",
          "Mar",
          "Apr",
          "May",
          "Jun",
          "Jul",
          "Aug",
          "Sep",
          "Oct",
          "Nov",
          "Dec"
         ],
         "y": {
          "bdata": "AEoevwDrwT+AxtZAwKo4QYCAfEEw8YtBwGiPQRCIikHADn5BgNwxQUBnp0AArx5A",
          "dtype": "f4"
         }
        },
        {
         "hovertemplate": "<b>Year:</b> %{text}<br><b>Month:</b> %{x}<br><b>Temp:</b> %{y:.2f} °C<extra></extra>",
         "line": {
          "color": "grey",
          "width": 1.5
         },
         "mode": "lines",
         "opacity": 0.3,
         "showlegend": false,
         "text": [
          "2014",
          "2014",
          "2014",
          "2014",
          "2014",
          "2014",
          "2014",
          "2014",
          "2014",
          "2014",
          "2014",
          "2014"
         ],
         "type": "scatter",
         "x": [
          "Jan",
          "Feb",
          "Mar",
          "Apr",
          "May",
          "Jun",
          "Jul",
          "Aug",
          "Sep",
          "Oct",
          "Nov",
          "Dec"
         ],
         "y": {
          "bdata": "AKBpvQBntz+ArbdAIOgyQQASckHglZVBQAORQYCLjEFg9H5BABceQcDeuUAAdK4/",
          "dtype": "f4"
         }
        },
        {
         "hovertemplate": "<b>Year:</b> %{text}<br><b>Month:</b> %{x}<br><b>Temp:</b> %{y:.2f} °C<extra></extra>",
         "line": {
          "color": "grey",
          "width": 1.5
         },
         "mode": "lines",
         "opacity": 0.3,
         "showlegend": false,
         "text": [
          "2015",
          "2015",
          "2015",
          "2015",
          "2015",
          "2015",
          "2015",
          "2015",
          "2015",
          "2015",
          "2015",
          "2015"
         ],
         "type": "scatter",
         "x": [
          "Jan",
          "Feb",
          "Mar",
          "Apr",
          "May",
          "Jun",
          "Jul",
          "Aug",
          "Sep",
          "Oct",
          "Nov",
          "Dec"
         ],
         "y": {
          "bdata": "AKCxvwB9H0DAhblAgBciQQBpdEHgII9B4KaQQfCUjEHg2oZBYAA/QUAr60AApy5A",
          "dtype": "f4"
         }
        },
        {
         "hovertemplate": "<b>Year:</b> %{text}<br><b>Month:</b> %{x}<br><b>Temp:</b> %{y:.2f} °C<extra></extra>",
         "line": {
          "color": "grey",
          "width": 1.5
         },
         "mode": "lines",
         "opacity": 0.3,
         "showlegend": false,
         "text": [
          "2016",
          "2016",
          "2016",
          "2016",
          "2016",
          "2016",
          "2016",
          "2016",
          "2016",
          "2016",
          "2016",
          "2016"
         ],
         "type": "scatter",
         "x": [
          "Jan",
          "Feb",
          "Mar",
          "Apr",
          "May",
          "Jun",
          "Jul",
          "Aug",
          "Sep",
          "Oct",
          "Nov",
          "Dec"
         ],
         "y": {
          "bdata": "AApZP4CdnEDAWQlBgH9cQUCmdkHwiJJBoMyNQfDejUHQjYJBYItMQcDH90AAfaZA",
          "dtype": "f4"
         }
        },
        {
         "hovertemplate": "<b>Year:</b> %{text}<br><b>Month:</b> %{x}<br><b>Temp:</b> %{y:.2f} °C<extra></extra>",
         "line": {
          "color": "grey",
          "width": 1.5
         },
         "mode": "lines",
         "opacity": 0.3,
         "showlegend": false,
         "text": [
          "2017",
          "2017",
          "2017",
          "2017",
          "2017",
          "2017",
          "2017",
          "2017",
          "2017",
          "2017",
          "2017",
          "2017"
         ],
         "type": "scatter",
         "x": [
          "Jan",
          "Feb",
          "Mar",
          "Apr",
          "May",
          "Jun",
          "Jul",
          "Aug",
          "Sep",
          "Oct",
          "Nov",
          "Dec"
         ],
         "y": {
          "bdata": "AMQpP4CCjkBA/NBA4DpOQQC8dEEgHJBBUNCOQWAjj0HAi4dBgOdSQcDU20CAdnhA",
          "dtype": "f4"
         }
        },
        {
         "hovertemplate": "<b>Year:</b> %{text}<br><b>Month:</b> %{x}<br><b>Temp:</b> %{y:.2f} °C<extra></extra>",
         "line": {
          "color": "grey",
          "width": 1.5
         },
         "mode": "lines",
         "opacity": 0.3,
         "showlegend": false,
         "text": [
          "2018",
          "2018",
          "2018",
          "2018",
          "2018",
          "2018",
          "2018",
          "2018",
          "2018",
          "2018",
          "2018",
          "2018"
         ],
         "type": "scatter",
         "x": [
          "Jan",
          "Feb",
          "Mar",
          "Apr",
          "May",
          "Jun",
          "Jul",
          "Aug",
          "Sep",
          "Oct",
          "Nov",
          "Dec"
         ],
         "y": {
          "bdata": "ALXVP0BBhUAAUwJBwBFCQUDzdkGwZpVBkGKSQZBzjUGgmoFBwOwoQcAW3UAASsE/",
          "dtype": "f4"
         }
        },
        {
         "hovertemplate": "<b>Year:</b> %{text}<br><b>Month:</b> %{x}<br><b>Temp:</b> %{y:.2f} °C<extra></extra>",
         "line": {
          "color": "grey",
          "width": 1.5
         },
         "mode": "lines",
         "opacity": 0.3,
         "showlegend": false,
         "text": [
          "2019",
          "2019",
          "2019",
          "2019",
          "2019",
          "2019",
          "2019",
          "2019",
          "2019",
          "2019",
          "2019",
          "2019"
         ],
         "type": "scatter",
         "x": [
          "Jan",
          "Feb",
          "Mar",
          "Apr",
          "May",
          "Jun",
          "Jul",
          "Aug",
          "Sep",
          "Oct",
          "Nov",
          "Dec"
         ],
         "y": {
          "bdata": "AKofvwBXpT/ATqpAIGJCQSAAeUFwNpRBgFyPQWDSkUHQrIBBIN87QUC89kAAjKE+",
          "dtype": "f4"
         }
        },
        {
         "hovertemplate": "<b>Year:</b> %{text}<br><b>Month:</b> %{x}<br><b>Temp:</b> %{y:.2f} °C<extra></extra>",
         "line": {
          "color": "red",
          "dash": "dash",
          "width": 5
         },
         "mode": "lines",
         "name": "2020",
         "opacity": 0.7,
         "text": [
          "2020",
          "2020",
          "2020",
          "2020",
          "2020",
          "2020",
          "2020",
          "2020",
          "2020",
          "2020",
          "2020",
          "2020"
         ],
         "type": "scatter",
         "x": [
          "Jan",
          "Feb",
          "Mar",
          "Apr",
          "May",
          "Jun",
          "Jul",
          "Aug",
          "Sep",
          "Oct",
          "Nov",
          "Dec"
         ],
         "y": {
          "bdata": "ALZ2vwAU8D8AwsNAIG4qQcB1X0HwpIhB8FyQQUCLkkGAtYhBIN5WQQDwvEAAlRdA",
          "dtype": "f4"
         }
        },
        {
         "hovertemplate": "<b>Year:</b> %{text}<br><b>Month:</b> %{x}<br><b>Temp:</b> %{y:.2f} °C<extra></extra>",
         "line": {
          "color": "blue",
          "dash": "dash",
          "width": 5
         },
         "mode": "lines",
         "name": "2021",
         "opacity": 0.7,
         "text": [
          "2021",
          "2021",
          "2021",
          "2021",
          "2021",
          "2021",
          "2021",
          "2021",
          "2021",
          "2021",
          "2021",
          "2021"
         ],
         "type": "scatter",
         "x": [
          "Jan",
          "Feb",
          "Mar",
          "Apr",
          "May",
          "Jun",
          "Jul",
          "Aug",
          "Sep",
          "Oct",
          "Nov",
          "Dec"
         ],
         "y": {
          "bdata": "AKIHQIC0iECAfQ5BYAo1QeASXkEg/IhB8FeTQTDUjkEQbYNBYKhOQcDD0kAAKZo/",
          "dtype": "f4"
         }
        },
        {
         "hovertemplate": "<b>Year:</b> %{text}<br><b>Month:</b> %{x}<br><b>Temp:</b> %{y:.2f} °C<extra></extra>",
         "line": {
          "color": "green",
          "dash": "dash",
          "width": 5
         },
         "mode": "lines",
         "name": "2022",
         "opacity": 0.7,
         "text": [
          "2022",
          "2022",
          "2022",
          "2022",
          "2022",
          "2022",
          "2022",
          "2022",
          "2022",
          "2022",
          "2022",
          "2022"
         ],
         "type": "scatter",
         "x": [
          "Jan",
          "Feb",
          "Mar",
          "Apr",
          "May",
          "Jun",
          "Jul",
          "Aug",
          "Sep",
          "Oct",
          "Nov",
          "Dec"
         ],
         "y": {
          "bdata": "AGhkvwD+OT/gQBpBwMxjQUDNfkFQxpVBsOeXQVAqlEHA4oJBYPgvQYBS20CAE2RA",
          "dtype": "f4"
         }
        },
        {
         "hovertemplate": "<b>Year:</b> %{text}<br><b>Month:</b> %{x}<br><b>Temp:</b> %{y:.2f} °C<extra></extra>",
         "line": {
          "color": "orange",
          "dash": "dash",
          "width": 5
         },
         "mode": "lines",
         "name": "2023",
         "opacity": 0.7,
         "text": [
          "2023",
          "2023",
          "2023",
          "2023",
          "2023",
          "2023",
          "2023",
          "2023",
          "2023",
          "2023",
          "2023",
          "2023"
         ],
         "type": "scatter",
         "x": [
          "Jan",
          "Feb",
          "Mar",
          "Apr",
          "May",
          "Jun",
          "Jul",
          "Aug",
          "Sep",
          "Oct",
          "Nov",
          "Dec"
         ],
         "y": {
          "bdata": "AIemP8DuoECAXvdAIDYzQUAkWUGwPpJBMAGUQcBUkEGAO4dBYMs6QUBi30CAQTJA",
          "dtype": "f4"
         }
        },
        {
         "hovertemplate": "<b>Year:</b> %{text}<br><b>Month:</b> %{x}<br><b>Temp:</b> %{y:.2f} °C<extra></extra>",
         "line": {
          "color": "black",
          "dash": "longdash",
          "width": 8
         },
         "mode": "lines",
         "name": "2024",
         "opacity": 0.9,
         "text": [
          "2024",
          "2024",
          "2024",
          "2024",
          "2024",
          "2024",
          "2024",
          "2024",
          "2024",
          "2024",
          "2024",
          "2024"
         ],
         "type": "scatter",
         "x": [
          "Jan",
          "Feb",
          "Mar",
          "Apr",
          "May",
          "Jun",
          "Jul",
          "Aug",
          "Sep",
          "Oct",
          "Nov",
          "Dec"
         ],
         "y": {
          "bdata": "AODVvQANI0BAgOlAAKFQQRB0gUGg+ZpB8FiYQbAJkEFAkYZBIOpSQWAtBUGAqUxA",
          "dtype": "f4"
         }
        }
       ],
       "layout": {
        "height": 800,
        "legend": {
         "font": {
          "color": "black",
          "family": "Calibri",
          "size": 16,
          "weight": "bold"
         },
         "title": {
          "font": {
           "color": "black",
           "family": "Calibri",
           "size": 18,
           "weight": "bold"
          },
          "text": "Year"
         }
        },
        "template": {
         "data": {
          "bar": [
           {
            "error_x": {
             "color": "#2a3f5f"
            },
            "error_y": {
             "color": "#2a3f5f"
            },
            "marker": {
             "line": {
              "color": "white",
              "width": 0.5
             },
             "pattern": {
              "fillmode": "overlay",
              "size": 10,
              "solidity": 0.2
             }
            },
            "type": "bar"
           }
          ],
          "barpolar": [
           {
            "marker": {
             "line": {
              "color": "white",
              "width": 0.5
             },
             "pattern": {
              "fillmode": "overlay",
              "size": 10,
              "solidity": 0.2
             }
            },
            "type": "barpolar"
           }
          ],
          "carpet": [
           {
            "aaxis": {
             "endlinecolor": "#2a3f5f",
             "gridcolor": "#C8D4E3",
             "linecolor": "#C8D4E3",
             "minorgridcolor": "#C8D4E3",
             "startlinecolor": "#2a3f5f"
            },
            "baxis": {
             "endlinecolor": "#2a3f5f",
             "gridcolor": "#C8D4E3",
             "linecolor": "#C8D4E3",
             "minorgridcolor": "#C8D4E3",
             "startlinecolor": "#2a3f5f"
            },
            "type": "carpet"
           }
          ],
          "choropleth": [
           {
            "colorbar": {
             "outlinewidth": 0,
             "ticks": ""
            },
            "type": "choropleth"
           }
          ],
          "contour": [
           {
            "colorbar": {
             "outlinewidth": 0,
             "ticks": ""
            },
            "colorscale": [
             [
              0,
              "#0d0887"
             ],
             [
              0.1111111111111111,
              "#46039f"
             ],
             [
              0.2222222222222222,
              "#7201a8"
             ],
             [
              0.3333333333333333,
              "#9c179e"
             ],
             [
              0.4444444444444444,
              "#bd3786"
             ],
             [
              0.5555555555555556,
              "#d8576b"
             ],
             [
              0.6666666666666666,
              "#ed7953"
             ],
             [
              0.7777777777777778,
              "#fb9f3a"
             ],
             [
              0.8888888888888888,
              "#fdca26"
             ],
             [
              1,
              "#f0f921"
             ]
            ],
            "type": "contour"
           }
          ],
          "contourcarpet": [
           {
            "colorbar": {
             "outlinewidth": 0,
             "ticks": ""
            },
            "type": "contourcarpet"
           }
          ],
          "heatmap": [
           {
            "colorbar": {
             "outlinewidth": 0,
             "ticks": ""
            },
            "colorscale": [
             [
              0,
              "#0d0887"
             ],
             [
              0.1111111111111111,
              "#46039f"
             ],
             [
              0.2222222222222222,
              "#7201a8"
             ],
             [
              0.3333333333333333,
              "#9c179e"
             ],
             [
              0.4444444444444444,
              "#bd3786"
             ],
             [
              0.5555555555555556,
              "#d8576b"
             ],
             [
              0.6666666666666666,
              "#ed7953"
             ],
             [
              0.7777777777777778,
              "#fb9f3a"
             ],
             [
              0.8888888888888888,
              "#fdca26"
             ],
             [
              1,
              "#f0f921"
             ]
            ],
            "type": "heatmap"
           }
          ],
          "histogram": [
           {
            "marker": {
             "pattern": {
              "fillmode": "overlay",
              "size": 10,
              "solidity": 0.2
             }
            },
            "type": "histogram"
           }
          ],
          "histogram2d": [
           {
            "colorbar": {
             "outlinewidth": 0,
             "ticks": ""
            },
            "colorscale": [
             [
              0,
              "#0d0887"
             ],
             [
              0.1111111111111111,
              "#46039f"
             ],
             [
              0.2222222222222222,
              "#7201a8"
             ],
             [
              0.3333333333333333,
              "#9c179e"
             ],
             [
              0.4444444444444444,
              "#bd3786"
             ],
             [
              0.5555555555555556,
              "#d8576b"
             ],
             [
              0.6666666666666666,
              "#ed7953"
             ],
             [
              0.7777777777777778,
              "#fb9f3a"
             ],
             [
              0.8888888888888888,
              "#fdca26"
             ],
             [
              1,
              "#f0f921"
             ]
            ],
            "type": "histogram2d"
           }
          ],
          "histogram2dcontour": [
           {
            "colorbar": {
             "outlinewidth": 0,
             "ticks": ""
            },
            "colorscale": [
             [
              0,
              "#0d0887"
             ],
             [
              0.1111111111111111,
              "#46039f"
             ],
             [
              0.2222222222222222,
              "#7201a8"
             ],
             [
              0.3333333333333333,
              "#9c179e"
             ],
             [
              0.4444444444444444,
              "#bd3786"
             ],
             [
              0.5555555555555556,
              "#d8576b"
             ],
             [
              0.6666666666666666,
              "#ed7953"
             ],
             [
              0.7777777777777778,
              "#fb9f3a"
             ],
             [
              0.8888888888888888,
              "#fdca26"
             ],
             [
              1,
              "#f0f921"
             ]
            ],
            "type": "histogram2dcontour"
           }
          ],
          "mesh3d": [
           {
            "colorbar": {
             "outlinewidth": 0,
             "ticks": ""
            },
            "type": "mesh3d"
           }
          ],
          "parcoords": [
           {
            "line": {
             "colorbar": {
              "outlinewidth": 0,
              "ticks": ""
             }
            },
            "type": "parcoords"
           }
          ],
          "pie": [
           {
            "automargin": true,
            "type": "pie"
           }
          ],
          "scatter": [
           {
            "fillpattern": {
             "fillmode": "overlay",
             "size": 10,
             "solidity": 0.2
            },
            "type": "scatter"
           }
          ],
          "scatter3d": [
           {
            "line": {
             "colorbar": {
              "outlinewidth": 0,
              "ticks": ""
             }
            },
            "marker": {
             "colorbar": {
              "outlinewidth": 0,
              "ticks": ""
             }
            },
            "type": "scatter3d"
           }
          ],
          "scattercarpet": [
           {
            "marker": {
             "colorbar": {
              "outlinewidth": 0,
              "ticks": ""
             }
            },
            "type": "scattercarpet"
           }
          ],
          "scattergeo": [
           {
            "marker": {
             "colorbar": {
              "outlinewidth": 0,
              "ticks": ""
             }
            },
            "type": "scattergeo"
           }
          ],
          "scattergl": [
           {
            "marker": {
             "colorbar": {
              "outlinewidth": 0,
              "ticks": ""
             }
            },
            "type": "scattergl"
           }
          ],
          "scattermap": [
           {
            "marker": {
             "colorbar": {
              "outlinewidth": 0,
              "ticks": ""
             }
            },
            "type": "scattermap"
           }
          ],
          "scattermapbox": [
           {
            "marker": {
             "colorbar": {
              "outlinewidth": 0,
              "ticks": ""
             }
            },
            "type": "scattermapbox"
           }
          ],
          "scatterpolar": [
           {
            "marker": {
             "colorbar": {
              "outlinewidth": 0,
              "ticks": ""
             }
            },
            "type": "scatterpolar"
           }
          ],
          "scatterpolargl": [
           {
            "marker": {
             "colorbar": {
              "outlinewidth": 0,
              "ticks": ""
             }
            },
            "type": "scatterpolargl"
           }
          ],
          "scatterternary": [
           {
            "marker": {
             "colorbar": {
              "outlinewidth": 0,
              "ticks": ""
             }
            },
            "type": "scatterternary"
           }
          ],
          "surface": [
           {
            "colorbar": {
             "outlinewidth": 0,
             "ticks": ""
            },
            "colorscale": [
             [
              0,
              "#0d0887"
             ],
             [
              0.1111111111111111,
              "#46039f"
             ],
             [
              0.2222222222222222,
              "#7201a8"
             ],
             [
              0.3333333333333333,
              "#9c179e"
             ],
             [
              0.4444444444444444,
              "#bd3786"
             ],
             [
              0.5555555555555556,
              "#d8576b"
             ],
             [
              0.6666666666666666,
              "#ed7953"
             ],
             [
              0.7777777777777778,
              "#fb9f3a"
             ],
             [
              0.8888888888888888,
              "#fdca26"
             ],
             [
              1,
              "#f0f921"
             ]
            ],
            "type": "surface"
           }
          ],
          "table": [
           {
            "cells": {
             "fill": {
              "color": "#EBF0F8"
             },
             "line": {
              "color": "white"
             }
            },
            "header": {
             "fill": {
              "color": "#C8D4E3"
             },
             "line": {
              "color": "white"
             }
            },
            "type": "table"
           }
          ]
         },
         "layout": {
          "annotationdefaults": {
           "arrowcolor": "#2a3f5f",
           "arrowhead": 0,
           "arrowwidth": 1
          },
          "autotypenumbers": "strict",
          "coloraxis": {
           "colorbar": {
            "outlinewidth": 0,
            "ticks": ""
           }
          },
          "colorscale": {
           "diverging": [
            [
             0,
             "#8e0152"
            ],
            [
             0.1,
             "#c51b7d"
            ],
            [
             0.2,
             "#de77ae"
            ],
            [
             0.3,
             "#f1b6da"
            ],
            [
             0.4,
             "#fde0ef"
            ],
            [
             0.5,
             "#f7f7f7"
            ],
            [
             0.6,
             "#e6f5d0"
            ],
            [
             0.7,
             "#b8e186"
            ],
            [
             0.8,
             "#7fbc41"
            ],
            [
             0.9,
             "#4d9221"
            ],
            [
             1,
             "#276419"
            ]
           ],
           "sequential": [
            [
             0,
             "#0d0887"
            ],
            [
             0.1111111111111111,
             "#46039f"
            ],
            [
             0.2222222222222222,
             "#7201a8"
            ],
            [
             0.3333333333333333,
             "#9c179e"
            ],
            [
             0.4444444444444444,
             "#bd3786"
            ],
            [
             0.5555555555555556,
             "#d8576b"
            ],
            [
             0.6666666666666666,
             "#ed7953"
            ],
            [
             0.7777777777777778,
             "#fb9f3a"
            ],
            [
             0.8888888888888888,
             "#fdca26"
            ],
            [
             1,
             "#f0f921"
            ]
           ],
           "sequentialminus": [
            [
             0,
             "#0d0887"
            ],
            [
             0.1111111111111111,
             "#46039f"
            ],
            [
             0.2222222222222222,
             "#7201a8"
            ],
            [
             0.3333333333333333,
             "#9c179e"
            ],
            [
             0.4444444444444444,
             "#bd3786"
            ],
            [
             0.5555555555555556,
             "#d8576b"
            ],
            [
             0.6666666666666666,
             "#ed7953"
            ],
            [
             0.7777777777777778,
             "#fb9f3a"
            ],
            [
             0.8888888888888888,
             "#fdca26"
            ],
            [
             1,
             "#f0f921"
            ]
           ]
          },
          "colorway": [
           "#636efa",
           "#EF553B",
           "#00cc96",
           "#ab63fa",
           "#FFA15A",
           "#19d3f3",
           "#FF6692",
           "#B6E880",
           "#FF97FF",
           "#FECB52"
          ],
          "font": {
           "color": "#2a3f5f"
          },
          "geo": {
           "bgcolor": "white",
           "lakecolor": "white",
           "landcolor": "white",
           "showlakes": true,
           "showland": true,
           "subunitcolor": "#C8D4E3"
          },
          "hoverlabel": {
           "align": "left"
          },
          "hovermode": "closest",
          "mapbox": {
           "style": "light"
          },
          "paper_bgcolor": "white",
          "plot_bgcolor": "white",
          "polar": {
           "angularaxis": {
            "gridcolor": "#EBF0F8",
            "linecolor": "#EBF0F8",
            "ticks": ""
           },
           "bgcolor": "white",
           "radialaxis": {
            "gridcolor": "#EBF0F8",
            "linecolor": "#EBF0F8",
            "ticks": ""
           }
          },
          "scene": {
           "xaxis": {
            "backgroundcolor": "white",
            "gridcolor": "#DFE8F3",
            "gridwidth": 2,
            "linecolor": "#EBF0F8",
            "showbackground": true,
            "ticks": "",
            "zerolinecolor": "#EBF0F8"
           },
           "yaxis": {
            "backgroundcolor": "white",
            "gridcolor": "#DFE8F3",
            "gridwidth": 2,
            "linecolor": "#EBF0F8",
            "showbackground": true,
            "ticks": "",
            "zerolinecolor": "#EBF0F8"
           },
           "zaxis": {
            "backgroundcolor": "white",
            "gridcolor": "#DFE8F3",
            "gridwidth": 2,
            "linecolor": "#EBF0F8",
            "showbackground": true,
            "ticks": "",
            "zerolinecolor": "#EBF0F8"
           }
          },
          "shapedefaults": {
           "line": {
            "color": "#2a3f5f"
           }
          },
          "ternary": {
           "aaxis": {
            "gridcolor": "#DFE8F3",
            "linecolor": "#A2B1C6",
            "ticks": ""
           },
           "baxis": {
            "gridcolor": "#DFE8F3",
            "linecolor": "#A2B1C6",
            "ticks": ""
           },
           "bgcolor": "white",
           "caxis": {
            "gridcolor": "#DFE8F3",
            "linecolor": "#A2B1C6",
            "ticks": ""
           }
          },
          "title": {
           "x": 0.05
          },
          "xaxis": {
           "automargin": true,
           "gridcolor": "#EBF0F8",
           "linecolor": "#EBF0F8",
           "ticks": "",
           "title": {
            "standoff": 15
           },
           "zerolinecolor": "#EBF0F8",
           "zerolinewidth": 2
          },
          "yaxis": {
           "automargin": true,
           "gridcolor": "#EBF0F8",
           "linecolor": "#EBF0F8",
           "ticks": "",
           "title": {
            "standoff": 15
           },
           "zerolinecolor": "#EBF0F8",
           "zerolinewidth": 2
          }
         }
        },
        "title": {
         "font": {
          "color": "black",
          "family": "Calibri",
          "size": 24,
          "weight": "bold"
         },
         "text": "Monthly Temperature of Nepal (1940 to 2024)"
        },
        "width": 1600,
        "xaxis": {
         "tickfont": {
          "color": "black",
          "family": "Calibri",
          "size": 18,
          "weight": "bold"
         },
         "title": {
          "font": {
           "color": "black",
           "family": "Calibri",
           "size": 22,
           "weight": "bold"
          },
          "text": "Month"
         }
        },
        "yaxis": {
         "tickfont": {
          "color": "black",
          "family": "Calibri",
          "size": 18,
          "weight": "bold"
         },
         "title": {
          "font": {
           "color": "black",
           "family": "Calibri",
           "size": 22,
           "weight": "bold"
          },
          "text": "Temperature (°C)"
         }
        }
       }
      }
     },
     "metadata": {},
     "output_type": "display_data"
    }
   ],
   "source": [
    "#Plotting a graph that shows the temperatures for each month from 1940 to 2024\n",
    "\n",
    "#Starting by initializing plotly figure to add parts to\n",
    "fig = go.Figure()\n",
    "\n",
    "month_names = ['Jan', 'Feb', 'Mar', 'Apr', 'May', 'Jun','Jul', 'Aug', 'Sep', 'Oct', 'Nov', 'Dec'] # To replace the numbers 1-12\n",
    "\n",
    "#Lines for older years and making them all grey (1940–2019)\n",
    "prev_years = list(range(1940, 2020))\n",
    "for i, year in enumerate(sorted(prev_years)):\n",
    "    #For each year, getting the 12 month temperatures\n",
    "    yearly_data = df_monthly_temp[df_monthly_temp['year'] == year]\n",
    "    #Getting actual months instead of numbers from 1-12\n",
    "    months = [month_names[m-1] for m in yearly_data['month']]\n",
    "    #Getting the temperature values (C) for selected month\n",
    "    temperature = yearly_data['monthly_temperature_C']\n",
    "    \n",
    "    #Since all years from 1940 to 2019 have the same properties, adding only one legend entry for 1940–2019\n",
    "    show_legend = True if i == 0 else False\n",
    "    fig.add_trace(go.Scatter(\n",
    "        x = months, y = temperature,\n",
    "        mode = 'lines',\n",
    "        line = dict(color = 'grey', width = 1.5),\n",
    "        opacity = 0.3,\n",
    "        name = \"1940 – 2019\" if show_legend else None,\n",
    "        showlegend=show_legend,\n",
    "        hovertemplate=\n",
    "            '<b>Year:</b> %{text}<br>' +\n",
    "            '<b>Month:</b> %{x}<br>' +\n",
    "            '<b>Temp:</b> %{y:.2f} °C<extra></extra>',\n",
    "        text=[str(year)] * len(months) \n",
    "    ))\n",
    "\n",
    "#Lines for more recent years and making them different colors and more bolder (2020–2023, dashed thick lines)\n",
    "new_years = [2020, 2021, 2022, 2023]\n",
    "new_colors = {2020: \"red\", 2021: \"blue\", 2022: \"green\", 2023: \"orange\"}\n",
    "for year in new_years:\n",
    "    yearly_data = df_monthly_temp[df_monthly_temp['year'] == year]\n",
    "    months = [month_names[m-1] for m in yearly_data['month']]\n",
    "    temperature = yearly_data['monthly_temperature_C']\n",
    "    \n",
    "    fig.add_trace(go.Scatter(\n",
    "        x = months, y = temperature,\n",
    "        mode = 'lines',\n",
    "        line = dict(dash = 'dash', width = 5, color = new_colors[year]),\n",
    "        opacity = 0.7,\n",
    "        name = str(year),\n",
    "        hovertemplate=\n",
    "            '<b>Year:</b> %{text}<br>' +\n",
    "            '<b>Month:</b> %{x}<br>' +\n",
    "            '<b>Temp:</b> %{y:.2f} °C<extra></extra>',\n",
    "        text=[str(year)] * len(months) \n",
    "    ))\n",
    "\n",
    "#Line for most recent year 2024, making it bold and black\n",
    "year = 2024\n",
    "yearly_data = df_monthly_temp[df_monthly_temp['year'] == year]\n",
    "months = [month_names[m-1] for m in yearly_data['month']]\n",
    "temperature = yearly_data['monthly_temperature_C']\n",
    "\n",
    "fig.add_trace(go.Scatter(\n",
    "    x = months, y = temperature,\n",
    "    mode = 'lines',\n",
    "    line = dict(dash = 'longdash', width = 8, color = 'black'),\n",
    "    opacity = 0.9,\n",
    "    name = str(year),\n",
    "    hovertemplate=\n",
    "            '<b>Year:</b> %{text}<br>' +\n",
    "            '<b>Month:</b> %{x}<br>' +\n",
    "            '<b>Temp:</b> %{y:.2f} °C<extra></extra>',\n",
    "        text=[str(year)] * len(months) \n",
    "))\n",
    "\n",
    "#Overall layout for the graph\n",
    "fig.update_layout(\n",
    "    title=\"Monthly Temperature of Nepal (1940 to 2024)\",\n",
    "    title_font=dict(size=24, family=\"Calibri\", color=\"black\"),  \n",
    "    xaxis=dict(\n",
    "        title=\"Month\",\n",
    "        title_font=dict(size=22, family=\"Calibri\", color=\"black\"), \n",
    "        tickfont=dict(size=18, family=\"Calibri\", color=\"black\")    \n",
    "    ),\n",
    "    yaxis=dict(\n",
    "        title=\"Temperature (°C)\",\n",
    "        title_font=dict(size=22, family=\"Calibri\", color=\"black\"),\n",
    "        tickfont=dict(size=18, family=\"Calibri\", color=\"black\")     \n",
    "    ),\n",
    "    legend=dict(\n",
    "        title=\"Year\",\n",
    "        title_font=dict(size=18, family=\"Calibri\", color=\"black\"), \n",
    "        font=dict(size=16, family=\"Calibri\", color=\"black\")       \n",
    "    ),\n",
    "    template=\"plotly_white\",\n",
    "    width=1600, height=800\n",
    ")\n",
    "\n",
    "fig.show()\n"
   ]
  },
  {
   "cell_type": "code",
   "execution_count": 9,
   "id": "f9d34ad7",
   "metadata": {},
   "outputs": [],
   "source": [
    "# df_monthly_temp.to_csv(r'year_monthly_temp_1940_2024.csv', index = False)"
   ]
  },
  {
   "cell_type": "code",
   "execution_count": 10,
   "id": "3d955c4e",
   "metadata": {},
   "outputs": [
    {
     "data": {
      "text/html": [
       "<div>\n",
       "<style scoped>\n",
       "    .dataframe tbody tr th:only-of-type {\n",
       "        vertical-align: middle;\n",
       "    }\n",
       "\n",
       "    .dataframe tbody tr th {\n",
       "        vertical-align: top;\n",
       "    }\n",
       "\n",
       "    .dataframe thead th {\n",
       "        text-align: right;\n",
       "    }\n",
       "</style>\n",
       "<table border=\"1\" class=\"dataframe\">\n",
       "  <thead>\n",
       "    <tr style=\"text-align: right;\">\n",
       "      <th></th>\n",
       "      <th>decade</th>\n",
       "      <th>avg_decade_temp_C</th>\n",
       "      <th>decade_date</th>\n",
       "    </tr>\n",
       "  </thead>\n",
       "  <tbody>\n",
       "    <tr>\n",
       "      <th>0</th>\n",
       "      <td>1940</td>\n",
       "      <td>9.130596</td>\n",
       "      <td>1940-01-01</td>\n",
       "    </tr>\n",
       "    <tr>\n",
       "      <th>1</th>\n",
       "      <td>1950</td>\n",
       "      <td>9.208232</td>\n",
       "      <td>1950-01-01</td>\n",
       "    </tr>\n",
       "    <tr>\n",
       "      <th>2</th>\n",
       "      <td>1960</td>\n",
       "      <td>9.603133</td>\n",
       "      <td>1960-01-01</td>\n",
       "    </tr>\n",
       "    <tr>\n",
       "      <th>3</th>\n",
       "      <td>1970</td>\n",
       "      <td>9.961705</td>\n",
       "      <td>1970-01-01</td>\n",
       "    </tr>\n",
       "    <tr>\n",
       "      <th>4</th>\n",
       "      <td>1980</td>\n",
       "      <td>10.021585</td>\n",
       "      <td>1980-01-01</td>\n",
       "    </tr>\n",
       "    <tr>\n",
       "      <th>5</th>\n",
       "      <td>1990</td>\n",
       "      <td>10.187354</td>\n",
       "      <td>1990-01-01</td>\n",
       "    </tr>\n",
       "    <tr>\n",
       "      <th>6</th>\n",
       "      <td>2000</td>\n",
       "      <td>10.510238</td>\n",
       "      <td>2000-01-01</td>\n",
       "    </tr>\n",
       "    <tr>\n",
       "      <th>7</th>\n",
       "      <td>2010</td>\n",
       "      <td>10.653485</td>\n",
       "      <td>2010-01-01</td>\n",
       "    </tr>\n",
       "    <tr>\n",
       "      <th>8</th>\n",
       "      <td>2020</td>\n",
       "      <td>10.957559</td>\n",
       "      <td>2020-01-01</td>\n",
       "    </tr>\n",
       "  </tbody>\n",
       "</table>\n",
       "</div>"
      ],
      "text/plain": [
       "   decade  avg_decade_temp_C decade_date\n",
       "0    1940           9.130596  1940-01-01\n",
       "1    1950           9.208232  1950-01-01\n",
       "2    1960           9.603133  1960-01-01\n",
       "3    1970           9.961705  1970-01-01\n",
       "4    1980          10.021585  1980-01-01\n",
       "5    1990          10.187354  1990-01-01\n",
       "6    2000          10.510238  2000-01-01\n",
       "7    2010          10.653485  2010-01-01\n",
       "8    2020          10.957559  2020-01-01"
      ]
     },
     "execution_count": 10,
     "metadata": {},
     "output_type": "execute_result"
    }
   ],
   "source": [
    "#Getting a datetime column for each year and month and their avg temps\n",
    "df_monthly_temp['date'] = df_monthly_temp['year'].astype(str) + '-' + df_monthly_temp['month'].astype(str) + '-01'\n",
    "df_monthly_temp['date'] = pd.to_datetime(df_monthly_temp['date'], format = '%Y-%m-%d')\n",
    "\n",
    "#Getting a decade column (will be the start of the decade)\n",
    "df_monthly_temp['decade'] = (df_monthly_temp['date'].dt.year // 10) * 10\n",
    "\n",
    "#Getting the decade average temperatures in a new table\n",
    "decade_avg = df_monthly_temp.groupby('decade')['monthly_temperature_C'].mean().reset_index()\n",
    "decade_avg.rename(columns={'monthly_temperature_C':'avg_decade_temp_C'}, inplace = True)\n",
    "\n",
    "# Create a \"date\" for the middle of the decade to plot the line smoothly\n",
    "decade_avg['decade_date'] = pd.to_datetime(decade_avg['decade'].astype(str) + \"-01-01\")\n",
    "\n",
    "decade_avg"
   ]
  },
  {
   "cell_type": "code",
   "execution_count": null,
   "id": "939ddc85",
   "metadata": {},
   "outputs": [
    {
     "data": {
      "application/vnd.plotly.v1+json": {
       "config": {
        "plotlyServerURL": "https://plot.ly"
       },
       "data": [
        {
         "hovertemplate": "<b>Date:</b> %{x}<br><b>Temperature:</b> %{y:.2f} °C<extra></extra>",
         "line": {
          "color": "black",
          "width": 1
         },
         "mode": "lines",
         "name": "Temperature",
         "opacity": 0.9,
         "type": "scatter",
         "x": [
          "1940-01-01T00:00:00.000000000",
          "1940-02-01T00:00:00.000000000",
          "1940-03-01T00:00:00.000000000",
          "1940-04-01T00:00:00.000000000",
          "1940-05-01T00:00:00.000000000",
          "1940-06-01T00:00:00.000000000",
          "1940-07-01T00:00:00.000000000",
          "1940-08-01T00:00:00.000000000",
          "1940-09-01T00:00:00.000000000",
          "1940-10-01T00:00:00.000000000",
          "1940-11-01T00:00:00.000000000",
          "1940-12-01T00:00:00.000000000",
          "1941-01-01T00:00:00.000000000",
          "1941-02-01T00:00:00.000000000",
          "1941-03-01T00:00:00.000000000",
          "1941-04-01T00:00:00.000000000",
          "1941-05-01T00:00:00.000000000",
          "1941-06-01T00:00:00.000000000",
          "1941-07-01T00:00:00.000000000",
          "1941-08-01T00:00:00.000000000",
          "1941-09-01T00:00:00.000000000",
          "1941-10-01T00:00:00.000000000",
          "1941-11-01T00:00:00.000000000",
          "1941-12-01T00:00:00.000000000",
          "1942-01-01T00:00:00.000000000",
          "1942-02-01T00:00:00.000000000",
          "1942-03-01T00:00:00.000000000",
          "1942-04-01T00:00:00.000000000",
          "1942-05-01T00:00:00.000000000",
          "1942-06-01T00:00:00.000000000",
          "1942-07-01T00:00:00.000000000",
          "1942-08-01T00:00:00.000000000",
          "1942-09-01T00:00:00.000000000",
          "1942-10-01T00:00:00.000000000",
          "1942-11-01T00:00:00.000000000",
          "1942-12-01T00:00:00.000000000",
          "1943-01-01T00:00:00.000000000",
          "1943-02-01T00:00:00.000000000",
          "1943-03-01T00:00:00.000000000",
          "1943-04-01T00:00:00.000000000",
          "1943-05-01T00:00:00.000000000",
          "1943-06-01T00:00:00.000000000",
          "1943-07-01T00:00:00.000000000",
          "1943-08-01T00:00:00.000000000",
          "1943-09-01T00:00:00.000000000",
          "1943-10-01T00:00:00.000000000",
          "1943-11-01T00:00:00.000000000",
          "1943-12-01T00:00:00.000000000",
          "1944-01-01T00:00:00.000000000",
          "1944-02-01T00:00:00.000000000",
          "1944-03-01T00:00:00.000000000",
          "1944-04-01T00:00:00.000000000",
          "1944-05-01T00:00:00.000000000",
          "1944-06-01T00:00:00.000000000",
          "1944-07-01T00:00:00.000000000",
          "1944-08-01T00:00:00.000000000",
          "1944-09-01T00:00:00.000000000",
          "1944-10-01T00:00:00.000000000",
          "1944-11-01T00:00:00.000000000",
          "1944-12-01T00:00:00.000000000",
          "1945-01-01T00:00:00.000000000",
          "1945-02-01T00:00:00.000000000",
          "1945-03-01T00:00:00.000000000",
          "1945-04-01T00:00:00.000000000",
          "1945-05-01T00:00:00.000000000",
          "1945-06-01T00:00:00.000000000",
          "1945-07-01T00:00:00.000000000",
          "1945-08-01T00:00:00.000000000",
          "1945-09-01T00:00:00.000000000",
          "1945-10-01T00:00:00.000000000",
          "1945-11-01T00:00:00.000000000",
          "1945-12-01T00:00:00.000000000",
          "1946-01-01T00:00:00.000000000",
          "1946-02-01T00:00:00.000000000",
          "1946-03-01T00:00:00.000000000",
          "1946-04-01T00:00:00.000000000",
          "1946-05-01T00:00:00.000000000",
          "1946-06-01T00:00:00.000000000",
          "1946-07-01T00:00:00.000000000",
          "1946-08-01T00:00:00.000000000",
          "1946-09-01T00:00:00.000000000",
          "1946-10-01T00:00:00.000000000",
          "1946-11-01T00:00:00.000000000",
          "1946-12-01T00:00:00.000000000",
          "1947-01-01T00:00:00.000000000",
          "1947-02-01T00:00:00.000000000",
          "1947-03-01T00:00:00.000000000",
          "1947-04-01T00:00:00.000000000",
          "1947-05-01T00:00:00.000000000",
          "1947-06-01T00:00:00.000000000",
          "1947-07-01T00:00:00.000000000",
          "1947-08-01T00:00:00.000000000",
          "1947-09-01T00:00:00.000000000",
          "1947-10-01T00:00:00.000000000",
          "1947-11-01T00:00:00.000000000",
          "1947-12-01T00:00:00.000000000",
          "1948-01-01T00:00:00.000000000",
          "1948-02-01T00:00:00.000000000",
          "1948-03-01T00:00:00.000000000",
          "1948-04-01T00:00:00.000000000",
          "1948-05-01T00:00:00.000000000",
          "1948-06-01T00:00:00.000000000",
          "1948-07-01T00:00:00.000000000",
          "1948-08-01T00:00:00.000000000",
          "1948-09-01T00:00:00.000000000",
          "1948-10-01T00:00:00.000000000",
          "1948-11-01T00:00:00.000000000",
          "1948-12-01T00:00:00.000000000",
          "1949-01-01T00:00:00.000000000",
          "1949-02-01T00:00:00.000000000",
          "1949-03-01T00:00:00.000000000",
          "1949-04-01T00:00:00.000000000",
          "1949-05-01T00:00:00.000000000",
          "1949-06-01T00:00:00.000000000",
          "1949-07-01T00:00:00.000000000",
          "1949-08-01T00:00:00.000000000",
          "1949-09-01T00:00:00.000000000",
          "1949-10-01T00:00:00.000000000",
          "1949-11-01T00:00:00.000000000",
          "1949-12-01T00:00:00.000000000",
          "1950-01-01T00:00:00.000000000",
          "1950-02-01T00:00:00.000000000",
          "1950-03-01T00:00:00.000000000",
          "1950-04-01T00:00:00.000000000",
          "1950-05-01T00:00:00.000000000",
          "1950-06-01T00:00:00.000000000",
          "1950-07-01T00:00:00.000000000",
          "1950-08-01T00:00:00.000000000",
          "1950-09-01T00:00:00.000000000",
          "1950-10-01T00:00:00.000000000",
          "1950-11-01T00:00:00.000000000",
          "1950-12-01T00:00:00.000000000",
          "1951-01-01T00:00:00.000000000",
          "1951-02-01T00:00:00.000000000",
          "1951-03-01T00:00:00.000000000",
          "1951-04-01T00:00:00.000000000",
          "1951-05-01T00:00:00.000000000",
          "1951-06-01T00:00:00.000000000",
          "1951-07-01T00:00:00.000000000",
          "1951-08-01T00:00:00.000000000",
          "1951-09-01T00:00:00.000000000",
          "1951-10-01T00:00:00.000000000",
          "1951-11-01T00:00:00.000000000",
          "1951-12-01T00:00:00.000000000",
          "1952-01-01T00:00:00.000000000",
          "1952-02-01T00:00:00.000000000",
          "1952-03-01T00:00:00.000000000",
          "1952-04-01T00:00:00.000000000",
          "1952-05-01T00:00:00.000000000",
          "1952-06-01T00:00:00.000000000",
          "1952-07-01T00:00:00.000000000",
          "1952-08-01T00:00:00.000000000",
          "1952-09-01T00:00:00.000000000",
          "1952-10-01T00:00:00.000000000",
          "1952-11-01T00:00:00.000000000",
          "1952-12-01T00:00:00.000000000",
          "1953-01-01T00:00:00.000000000",
          "1953-02-01T00:00:00.000000000",
          "1953-03-01T00:00:00.000000000",
          "1953-04-01T00:00:00.000000000",
          "1953-05-01T00:00:00.000000000",
          "1953-06-01T00:00:00.000000000",
          "1953-07-01T00:00:00.000000000",
          "1953-08-01T00:00:00.000000000",
          "1953-09-01T00:00:00.000000000",
          "1953-10-01T00:00:00.000000000",
          "1953-11-01T00:00:00.000000000",
          "1953-12-01T00:00:00.000000000",
          "1954-01-01T00:00:00.000000000",
          "1954-02-01T00:00:00.000000000",
          "1954-03-01T00:00:00.000000000",
          "1954-04-01T00:00:00.000000000",
          "1954-05-01T00:00:00.000000000",
          "1954-06-01T00:00:00.000000000",
          "1954-07-01T00:00:00.000000000",
          "1954-08-01T00:00:00.000000000",
          "1954-09-01T00:00:00.000000000",
          "1954-10-01T00:00:00.000000000",
          "1954-11-01T00:00:00.000000000",
          "1954-12-01T00:00:00.000000000",
          "1955-01-01T00:00:00.000000000",
          "1955-02-01T00:00:00.000000000",
          "1955-03-01T00:00:00.000000000",
          "1955-04-01T00:00:00.000000000",
          "1955-05-01T00:00:00.000000000",
          "1955-06-01T00:00:00.000000000",
          "1955-07-01T00:00:00.000000000",
          "1955-08-01T00:00:00.000000000",
          "1955-09-01T00:00:00.000000000",
          "1955-10-01T00:00:00.000000000",
          "1955-11-01T00:00:00.000000000",
          "1955-12-01T00:00:00.000000000",
          "1956-01-01T00:00:00.000000000",
          "1956-02-01T00:00:00.000000000",
          "1956-03-01T00:00:00.000000000",
          "1956-04-01T00:00:00.000000000",
          "1956-05-01T00:00:00.000000000",
          "1956-06-01T00:00:00.000000000",
          "1956-07-01T00:00:00.000000000",
          "1956-08-01T00:00:00.000000000",
          "1956-09-01T00:00:00.000000000",
          "1956-10-01T00:00:00.000000000",
          "1956-11-01T00:00:00.000000000",
          "1956-12-01T00:00:00.000000000",
          "1957-01-01T00:00:00.000000000",
          "1957-02-01T00:00:00.000000000",
          "1957-03-01T00:00:00.000000000",
          "1957-04-01T00:00:00.000000000",
          "1957-05-01T00:00:00.000000000",
          "1957-06-01T00:00:00.000000000",
          "1957-07-01T00:00:00.000000000",
          "1957-08-01T00:00:00.000000000",
          "1957-09-01T00:00:00.000000000",
          "1957-10-01T00:00:00.000000000",
          "1957-11-01T00:00:00.000000000",
          "1957-12-01T00:00:00.000000000",
          "1958-01-01T00:00:00.000000000",
          "1958-02-01T00:00:00.000000000",
          "1958-03-01T00:00:00.000000000",
          "1958-04-01T00:00:00.000000000",
          "1958-05-01T00:00:00.000000000",
          "1958-06-01T00:00:00.000000000",
          "1958-07-01T00:00:00.000000000",
          "1958-08-01T00:00:00.000000000",
          "1958-09-01T00:00:00.000000000",
          "1958-10-01T00:00:00.000000000",
          "1958-11-01T00:00:00.000000000",
          "1958-12-01T00:00:00.000000000",
          "1959-01-01T00:00:00.000000000",
          "1959-02-01T00:00:00.000000000",
          "1959-03-01T00:00:00.000000000",
          "1959-04-01T00:00:00.000000000",
          "1959-05-01T00:00:00.000000000",
          "1959-06-01T00:00:00.000000000",
          "1959-07-01T00:00:00.000000000",
          "1959-08-01T00:00:00.000000000",
          "1959-09-01T00:00:00.000000000",
          "1959-10-01T00:00:00.000000000",
          "1959-11-01T00:00:00.000000000",
          "1959-12-01T00:00:00.000000000",
          "1960-01-01T00:00:00.000000000",
          "1960-02-01T00:00:00.000000000",
          "1960-03-01T00:00:00.000000000",
          "1960-04-01T00:00:00.000000000",
          "1960-05-01T00:00:00.000000000",
          "1960-06-01T00:00:00.000000000",
          "1960-07-01T00:00:00.000000000",
          "1960-08-01T00:00:00.000000000",
          "1960-09-01T00:00:00.000000000",
          "1960-10-01T00:00:00.000000000",
          "1960-11-01T00:00:00.000000000",
          "1960-12-01T00:00:00.000000000",
          "1961-01-01T00:00:00.000000000",
          "1961-02-01T00:00:00.000000000",
          "1961-03-01T00:00:00.000000000",
          "1961-04-01T00:00:00.000000000",
          "1961-05-01T00:00:00.000000000",
          "1961-06-01T00:00:00.000000000",
          "1961-07-01T00:00:00.000000000",
          "1961-08-01T00:00:00.000000000",
          "1961-09-01T00:00:00.000000000",
          "1961-10-01T00:00:00.000000000",
          "1961-11-01T00:00:00.000000000",
          "1961-12-01T00:00:00.000000000",
          "1962-01-01T00:00:00.000000000",
          "1962-02-01T00:00:00.000000000",
          "1962-03-01T00:00:00.000000000",
          "1962-04-01T00:00:00.000000000",
          "1962-05-01T00:00:00.000000000",
          "1962-06-01T00:00:00.000000000",
          "1962-07-01T00:00:00.000000000",
          "1962-08-01T00:00:00.000000000",
          "1962-09-01T00:00:00.000000000",
          "1962-10-01T00:00:00.000000000",
          "1962-11-01T00:00:00.000000000",
          "1962-12-01T00:00:00.000000000",
          "1963-01-01T00:00:00.000000000",
          "1963-02-01T00:00:00.000000000",
          "1963-03-01T00:00:00.000000000",
          "1963-04-01T00:00:00.000000000",
          "1963-05-01T00:00:00.000000000",
          "1963-06-01T00:00:00.000000000",
          "1963-07-01T00:00:00.000000000",
          "1963-08-01T00:00:00.000000000",
          "1963-09-01T00:00:00.000000000",
          "1963-10-01T00:00:00.000000000",
          "1963-11-01T00:00:00.000000000",
          "1963-12-01T00:00:00.000000000",
          "1964-01-01T00:00:00.000000000",
          "1964-02-01T00:00:00.000000000",
          "1964-03-01T00:00:00.000000000",
          "1964-04-01T00:00:00.000000000",
          "1964-05-01T00:00:00.000000000",
          "1964-06-01T00:00:00.000000000",
          "1964-07-01T00:00:00.000000000",
          "1964-08-01T00:00:00.000000000",
          "1964-09-01T00:00:00.000000000",
          "1964-10-01T00:00:00.000000000",
          "1964-11-01T00:00:00.000000000",
          "1964-12-01T00:00:00.000000000",
          "1965-01-01T00:00:00.000000000",
          "1965-02-01T00:00:00.000000000",
          "1965-03-01T00:00:00.000000000",
          "1965-04-01T00:00:00.000000000",
          "1965-05-01T00:00:00.000000000",
          "1965-06-01T00:00:00.000000000",
          "1965-07-01T00:00:00.000000000",
          "1965-08-01T00:00:00.000000000",
          "1965-09-01T00:00:00.000000000",
          "1965-10-01T00:00:00.000000000",
          "1965-11-01T00:00:00.000000000",
          "1965-12-01T00:00:00.000000000",
          "1966-01-01T00:00:00.000000000",
          "1966-02-01T00:00:00.000000000",
          "1966-03-01T00:00:00.000000000",
          "1966-04-01T00:00:00.000000000",
          "1966-05-01T00:00:00.000000000",
          "1966-06-01T00:00:00.000000000",
          "1966-07-01T00:00:00.000000000",
          "1966-08-01T00:00:00.000000000",
          "1966-09-01T00:00:00.000000000",
          "1966-10-01T00:00:00.000000000",
          "1966-11-01T00:00:00.000000000",
          "1966-12-01T00:00:00.000000000",
          "1967-01-01T00:00:00.000000000",
          "1967-02-01T00:00:00.000000000",
          "1967-03-01T00:00:00.000000000",
          "1967-04-01T00:00:00.000000000",
          "1967-05-01T00:00:00.000000000",
          "1967-06-01T00:00:00.000000000",
          "1967-07-01T00:00:00.000000000",
          "1967-08-01T00:00:00.000000000",
          "1967-09-01T00:00:00.000000000",
          "1967-10-01T00:00:00.000000000",
          "1967-11-01T00:00:00.000000000",
          "1967-12-01T00:00:00.000000000",
          "1968-01-01T00:00:00.000000000",
          "1968-02-01T00:00:00.000000000",
          "1968-03-01T00:00:00.000000000",
          "1968-04-01T00:00:00.000000000",
          "1968-05-01T00:00:00.000000000",
          "1968-06-01T00:00:00.000000000",
          "1968-07-01T00:00:00.000000000",
          "1968-08-01T00:00:00.000000000",
          "1968-09-01T00:00:00.000000000",
          "1968-10-01T00:00:00.000000000",
          "1968-11-01T00:00:00.000000000",
          "1968-12-01T00:00:00.000000000",
          "1969-01-01T00:00:00.000000000",
          "1969-02-01T00:00:00.000000000",
          "1969-03-01T00:00:00.000000000",
          "1969-04-01T00:00:00.000000000",
          "1969-05-01T00:00:00.000000000",
          "1969-06-01T00:00:00.000000000",
          "1969-07-01T00:00:00.000000000",
          "1969-08-01T00:00:00.000000000",
          "1969-09-01T00:00:00.000000000",
          "1969-10-01T00:00:00.000000000",
          "1969-11-01T00:00:00.000000000",
          "1969-12-01T00:00:00.000000000",
          "1970-01-01T00:00:00.000000000",
          "1970-02-01T00:00:00.000000000",
          "1970-03-01T00:00:00.000000000",
          "1970-04-01T00:00:00.000000000",
          "1970-05-01T00:00:00.000000000",
          "1970-06-01T00:00:00.000000000",
          "1970-07-01T00:00:00.000000000",
          "1970-08-01T00:00:00.000000000",
          "1970-09-01T00:00:00.000000000",
          "1970-10-01T00:00:00.000000000",
          "1970-11-01T00:00:00.000000000",
          "1970-12-01T00:00:00.000000000",
          "1971-01-01T00:00:00.000000000",
          "1971-02-01T00:00:00.000000000",
          "1971-03-01T00:00:00.000000000",
          "1971-04-01T00:00:00.000000000",
          "1971-05-01T00:00:00.000000000",
          "1971-06-01T00:00:00.000000000",
          "1971-07-01T00:00:00.000000000",
          "1971-08-01T00:00:00.000000000",
          "1971-09-01T00:00:00.000000000",
          "1971-10-01T00:00:00.000000000",
          "1971-11-01T00:00:00.000000000",
          "1971-12-01T00:00:00.000000000",
          "1972-01-01T00:00:00.000000000",
          "1972-02-01T00:00:00.000000000",
          "1972-03-01T00:00:00.000000000",
          "1972-04-01T00:00:00.000000000",
          "1972-05-01T00:00:00.000000000",
          "1972-06-01T00:00:00.000000000",
          "1972-07-01T00:00:00.000000000",
          "1972-08-01T00:00:00.000000000",
          "1972-09-01T00:00:00.000000000",
          "1972-10-01T00:00:00.000000000",
          "1972-11-01T00:00:00.000000000",
          "1972-12-01T00:00:00.000000000",
          "1973-01-01T00:00:00.000000000",
          "1973-02-01T00:00:00.000000000",
          "1973-03-01T00:00:00.000000000",
          "1973-04-01T00:00:00.000000000",
          "1973-05-01T00:00:00.000000000",
          "1973-06-01T00:00:00.000000000",
          "1973-07-01T00:00:00.000000000",
          "1973-08-01T00:00:00.000000000",
          "1973-09-01T00:00:00.000000000",
          "1973-10-01T00:00:00.000000000",
          "1973-11-01T00:00:00.000000000",
          "1973-12-01T00:00:00.000000000",
          "1974-01-01T00:00:00.000000000",
          "1974-02-01T00:00:00.000000000",
          "1974-03-01T00:00:00.000000000",
          "1974-04-01T00:00:00.000000000",
          "1974-05-01T00:00:00.000000000",
          "1974-06-01T00:00:00.000000000",
          "1974-07-01T00:00:00.000000000",
          "1974-08-01T00:00:00.000000000",
          "1974-09-01T00:00:00.000000000",
          "1974-10-01T00:00:00.000000000",
          "1974-11-01T00:00:00.000000000",
          "1974-12-01T00:00:00.000000000",
          "1975-01-01T00:00:00.000000000",
          "1975-02-01T00:00:00.000000000",
          "1975-03-01T00:00:00.000000000",
          "1975-04-01T00:00:00.000000000",
          "1975-05-01T00:00:00.000000000",
          "1975-06-01T00:00:00.000000000",
          "1975-07-01T00:00:00.000000000",
          "1975-08-01T00:00:00.000000000",
          "1975-09-01T00:00:00.000000000",
          "1975-10-01T00:00:00.000000000",
          "1975-11-01T00:00:00.000000000",
          "1975-12-01T00:00:00.000000000",
          "1976-01-01T00:00:00.000000000",
          "1976-02-01T00:00:00.000000000",
          "1976-03-01T00:00:00.000000000",
          "1976-04-01T00:00:00.000000000",
          "1976-05-01T00:00:00.000000000",
          "1976-06-01T00:00:00.000000000",
          "1976-07-01T00:00:00.000000000",
          "1976-08-01T00:00:00.000000000",
          "1976-09-01T00:00:00.000000000",
          "1976-10-01T00:00:00.000000000",
          "1976-11-01T00:00:00.000000000",
          "1976-12-01T00:00:00.000000000",
          "1977-01-01T00:00:00.000000000",
          "1977-02-01T00:00:00.000000000",
          "1977-03-01T00:00:00.000000000",
          "1977-04-01T00:00:00.000000000",
          "1977-05-01T00:00:00.000000000",
          "1977-06-01T00:00:00.000000000",
          "1977-07-01T00:00:00.000000000",
          "1977-08-01T00:00:00.000000000",
          "1977-09-01T00:00:00.000000000",
          "1977-10-01T00:00:00.000000000",
          "1977-11-01T00:00:00.000000000",
          "1977-12-01T00:00:00.000000000",
          "1978-01-01T00:00:00.000000000",
          "1978-02-01T00:00:00.000000000",
          "1978-03-01T00:00:00.000000000",
          "1978-04-01T00:00:00.000000000",
          "1978-05-01T00:00:00.000000000",
          "1978-06-01T00:00:00.000000000",
          "1978-07-01T00:00:00.000000000",
          "1978-08-01T00:00:00.000000000",
          "1978-09-01T00:00:00.000000000",
          "1978-10-01T00:00:00.000000000",
          "1978-11-01T00:00:00.000000000",
          "1978-12-01T00:00:00.000000000",
          "1979-01-01T00:00:00.000000000",
          "1979-02-01T00:00:00.000000000",
          "1979-03-01T00:00:00.000000000",
          "1979-04-01T00:00:00.000000000",
          "1979-05-01T00:00:00.000000000",
          "1979-06-01T00:00:00.000000000",
          "1979-07-01T00:00:00.000000000",
          "1979-08-01T00:00:00.000000000",
          "1979-09-01T00:00:00.000000000",
          "1979-10-01T00:00:00.000000000",
          "1979-11-01T00:00:00.000000000",
          "1979-12-01T00:00:00.000000000",
          "1980-01-01T00:00:00.000000000",
          "1980-02-01T00:00:00.000000000",
          "1980-03-01T00:00:00.000000000",
          "1980-04-01T00:00:00.000000000",
          "1980-05-01T00:00:00.000000000",
          "1980-06-01T00:00:00.000000000",
          "1980-07-01T00:00:00.000000000",
          "1980-08-01T00:00:00.000000000",
          "1980-09-01T00:00:00.000000000",
          "1980-10-01T00:00:00.000000000",
          "1980-11-01T00:00:00.000000000",
          "1980-12-01T00:00:00.000000000",
          "1981-01-01T00:00:00.000000000",
          "1981-02-01T00:00:00.000000000",
          "1981-03-01T00:00:00.000000000",
          "1981-04-01T00:00:00.000000000",
          "1981-05-01T00:00:00.000000000",
          "1981-06-01T00:00:00.000000000",
          "1981-07-01T00:00:00.000000000",
          "1981-08-01T00:00:00.000000000",
          "1981-09-01T00:00:00.000000000",
          "1981-10-01T00:00:00.000000000",
          "1981-11-01T00:00:00.000000000",
          "1981-12-01T00:00:00.000000000",
          "1982-01-01T00:00:00.000000000",
          "1982-02-01T00:00:00.000000000",
          "1982-03-01T00:00:00.000000000",
          "1982-04-01T00:00:00.000000000",
          "1982-05-01T00:00:00.000000000",
          "1982-06-01T00:00:00.000000000",
          "1982-07-01T00:00:00.000000000",
          "1982-08-01T00:00:00.000000000",
          "1982-09-01T00:00:00.000000000",
          "1982-10-01T00:00:00.000000000",
          "1982-11-01T00:00:00.000000000",
          "1982-12-01T00:00:00.000000000",
          "1983-01-01T00:00:00.000000000",
          "1983-02-01T00:00:00.000000000",
          "1983-03-01T00:00:00.000000000",
          "1983-04-01T00:00:00.000000000",
          "1983-05-01T00:00:00.000000000",
          "1983-06-01T00:00:00.000000000",
          "1983-07-01T00:00:00.000000000",
          "1983-08-01T00:00:00.000000000",
          "1983-09-01T00:00:00.000000000",
          "1983-10-01T00:00:00.000000000",
          "1983-11-01T00:00:00.000000000",
          "1983-12-01T00:00:00.000000000",
          "1984-01-01T00:00:00.000000000",
          "1984-02-01T00:00:00.000000000",
          "1984-03-01T00:00:00.000000000",
          "1984-04-01T00:00:00.000000000",
          "1984-05-01T00:00:00.000000000",
          "1984-06-01T00:00:00.000000000",
          "1984-07-01T00:00:00.000000000",
          "1984-08-01T00:00:00.000000000",
          "1984-09-01T00:00:00.000000000",
          "1984-10-01T00:00:00.000000000",
          "1984-11-01T00:00:00.000000000",
          "1984-12-01T00:00:00.000000000",
          "1985-01-01T00:00:00.000000000",
          "1985-02-01T00:00:00.000000000",
          "1985-03-01T00:00:00.000000000",
          "1985-04-01T00:00:00.000000000",
          "1985-05-01T00:00:00.000000000",
          "1985-06-01T00:00:00.000000000",
          "1985-07-01T00:00:00.000000000",
          "1985-08-01T00:00:00.000000000",
          "1985-09-01T00:00:00.000000000",
          "1985-10-01T00:00:00.000000000",
          "1985-11-01T00:00:00.000000000",
          "1985-12-01T00:00:00.000000000",
          "1986-01-01T00:00:00.000000000",
          "1986-02-01T00:00:00.000000000",
          "1986-03-01T00:00:00.000000000",
          "1986-04-01T00:00:00.000000000",
          "1986-05-01T00:00:00.000000000",
          "1986-06-01T00:00:00.000000000",
          "1986-07-01T00:00:00.000000000",
          "1986-08-01T00:00:00.000000000",
          "1986-09-01T00:00:00.000000000",
          "1986-10-01T00:00:00.000000000",
          "1986-11-01T00:00:00.000000000",
          "1986-12-01T00:00:00.000000000",
          "1987-01-01T00:00:00.000000000",
          "1987-02-01T00:00:00.000000000",
          "1987-03-01T00:00:00.000000000",
          "1987-04-01T00:00:00.000000000",
          "1987-05-01T00:00:00.000000000",
          "1987-06-01T00:00:00.000000000",
          "1987-07-01T00:00:00.000000000",
          "1987-08-01T00:00:00.000000000",
          "1987-09-01T00:00:00.000000000",
          "1987-10-01T00:00:00.000000000",
          "1987-11-01T00:00:00.000000000",
          "1987-12-01T00:00:00.000000000",
          "1988-01-01T00:00:00.000000000",
          "1988-02-01T00:00:00.000000000",
          "1988-03-01T00:00:00.000000000",
          "1988-04-01T00:00:00.000000000",
          "1988-05-01T00:00:00.000000000",
          "1988-06-01T00:00:00.000000000",
          "1988-07-01T00:00:00.000000000",
          "1988-08-01T00:00:00.000000000",
          "1988-09-01T00:00:00.000000000",
          "1988-10-01T00:00:00.000000000",
          "1988-11-01T00:00:00.000000000",
          "1988-12-01T00:00:00.000000000",
          "1989-01-01T00:00:00.000000000",
          "1989-02-01T00:00:00.000000000",
          "1989-03-01T00:00:00.000000000",
          "1989-04-01T00:00:00.000000000",
          "1989-05-01T00:00:00.000000000",
          "1989-06-01T00:00:00.000000000",
          "1989-07-01T00:00:00.000000000",
          "1989-08-01T00:00:00.000000000",
          "1989-09-01T00:00:00.000000000",
          "1989-10-01T00:00:00.000000000",
          "1989-11-01T00:00:00.000000000",
          "1989-12-01T00:00:00.000000000",
          "1990-01-01T00:00:00.000000000",
          "1990-02-01T00:00:00.000000000",
          "1990-03-01T00:00:00.000000000",
          "1990-04-01T00:00:00.000000000",
          "1990-05-01T00:00:00.000000000",
          "1990-06-01T00:00:00.000000000",
          "1990-07-01T00:00:00.000000000",
          "1990-08-01T00:00:00.000000000",
          "1990-09-01T00:00:00.000000000",
          "1990-10-01T00:00:00.000000000",
          "1990-11-01T00:00:00.000000000",
          "1990-12-01T00:00:00.000000000",
          "1991-01-01T00:00:00.000000000",
          "1991-02-01T00:00:00.000000000",
          "1991-03-01T00:00:00.000000000",
          "1991-04-01T00:00:00.000000000",
          "1991-05-01T00:00:00.000000000",
          "1991-06-01T00:00:00.000000000",
          "1991-07-01T00:00:00.000000000",
          "1991-08-01T00:00:00.000000000",
          "1991-09-01T00:00:00.000000000",
          "1991-10-01T00:00:00.000000000",
          "1991-11-01T00:00:00.000000000",
          "1991-12-01T00:00:00.000000000",
          "1992-01-01T00:00:00.000000000",
          "1992-02-01T00:00:00.000000000",
          "1992-03-01T00:00:00.000000000",
          "1992-04-01T00:00:00.000000000",
          "1992-05-01T00:00:00.000000000",
          "1992-06-01T00:00:00.000000000",
          "1992-07-01T00:00:00.000000000",
          "1992-08-01T00:00:00.000000000",
          "1992-09-01T00:00:00.000000000",
          "1992-10-01T00:00:00.000000000",
          "1992-11-01T00:00:00.000000000",
          "1992-12-01T00:00:00.000000000",
          "1993-01-01T00:00:00.000000000",
          "1993-02-01T00:00:00.000000000",
          "1993-03-01T00:00:00.000000000",
          "1993-04-01T00:00:00.000000000",
          "1993-05-01T00:00:00.000000000",
          "1993-06-01T00:00:00.000000000",
          "1993-07-01T00:00:00.000000000",
          "1993-08-01T00:00:00.000000000",
          "1993-09-01T00:00:00.000000000",
          "1993-10-01T00:00:00.000000000",
          "1993-11-01T00:00:00.000000000",
          "1993-12-01T00:00:00.000000000",
          "1994-01-01T00:00:00.000000000",
          "1994-02-01T00:00:00.000000000",
          "1994-03-01T00:00:00.000000000",
          "1994-04-01T00:00:00.000000000",
          "1994-05-01T00:00:00.000000000",
          "1994-06-01T00:00:00.000000000",
          "1994-07-01T00:00:00.000000000",
          "1994-08-01T00:00:00.000000000",
          "1994-09-01T00:00:00.000000000",
          "1994-10-01T00:00:00.000000000",
          "1994-11-01T00:00:00.000000000",
          "1994-12-01T00:00:00.000000000",
          "1995-01-01T00:00:00.000000000",
          "1995-02-01T00:00:00.000000000",
          "1995-03-01T00:00:00.000000000",
          "1995-04-01T00:00:00.000000000",
          "1995-05-01T00:00:00.000000000",
          "1995-06-01T00:00:00.000000000",
          "1995-07-01T00:00:00.000000000",
          "1995-08-01T00:00:00.000000000",
          "1995-09-01T00:00:00.000000000",
          "1995-10-01T00:00:00.000000000",
          "1995-11-01T00:00:00.000000000",
          "1995-12-01T00:00:00.000000000",
          "1996-01-01T00:00:00.000000000",
          "1996-02-01T00:00:00.000000000",
          "1996-03-01T00:00:00.000000000",
          "1996-04-01T00:00:00.000000000",
          "1996-05-01T00:00:00.000000000",
          "1996-06-01T00:00:00.000000000",
          "1996-07-01T00:00:00.000000000",
          "1996-08-01T00:00:00.000000000",
          "1996-09-01T00:00:00.000000000",
          "1996-10-01T00:00:00.000000000",
          "1996-11-01T00:00:00.000000000",
          "1996-12-01T00:00:00.000000000",
          "1997-01-01T00:00:00.000000000",
          "1997-02-01T00:00:00.000000000",
          "1997-03-01T00:00:00.000000000",
          "1997-04-01T00:00:00.000000000",
          "1997-05-01T00:00:00.000000000",
          "1997-06-01T00:00:00.000000000",
          "1997-07-01T00:00:00.000000000",
          "1997-08-01T00:00:00.000000000",
          "1997-09-01T00:00:00.000000000",
          "1997-10-01T00:00:00.000000000",
          "1997-11-01T00:00:00.000000000",
          "1997-12-01T00:00:00.000000000",
          "1998-01-01T00:00:00.000000000",
          "1998-02-01T00:00:00.000000000",
          "1998-03-01T00:00:00.000000000",
          "1998-04-01T00:00:00.000000000",
          "1998-05-01T00:00:00.000000000",
          "1998-06-01T00:00:00.000000000",
          "1998-07-01T00:00:00.000000000",
          "1998-08-01T00:00:00.000000000",
          "1998-09-01T00:00:00.000000000",
          "1998-10-01T00:00:00.000000000",
          "1998-11-01T00:00:00.000000000",
          "1998-12-01T00:00:00.000000000",
          "1999-01-01T00:00:00.000000000",
          "1999-02-01T00:00:00.000000000",
          "1999-03-01T00:00:00.000000000",
          "1999-04-01T00:00:00.000000000",
          "1999-05-01T00:00:00.000000000",
          "1999-06-01T00:00:00.000000000",
          "1999-07-01T00:00:00.000000000",
          "1999-08-01T00:00:00.000000000",
          "1999-09-01T00:00:00.000000000",
          "1999-10-01T00:00:00.000000000",
          "1999-11-01T00:00:00.000000000",
          "1999-12-01T00:00:00.000000000",
          "2000-01-01T00:00:00.000000000",
          "2000-02-01T00:00:00.000000000",
          "2000-03-01T00:00:00.000000000",
          "2000-04-01T00:00:00.000000000",
          "2000-05-01T00:00:00.000000000",
          "2000-06-01T00:00:00.000000000",
          "2000-07-01T00:00:00.000000000",
          "2000-08-01T00:00:00.000000000",
          "2000-09-01T00:00:00.000000000",
          "2000-10-01T00:00:00.000000000",
          "2000-11-01T00:00:00.000000000",
          "2000-12-01T00:00:00.000000000",
          "2001-01-01T00:00:00.000000000",
          "2001-02-01T00:00:00.000000000",
          "2001-03-01T00:00:00.000000000",
          "2001-04-01T00:00:00.000000000",
          "2001-05-01T00:00:00.000000000",
          "2001-06-01T00:00:00.000000000",
          "2001-07-01T00:00:00.000000000",
          "2001-08-01T00:00:00.000000000",
          "2001-09-01T00:00:00.000000000",
          "2001-10-01T00:00:00.000000000",
          "2001-11-01T00:00:00.000000000",
          "2001-12-01T00:00:00.000000000",
          "2002-01-01T00:00:00.000000000",
          "2002-02-01T00:00:00.000000000",
          "2002-03-01T00:00:00.000000000",
          "2002-04-01T00:00:00.000000000",
          "2002-05-01T00:00:00.000000000",
          "2002-06-01T00:00:00.000000000",
          "2002-07-01T00:00:00.000000000",
          "2002-08-01T00:00:00.000000000",
          "2002-09-01T00:00:00.000000000",
          "2002-10-01T00:00:00.000000000",
          "2002-11-01T00:00:00.000000000",
          "2002-12-01T00:00:00.000000000",
          "2003-01-01T00:00:00.000000000",
          "2003-02-01T00:00:00.000000000",
          "2003-03-01T00:00:00.000000000",
          "2003-04-01T00:00:00.000000000",
          "2003-05-01T00:00:00.000000000",
          "2003-06-01T00:00:00.000000000",
          "2003-07-01T00:00:00.000000000",
          "2003-08-01T00:00:00.000000000",
          "2003-09-01T00:00:00.000000000",
          "2003-10-01T00:00:00.000000000",
          "2003-11-01T00:00:00.000000000",
          "2003-12-01T00:00:00.000000000",
          "2004-01-01T00:00:00.000000000",
          "2004-02-01T00:00:00.000000000",
          "2004-03-01T00:00:00.000000000",
          "2004-04-01T00:00:00.000000000",
          "2004-05-01T00:00:00.000000000",
          "2004-06-01T00:00:00.000000000",
          "2004-07-01T00:00:00.000000000",
          "2004-08-01T00:00:00.000000000",
          "2004-09-01T00:00:00.000000000",
          "2004-10-01T00:00:00.000000000",
          "2004-11-01T00:00:00.000000000",
          "2004-12-01T00:00:00.000000000",
          "2005-01-01T00:00:00.000000000",
          "2005-02-01T00:00:00.000000000",
          "2005-03-01T00:00:00.000000000",
          "2005-04-01T00:00:00.000000000",
          "2005-05-01T00:00:00.000000000",
          "2005-06-01T00:00:00.000000000",
          "2005-07-01T00:00:00.000000000",
          "2005-08-01T00:00:00.000000000",
          "2005-09-01T00:00:00.000000000",
          "2005-10-01T00:00:00.000000000",
          "2005-11-01T00:00:00.000000000",
          "2005-12-01T00:00:00.000000000",
          "2006-01-01T00:00:00.000000000",
          "2006-02-01T00:00:00.000000000",
          "2006-03-01T00:00:00.000000000",
          "2006-04-01T00:00:00.000000000",
          "2006-05-01T00:00:00.000000000",
          "2006-06-01T00:00:00.000000000",
          "2006-07-01T00:00:00.000000000",
          "2006-08-01T00:00:00.000000000",
          "2006-09-01T00:00:00.000000000",
          "2006-10-01T00:00:00.000000000",
          "2006-11-01T00:00:00.000000000",
          "2006-12-01T00:00:00.000000000",
          "2007-01-01T00:00:00.000000000",
          "2007-02-01T00:00:00.000000000",
          "2007-03-01T00:00:00.000000000",
          "2007-04-01T00:00:00.000000000",
          "2007-05-01T00:00:00.000000000",
          "2007-06-01T00:00:00.000000000",
          "2007-07-01T00:00:00.000000000",
          "2007-08-01T00:00:00.000000000",
          "2007-09-01T00:00:00.000000000",
          "2007-10-01T00:00:00.000000000",
          "2007-11-01T00:00:00.000000000",
          "2007-12-01T00:00:00.000000000",
          "2008-01-01T00:00:00.000000000",
          "2008-02-01T00:00:00.000000000",
          "2008-03-01T00:00:00.000000000",
          "2008-04-01T00:00:00.000000000",
          "2008-05-01T00:00:00.000000000",
          "2008-06-01T00:00:00.000000000",
          "2008-07-01T00:00:00.000000000",
          "2008-08-01T00:00:00.000000000",
          "2008-09-01T00:00:00.000000000",
          "2008-10-01T00:00:00.000000000",
          "2008-11-01T00:00:00.000000000",
          "2008-12-01T00:00:00.000000000",
          "2009-01-01T00:00:00.000000000",
          "2009-02-01T00:00:00.000000000",
          "2009-03-01T00:00:00.000000000",
          "2009-04-01T00:00:00.000000000",
          "2009-05-01T00:00:00.000000000",
          "2009-06-01T00:00:00.000000000",
          "2009-07-01T00:00:00.000000000",
          "2009-08-01T00:00:00.000000000",
          "2009-09-01T00:00:00.000000000",
          "2009-10-01T00:00:00.000000000",
          "2009-11-01T00:00:00.000000000",
          "2009-12-01T00:00:00.000000000",
          "2010-01-01T00:00:00.000000000",
          "2010-02-01T00:00:00.000000000",
          "2010-03-01T00:00:00.000000000",
          "2010-04-01T00:00:00.000000000",
          "2010-05-01T00:00:00.000000000",
          "2010-06-01T00:00:00.000000000",
          "2010-07-01T00:00:00.000000000",
          "2010-08-01T00:00:00.000000000",
          "2010-09-01T00:00:00.000000000",
          "2010-10-01T00:00:00.000000000",
          "2010-11-01T00:00:00.000000000",
          "2010-12-01T00:00:00.000000000",
          "2011-01-01T00:00:00.000000000",
          "2011-02-01T00:00:00.000000000",
          "2011-03-01T00:00:00.000000000",
          "2011-04-01T00:00:00.000000000",
          "2011-05-01T00:00:00.000000000",
          "2011-06-01T00:00:00.000000000",
          "2011-07-01T00:00:00.000000000",
          "2011-08-01T00:00:00.000000000",
          "2011-09-01T00:00:00.000000000",
          "2011-10-01T00:00:00.000000000",
          "2011-11-01T00:00:00.000000000",
          "2011-12-01T00:00:00.000000000",
          "2012-01-01T00:00:00.000000000",
          "2012-02-01T00:00:00.000000000",
          "2012-03-01T00:00:00.000000000",
          "2012-04-01T00:00:00.000000000",
          "2012-05-01T00:00:00.000000000",
          "2012-06-01T00:00:00.000000000",
          "2012-07-01T00:00:00.000000000",
          "2012-08-01T00:00:00.000000000",
          "2012-09-01T00:00:00.000000000",
          "2012-10-01T00:00:00.000000000",
          "2012-11-01T00:00:00.000000000",
          "2012-12-01T00:00:00.000000000",
          "2013-01-01T00:00:00.000000000",
          "2013-02-01T00:00:00.000000000",
          "2013-03-01T00:00:00.000000000",
          "2013-04-01T00:00:00.000000000",
          "2013-05-01T00:00:00.000000000",
          "2013-06-01T00:00:00.000000000",
          "2013-07-01T00:00:00.000000000",
          "2013-08-01T00:00:00.000000000",
          "2013-09-01T00:00:00.000000000",
          "2013-10-01T00:00:00.000000000",
          "2013-11-01T00:00:00.000000000",
          "2013-12-01T00:00:00.000000000",
          "2014-01-01T00:00:00.000000000",
          "2014-02-01T00:00:00.000000000",
          "2014-03-01T00:00:00.000000000",
          "2014-04-01T00:00:00.000000000",
          "2014-05-01T00:00:00.000000000",
          "2014-06-01T00:00:00.000000000",
          "2014-07-01T00:00:00.000000000",
          "2014-08-01T00:00:00.000000000",
          "2014-09-01T00:00:00.000000000",
          "2014-10-01T00:00:00.000000000",
          "2014-11-01T00:00:00.000000000",
          "2014-12-01T00:00:00.000000000",
          "2015-01-01T00:00:00.000000000",
          "2015-02-01T00:00:00.000000000",
          "2015-03-01T00:00:00.000000000",
          "2015-04-01T00:00:00.000000000",
          "2015-05-01T00:00:00.000000000",
          "2015-06-01T00:00:00.000000000",
          "2015-07-01T00:00:00.000000000",
          "2015-08-01T00:00:00.000000000",
          "2015-09-01T00:00:00.000000000",
          "2015-10-01T00:00:00.000000000",
          "2015-11-01T00:00:00.000000000",
          "2015-12-01T00:00:00.000000000",
          "2016-01-01T00:00:00.000000000",
          "2016-02-01T00:00:00.000000000",
          "2016-03-01T00:00:00.000000000",
          "2016-04-01T00:00:00.000000000",
          "2016-05-01T00:00:00.000000000",
          "2016-06-01T00:00:00.000000000",
          "2016-07-01T00:00:00.000000000",
          "2016-08-01T00:00:00.000000000",
          "2016-09-01T00:00:00.000000000",
          "2016-10-01T00:00:00.000000000",
          "2016-11-01T00:00:00.000000000",
          "2016-12-01T00:00:00.000000000",
          "2017-01-01T00:00:00.000000000",
          "2017-02-01T00:00:00.000000000",
          "2017-03-01T00:00:00.000000000",
          "2017-04-01T00:00:00.000000000",
          "2017-05-01T00:00:00.000000000",
          "2017-06-01T00:00:00.000000000",
          "2017-07-01T00:00:00.000000000",
          "2017-08-01T00:00:00.000000000",
          "2017-09-01T00:00:00.000000000",
          "2017-10-01T00:00:00.000000000",
          "2017-11-01T00:00:00.000000000",
          "2017-12-01T00:00:00.000000000",
          "2018-01-01T00:00:00.000000000",
          "2018-02-01T00:00:00.000000000",
          "2018-03-01T00:00:00.000000000",
          "2018-04-01T00:00:00.000000000",
          "2018-05-01T00:00:00.000000000",
          "2018-06-01T00:00:00.000000000",
          "2018-07-01T00:00:00.000000000",
          "2018-08-01T00:00:00.000000000",
          "2018-09-01T00:00:00.000000000",
          "2018-10-01T00:00:00.000000000",
          "2018-11-01T00:00:00.000000000",
          "2018-12-01T00:00:00.000000000",
          "2019-01-01T00:00:00.000000000",
          "2019-02-01T00:00:00.000000000",
          "2019-03-01T00:00:00.000000000",
          "2019-04-01T00:00:00.000000000",
          "2019-05-01T00:00:00.000000000",
          "2019-06-01T00:00:00.000000000",
          "2019-07-01T00:00:00.000000000",
          "2019-08-01T00:00:00.000000000",
          "2019-09-01T00:00:00.000000000",
          "2019-10-01T00:00:00.000000000",
          "2019-11-01T00:00:00.000000000",
          "2019-12-01T00:00:00.000000000",
          "2020-01-01T00:00:00.000000000",
          "2020-02-01T00:00:00.000000000",
          "2020-03-01T00:00:00.000000000",
          "2020-04-01T00:00:00.000000000",
          "2020-05-01T00:00:00.000000000",
          "2020-06-01T00:00:00.000000000",
          "2020-07-01T00:00:00.000000000",
          "2020-08-01T00:00:00.000000000",
          "2020-09-01T00:00:00.000000000",
          "2020-10-01T00:00:00.000000000",
          "2020-11-01T00:00:00.000000000",
          "2020-12-01T00:00:00.000000000",
          "2021-01-01T00:00:00.000000000",
          "2021-02-01T00:00:00.000000000",
          "2021-03-01T00:00:00.000000000",
          "2021-04-01T00:00:00.000000000",
          "2021-05-01T00:00:00.000000000",
          "2021-06-01T00:00:00.000000000",
          "2021-07-01T00:00:00.000000000",
          "2021-08-01T00:00:00.000000000",
          "2021-09-01T00:00:00.000000000",
          "2021-10-01T00:00:00.000000000",
          "2021-11-01T00:00:00.000000000",
          "2021-12-01T00:00:00.000000000",
          "2022-01-01T00:00:00.000000000",
          "2022-02-01T00:00:00.000000000",
          "2022-03-01T00:00:00.000000000",
          "2022-04-01T00:00:00.000000000",
          "2022-05-01T00:00:00.000000000",
          "2022-06-01T00:00:00.000000000",
          "2022-07-01T00:00:00.000000000",
          "2022-08-01T00:00:00.000000000",
          "2022-09-01T00:00:00.000000000",
          "2022-10-01T00:00:00.000000000",
          "2022-11-01T00:00:00.000000000",
          "2022-12-01T00:00:00.000000000",
          "2023-01-01T00:00:00.000000000",
          "2023-02-01T00:00:00.000000000",
          "2023-03-01T00:00:00.000000000",
          "2023-04-01T00:00:00.000000000",
          "2023-05-01T00:00:00.000000000",
          "2023-06-01T00:00:00.000000000",
          "2023-07-01T00:00:00.000000000",
          "2023-08-01T00:00:00.000000000",
          "2023-09-01T00:00:00.000000000",
          "2023-10-01T00:00:00.000000000",
          "2023-11-01T00:00:00.000000000",
          "2023-12-01T00:00:00.000000000",
          "2024-01-01T00:00:00.000000000",
          "2024-02-01T00:00:00.000000000",
          "2024-03-01T00:00:00.000000000",
          "2024-04-01T00:00:00.000000000",
          "2024-05-01T00:00:00.000000000",
          "2024-06-01T00:00:00.000000000",
          "2024-07-01T00:00:00.000000000",
          "2024-08-01T00:00:00.000000000",
          "2024-09-01T00:00:00.000000000",
          "2024-10-01T00:00:00.000000000",
          "2024-11-01T00:00:00.000000000",
          "2024-12-01T00:00:00.000000000"
         ],
         "y": {
          "bdata": "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",
          "dtype": "f4"
         }
        },
        {
         "hovertemplate": "<b>Decade:</b> 1940s<br><b>Avg Temperature:</b> 9.13 °C<extra></extra>",
         "line": {
          "color": "#2d8dd2",
          "width": 3
         },
         "mode": "lines",
         "name": "1940s avg",
         "type": "scatter",
         "x": [
          "1940-01-01T00:00:00",
          "1949-12-31T00:00:00"
         ],
         "y": [
          9.130596160888672,
          9.130596160888672
         ]
        },
        {
         "hovertemplate": "<b>Decade:</b> 1950s<br><b>Avg Temperature:</b> 9.21 °C<extra></extra>",
         "line": {
          "color": "#2ca02c",
          "width": 3
         },
         "mode": "lines",
         "name": "1950s avg",
         "type": "scatter",
         "x": [
          "1950-01-01T00:00:00",
          "1959-12-31T00:00:00"
         ],
         "y": [
          9.208231925964355,
          9.208231925964355
         ]
        },
        {
         "hovertemplate": "<b>Decade:</b> 1960s<br><b>Avg Temperature:</b> 9.60 °C<extra></extra>",
         "line": {
          "color": "#9467bd",
          "width": 3
         },
         "mode": "lines",
         "name": "1960s avg",
         "type": "scatter",
         "x": [
          "1960-01-01T00:00:00",
          "1969-12-31T00:00:00"
         ],
         "y": [
          9.603133201599121,
          9.603133201599121
         ]
        },
        {
         "hovertemplate": "<b>Decade:</b> 1970s<br><b>Avg Temperature:</b> 9.96 °C<extra></extra>",
         "line": {
          "color": "#17becf",
          "width": 3
         },
         "mode": "lines",
         "name": "1970s avg",
         "type": "scatter",
         "x": [
          "1970-01-01T00:00:00",
          "1979-12-31T00:00:00"
         ],
         "y": [
          9.961705207824707,
          9.961705207824707
         ]
        },
        {
         "hovertemplate": "<b>Decade:</b> 1980s<br><b>Avg Temperature:</b> 10.02 °C<extra></extra>",
         "line": {
          "color": "#5b37ea",
          "width": 3
         },
         "mode": "lines",
         "name": "1980s avg",
         "type": "scatter",
         "x": [
          "1980-01-01T00:00:00",
          "1989-12-31T00:00:00"
         ],
         "y": [
          10.021584510803223,
          10.021584510803223
         ]
        },
        {
         "hovertemplate": "<b>Decade:</b> 1990s<br><b>Avg Temperature:</b> 10.19 °C<extra></extra>",
         "line": {
          "color": "#9e6155",
          "width": 3
         },
         "mode": "lines",
         "name": "1990s avg",
         "type": "scatter",
         "x": [
          "1990-01-01T00:00:00",
          "1999-12-31T00:00:00"
         ],
         "y": [
          10.18735408782959,
          10.18735408782959
         ]
        },
        {
         "hovertemplate": "<b>Decade:</b> 2000s<br><b>Avg Temperature:</b> 10.51 °C<extra></extra>",
         "line": {
          "color": "#ecca0a",
          "width": 3
         },
         "mode": "lines",
         "name": "2000s avg",
         "type": "scatter",
         "x": [
          "2000-01-01T00:00:00",
          "2009-12-31T00:00:00"
         ],
         "y": [
          10.510237693786621,
          10.510237693786621
         ]
        },
        {
         "hovertemplate": "<b>Decade:</b> 2010s<br><b>Avg Temperature:</b> 10.65 °C<extra></extra>",
         "line": {
          "color": "#91fe5f",
          "width": 3
         },
         "mode": "lines",
         "name": "2010s avg",
         "type": "scatter",
         "x": [
          "2010-01-01T00:00:00",
          "2019-12-31T00:00:00"
         ],
         "y": [
          10.653485298156738,
          10.653485298156738
         ]
        },
        {
         "hovertemplate": "<b>Decade:</b> 2020s<br><b>Avg Temperature:</b> 10.96 °C<extra></extra>",
         "line": {
          "color": "#d62728",
          "width": 3
         },
         "mode": "lines",
         "name": "2020s avg",
         "type": "scatter",
         "x": [
          "2020-01-01T00:00:00",
          "2029-12-31T00:00:00"
         ],
         "y": [
          10.957558631896973,
          10.957558631896973
         ]
        }
       ],
       "layout": {
        "height": 500,
        "legend": {
         "bordercolor": "Black",
         "borderwidth": 2,
         "font": {
          "color": "black",
          "family": "Calibri",
          "size": 16,
          "weight": "bold"
         },
         "orientation": "h",
         "title": {
          "font": {
           "color": "black",
           "family": "Calibri",
           "size": 18,
           "weight": "bold"
          },
          "text": "Legend"
         },
         "x": 0.999,
         "xanchor": "right",
         "y": 0.01,
         "yanchor": "bottom"
        },
        "template": {
         "data": {
          "bar": [
           {
            "error_x": {
             "color": "#2a3f5f"
            },
            "error_y": {
             "color": "#2a3f5f"
            },
            "marker": {
             "line": {
              "color": "white",
              "width": 0.5
             },
             "pattern": {
              "fillmode": "overlay",
              "size": 10,
              "solidity": 0.2
             }
            },
            "type": "bar"
           }
          ],
          "barpolar": [
           {
            "marker": {
             "line": {
              "color": "white",
              "width": 0.5
             },
             "pattern": {
              "fillmode": "overlay",
              "size": 10,
              "solidity": 0.2
             }
            },
            "type": "barpolar"
           }
          ],
          "carpet": [
           {
            "aaxis": {
             "endlinecolor": "#2a3f5f",
             "gridcolor": "#C8D4E3",
             "linecolor": "#C8D4E3",
             "minorgridcolor": "#C8D4E3",
             "startlinecolor": "#2a3f5f"
            },
            "baxis": {
             "endlinecolor": "#2a3f5f",
             "gridcolor": "#C8D4E3",
             "linecolor": "#C8D4E3",
             "minorgridcolor": "#C8D4E3",
             "startlinecolor": "#2a3f5f"
            },
            "type": "carpet"
           }
          ],
          "choropleth": [
           {
            "colorbar": {
             "outlinewidth": 0,
             "ticks": ""
            },
            "type": "choropleth"
           }
          ],
          "contour": [
           {
            "colorbar": {
             "outlinewidth": 0,
             "ticks": ""
            },
            "colorscale": [
             [
              0,
              "#0d0887"
             ],
             [
              0.1111111111111111,
              "#46039f"
             ],
             [
              0.2222222222222222,
              "#7201a8"
             ],
             [
              0.3333333333333333,
              "#9c179e"
             ],
             [
              0.4444444444444444,
              "#bd3786"
             ],
             [
              0.5555555555555556,
              "#d8576b"
             ],
             [
              0.6666666666666666,
              "#ed7953"
             ],
             [
              0.7777777777777778,
              "#fb9f3a"
             ],
             [
              0.8888888888888888,
              "#fdca26"
             ],
             [
              1,
              "#f0f921"
             ]
            ],
            "type": "contour"
           }
          ],
          "contourcarpet": [
           {
            "colorbar": {
             "outlinewidth": 0,
             "ticks": ""
            },
            "type": "contourcarpet"
           }
          ],
          "heatmap": [
           {
            "colorbar": {
             "outlinewidth": 0,
             "ticks": ""
            },
            "colorscale": [
             [
              0,
              "#0d0887"
             ],
             [
              0.1111111111111111,
              "#46039f"
             ],
             [
              0.2222222222222222,
              "#7201a8"
             ],
             [
              0.3333333333333333,
              "#9c179e"
             ],
             [
              0.4444444444444444,
              "#bd3786"
             ],
             [
              0.5555555555555556,
              "#d8576b"
             ],
             [
              0.6666666666666666,
              "#ed7953"
             ],
             [
              0.7777777777777778,
              "#fb9f3a"
             ],
             [
              0.8888888888888888,
              "#fdca26"
             ],
             [
              1,
              "#f0f921"
             ]
            ],
            "type": "heatmap"
           }
          ],
          "histogram": [
           {
            "marker": {
             "pattern": {
              "fillmode": "overlay",
              "size": 10,
              "solidity": 0.2
             }
            },
            "type": "histogram"
           }
          ],
          "histogram2d": [
           {
            "colorbar": {
             "outlinewidth": 0,
             "ticks": ""
            },
            "colorscale": [
             [
              0,
              "#0d0887"
             ],
             [
              0.1111111111111111,
              "#46039f"
             ],
             [
              0.2222222222222222,
              "#7201a8"
             ],
             [
              0.3333333333333333,
              "#9c179e"
             ],
             [
              0.4444444444444444,
              "#bd3786"
             ],
             [
              0.5555555555555556,
              "#d8576b"
             ],
             [
              0.6666666666666666,
              "#ed7953"
             ],
             [
              0.7777777777777778,
              "#fb9f3a"
             ],
             [
              0.8888888888888888,
              "#fdca26"
             ],
             [
              1,
              "#f0f921"
             ]
            ],
            "type": "histogram2d"
           }
          ],
          "histogram2dcontour": [
           {
            "colorbar": {
             "outlinewidth": 0,
             "ticks": ""
            },
            "colorscale": [
             [
              0,
              "#0d0887"
             ],
             [
              0.1111111111111111,
              "#46039f"
             ],
             [
              0.2222222222222222,
              "#7201a8"
             ],
             [
              0.3333333333333333,
              "#9c179e"
             ],
             [
              0.4444444444444444,
              "#bd3786"
             ],
             [
              0.5555555555555556,
              "#d8576b"
             ],
             [
              0.6666666666666666,
              "#ed7953"
             ],
             [
              0.7777777777777778,
              "#fb9f3a"
             ],
             [
              0.8888888888888888,
              "#fdca26"
             ],
             [
              1,
              "#f0f921"
             ]
            ],
            "type": "histogram2dcontour"
           }
          ],
          "mesh3d": [
           {
            "colorbar": {
             "outlinewidth": 0,
             "ticks": ""
            },
            "type": "mesh3d"
           }
          ],
          "parcoords": [
           {
            "line": {
             "colorbar": {
              "outlinewidth": 0,
              "ticks": ""
             }
            },
            "type": "parcoords"
           }
          ],
          "pie": [
           {
            "automargin": true,
            "type": "pie"
           }
          ],
          "scatter": [
           {
            "fillpattern": {
             "fillmode": "overlay",
             "size": 10,
             "solidity": 0.2
            },
            "type": "scatter"
           }
          ],
          "scatter3d": [
           {
            "line": {
             "colorbar": {
              "outlinewidth": 0,
              "ticks": ""
             }
            },
            "marker": {
             "colorbar": {
              "outlinewidth": 0,
              "ticks": ""
             }
            },
            "type": "scatter3d"
           }
          ],
          "scattercarpet": [
           {
            "marker": {
             "colorbar": {
              "outlinewidth": 0,
              "ticks": ""
             }
            },
            "type": "scattercarpet"
           }
          ],
          "scattergeo": [
           {
            "marker": {
             "colorbar": {
              "outlinewidth": 0,
              "ticks": ""
             }
            },
            "type": "scattergeo"
           }
          ],
          "scattergl": [
           {
            "marker": {
             "colorbar": {
              "outlinewidth": 0,
              "ticks": ""
             }
            },
            "type": "scattergl"
           }
          ],
          "scattermap": [
           {
            "marker": {
             "colorbar": {
              "outlinewidth": 0,
              "ticks": ""
             }
            },
            "type": "scattermap"
           }
          ],
          "scattermapbox": [
           {
            "marker": {
             "colorbar": {
              "outlinewidth": 0,
              "ticks": ""
             }
            },
            "type": "scattermapbox"
           }
          ],
          "scatterpolar": [
           {
            "marker": {
             "colorbar": {
              "outlinewidth": 0,
              "ticks": ""
             }
            },
            "type": "scatterpolar"
           }
          ],
          "scatterpolargl": [
           {
            "marker": {
             "colorbar": {
              "outlinewidth": 0,
              "ticks": ""
             }
            },
            "type": "scatterpolargl"
           }
          ],
          "scatterternary": [
           {
            "marker": {
             "colorbar": {
              "outlinewidth": 0,
              "ticks": ""
             }
            },
            "type": "scatterternary"
           }
          ],
          "surface": [
           {
            "colorbar": {
             "outlinewidth": 0,
             "ticks": ""
            },
            "colorscale": [
             [
              0,
              "#0d0887"
             ],
             [
              0.1111111111111111,
              "#46039f"
             ],
             [
              0.2222222222222222,
              "#7201a8"
             ],
             [
              0.3333333333333333,
              "#9c179e"
             ],
             [
              0.4444444444444444,
              "#bd3786"
             ],
             [
              0.5555555555555556,
              "#d8576b"
             ],
             [
              0.6666666666666666,
              "#ed7953"
             ],
             [
              0.7777777777777778,
              "#fb9f3a"
             ],
             [
              0.8888888888888888,
              "#fdca26"
             ],
             [
              1,
              "#f0f921"
             ]
            ],
            "type": "surface"
           }
          ],
          "table": [
           {
            "cells": {
             "fill": {
              "color": "#EBF0F8"
             },
             "line": {
              "color": "white"
             }
            },
            "header": {
             "fill": {
              "color": "#C8D4E3"
             },
             "line": {
              "color": "white"
             }
            },
            "type": "table"
           }
          ]
         },
         "layout": {
          "annotationdefaults": {
           "arrowcolor": "#2a3f5f",
           "arrowhead": 0,
           "arrowwidth": 1
          },
          "autotypenumbers": "strict",
          "coloraxis": {
           "colorbar": {
            "outlinewidth": 0,
            "ticks": ""
           }
          },
          "colorscale": {
           "diverging": [
            [
             0,
             "#8e0152"
            ],
            [
             0.1,
             "#c51b7d"
            ],
            [
             0.2,
             "#de77ae"
            ],
            [
             0.3,
             "#f1b6da"
            ],
            [
             0.4,
             "#fde0ef"
            ],
            [
             0.5,
             "#f7f7f7"
            ],
            [
             0.6,
             "#e6f5d0"
            ],
            [
             0.7,
             "#b8e186"
            ],
            [
             0.8,
             "#7fbc41"
            ],
            [
             0.9,
             "#4d9221"
            ],
            [
             1,
             "#276419"
            ]
           ],
           "sequential": [
            [
             0,
             "#0d0887"
            ],
            [
             0.1111111111111111,
             "#46039f"
            ],
            [
             0.2222222222222222,
             "#7201a8"
            ],
            [
             0.3333333333333333,
             "#9c179e"
            ],
            [
             0.4444444444444444,
             "#bd3786"
            ],
            [
             0.5555555555555556,
             "#d8576b"
            ],
            [
             0.6666666666666666,
             "#ed7953"
            ],
            [
             0.7777777777777778,
             "#fb9f3a"
            ],
            [
             0.8888888888888888,
             "#fdca26"
            ],
            [
             1,
             "#f0f921"
            ]
           ],
           "sequentialminus": [
            [
             0,
             "#0d0887"
            ],
            [
             0.1111111111111111,
             "#46039f"
            ],
            [
             0.2222222222222222,
             "#7201a8"
            ],
            [
             0.3333333333333333,
             "#9c179e"
            ],
            [
             0.4444444444444444,
             "#bd3786"
            ],
            [
             0.5555555555555556,
             "#d8576b"
            ],
            [
             0.6666666666666666,
             "#ed7953"
            ],
            [
             0.7777777777777778,
             "#fb9f3a"
            ],
            [
             0.8888888888888888,
             "#fdca26"
            ],
            [
             1,
             "#f0f921"
            ]
           ]
          },
          "colorway": [
           "#636efa",
           "#EF553B",
           "#00cc96",
           "#ab63fa",
           "#FFA15A",
           "#19d3f3",
           "#FF6692",
           "#B6E880",
           "#FF97FF",
           "#FECB52"
          ],
          "font": {
           "color": "#2a3f5f"
          },
          "geo": {
           "bgcolor": "white",
           "lakecolor": "white",
           "landcolor": "white",
           "showlakes": true,
           "showland": true,
           "subunitcolor": "#C8D4E3"
          },
          "hoverlabel": {
           "align": "left"
          },
          "hovermode": "closest",
          "mapbox": {
           "style": "light"
          },
          "paper_bgcolor": "white",
          "plot_bgcolor": "white",
          "polar": {
           "angularaxis": {
            "gridcolor": "#EBF0F8",
            "linecolor": "#EBF0F8",
            "ticks": ""
           },
           "bgcolor": "white",
           "radialaxis": {
            "gridcolor": "#EBF0F8",
            "linecolor": "#EBF0F8",
            "ticks": ""
           }
          },
          "scene": {
           "xaxis": {
            "backgroundcolor": "white",
            "gridcolor": "#DFE8F3",
            "gridwidth": 2,
            "linecolor": "#EBF0F8",
            "showbackground": true,
            "ticks": "",
            "zerolinecolor": "#EBF0F8"
           },
           "yaxis": {
            "backgroundcolor": "white",
            "gridcolor": "#DFE8F3",
            "gridwidth": 2,
            "linecolor": "#EBF0F8",
            "showbackground": true,
            "ticks": "",
            "zerolinecolor": "#EBF0F8"
           },
           "zaxis": {
            "backgroundcolor": "white",
            "gridcolor": "#DFE8F3",
            "gridwidth": 2,
            "linecolor": "#EBF0F8",
            "showbackground": true,
            "ticks": "",
            "zerolinecolor": "#EBF0F8"
           }
          },
          "shapedefaults": {
           "line": {
            "color": "#2a3f5f"
           }
          },
          "ternary": {
           "aaxis": {
            "gridcolor": "#DFE8F3",
            "linecolor": "#A2B1C6",
            "ticks": ""
           },
           "baxis": {
            "gridcolor": "#DFE8F3",
            "linecolor": "#A2B1C6",
            "ticks": ""
           },
           "bgcolor": "white",
           "caxis": {
            "gridcolor": "#DFE8F3",
            "linecolor": "#A2B1C6",
            "ticks": ""
           }
          },
          "title": {
           "x": 0.05
          },
          "xaxis": {
           "automargin": true,
           "gridcolor": "#EBF0F8",
           "linecolor": "#EBF0F8",
           "ticks": "",
           "title": {
            "standoff": 15
           },
           "zerolinecolor": "#EBF0F8",
           "zerolinewidth": 2
          },
          "yaxis": {
           "automargin": true,
           "gridcolor": "#EBF0F8",
           "linecolor": "#EBF0F8",
           "ticks": "",
           "title": {
            "standoff": 15
           },
           "zerolinecolor": "#EBF0F8",
           "zerolinewidth": 2
          }
         }
        },
        "title": {
         "font": {
          "color": "black",
          "family": "Calibri",
          "size": 24,
          "weight": "bold"
         },
         "text": "Temperature of Nepal (1940 to 2024)"
        },
        "width": 1600,
        "xaxis": {
         "tickfont": {
          "color": "black",
          "family": "Calibri",
          "size": 18,
          "weight": "bold"
         },
         "title": {
          "font": {
           "color": "black",
           "family": "Calibri",
           "size": 22,
           "weight": "bold"
          },
          "text": "Year"
         }
        },
        "yaxis": {
         "tickfont": {
          "color": "black",
          "family": "Calibri",
          "size": 18,
          "weight": "bold"
         },
         "title": {
          "font": {
           "color": "black",
           "family": "Calibri",
           "size": 22,
           "weight": "bold"
          },
          "text": "Temperature (°C)"
         }
        }
       }
      }
     },
     "metadata": {},
     "output_type": "display_data"
    }
   ],
   "source": [
    "#Plotting a graph that shows the temperatures for each month from 1940 to 2024 in a single time series along with decade averages\n",
    "\n",
    "fig = go.Figure()\n",
    "\n",
    "#Getting date and temperature to plot the time series\n",
    "temp = df_monthly_temp['monthly_temperature_C']\n",
    "years = df_monthly_temp['date']\n",
    "\n",
    "#Plotting the temperatures from 1940 to 2024\n",
    "fig.add_trace(go.Scatter(\n",
    "    x = years, y = temp,\n",
    "    mode = 'lines',\n",
    "    line = dict( width = 1, color = 'black'),\n",
    "    opacity = 0.9,\n",
    "    name = 'Temperature',\n",
    "    hovertemplate=\n",
    "            '<b>Date:</b> %{x}<br>' +\n",
    "            '<b>Temperature:</b> %{y:.2f} °C<extra></extra>'\n",
    "))\n",
    "\n",
    "#Plotting straight lines for each decade averages\n",
    "\n",
    "#Setting different colors for each decade average\n",
    "decade_colors = {1940: \"#2d8dd2\", 1950: \"#2ca02c\", 1960: \"#9467bd\", 1970: \"#17becf\", 1980:\"#5b37ea\", 1990:\"#9e6155\", 2000:\"#ecca0a\", 2010:\"#91fe5f\", 2020:'#d62728', }  \n",
    "\n",
    "#Plotting a straight line for each decade average temperature and making them each a different color\n",
    "for _, row in decade_avg.iterrows():\n",
    "    start_year = pd.to_datetime(f\"{row['decade']}-01-01\") #Start of the decade\n",
    "    end_year = pd.to_datetime(f\"{row['decade']+9}-12-31\") #End of the decade\n",
    "    fig.add_trace(go.Scatter(\n",
    "        x = [start_year, end_year],\n",
    "        y = [row['avg_decade_temp_C']] * 2,\n",
    "        mode = 'lines',\n",
    "        line = dict(width = 3, color = decade_colors[row['decade']]),\n",
    "        name = f\"{int(row['decade'])}s avg\",\n",
    "        hovertemplate = \n",
    "        f\"<b>Decade:</b> {int(row['decade'])}s<br><b>Avg Temperature:</b> {row['avg_decade_temp_C']:.2f} °C<extra></extra>\"\n",
    "    ))\n",
    "\n",
    "#Overall layout for the graph\n",
    "fig.update_layout(\n",
    "    title = \"Temperature of Nepal (1940 to 2024)\",\n",
    "    title_font = dict(size = 24, family = \"Calibri\", color = \"black\"),  \n",
    "    xaxis = dict(\n",
    "        title = \"Year\",\n",
    "        title_font = dict(size = 22, family = \"Calibri\", color = \"black\"),  \n",
    "        tickfont = dict(size = 18, family = \"Calibri\", color = \"black\")\n",
    "    ),\n",
    "    yaxis = dict(\n",
    "        title = \"Temperature (°C)\",\n",
    "        title_font = dict(size = 22, family = \"Calibri\", color = \"black\"), \n",
    "        tickfont = dict(size = 18, family = \"Calibri\", color = \"black\")     \n",
    "    ),\n",
    "    legend = dict(\n",
    "        title = \"Legend\",\n",
    "        orientation = \"h\",\n",
    "        yanchor = \"bottom\",\n",
    "        y = 0.01,\n",
    "        xanchor = \"right\",\n",
    "        x = 0.999,\n",
    "        title_font = dict(size = 18, family = \"Calibri\", color = \"black\"), \n",
    "        font = dict(size = 16, family = \"Calibri\", color = \"black\"),       \n",
    "    bordercolor = \"Black\",\n",
    "    borderwidth = 2\n",
    "    ),\n",
    "    template = \"plotly_white\",\n",
    "    width = 1600, height = 500\n",
    ")\n",
    "\n",
    "fig.show()"
   ]
  },
  {
   "cell_type": "code",
   "execution_count": 12,
   "id": "2c3d66d9",
   "metadata": {},
   "outputs": [
    {
     "data": {
      "text/html": [
       "<div>\n",
       "<style scoped>\n",
       "    .dataframe tbody tr th:only-of-type {\n",
       "        vertical-align: middle;\n",
       "    }\n",
       "\n",
       "    .dataframe tbody tr th {\n",
       "        vertical-align: top;\n",
       "    }\n",
       "\n",
       "    .dataframe thead th {\n",
       "        text-align: right;\n",
       "    }\n",
       "</style>\n",
       "<table border=\"1\" class=\"dataframe\">\n",
       "  <thead>\n",
       "    <tr style=\"text-align: right;\">\n",
       "      <th></th>\n",
       "      <th>year</th>\n",
       "      <th>annual_temperature_C</th>\n",
       "    </tr>\n",
       "  </thead>\n",
       "  <tbody>\n",
       "    <tr>\n",
       "      <th>0</th>\n",
       "      <td>1940</td>\n",
       "      <td>8.745097</td>\n",
       "    </tr>\n",
       "    <tr>\n",
       "      <th>1</th>\n",
       "      <td>1941</td>\n",
       "      <td>8.953671</td>\n",
       "    </tr>\n",
       "    <tr>\n",
       "      <th>2</th>\n",
       "      <td>1942</td>\n",
       "      <td>8.888148</td>\n",
       "    </tr>\n",
       "    <tr>\n",
       "      <th>3</th>\n",
       "      <td>1943</td>\n",
       "      <td>8.943669</td>\n",
       "    </tr>\n",
       "    <tr>\n",
       "      <th>4</th>\n",
       "      <td>1944</td>\n",
       "      <td>9.542346</td>\n",
       "    </tr>\n",
       "    <tr>\n",
       "      <th>...</th>\n",
       "      <td>...</td>\n",
       "      <td>...</td>\n",
       "    </tr>\n",
       "    <tr>\n",
       "      <th>80</th>\n",
       "      <td>2020</td>\n",
       "      <td>10.323499</td>\n",
       "    </tr>\n",
       "    <tr>\n",
       "      <th>81</th>\n",
       "      <td>2021</td>\n",
       "      <td>10.918447</td>\n",
       "    </tr>\n",
       "    <tr>\n",
       "      <th>82</th>\n",
       "      <td>2022</td>\n",
       "      <td>11.137062</td>\n",
       "    </tr>\n",
       "    <tr>\n",
       "      <th>83</th>\n",
       "      <td>2023</td>\n",
       "      <td>10.999980</td>\n",
       "    </tr>\n",
       "    <tr>\n",
       "      <th>84</th>\n",
       "      <td>2024</td>\n",
       "      <td>11.408806</td>\n",
       "    </tr>\n",
       "  </tbody>\n",
       "</table>\n",
       "<p>85 rows × 2 columns</p>\n",
       "</div>"
      ],
      "text/plain": [
       "    year  annual_temperature_C\n",
       "0   1940              8.745097\n",
       "1   1941              8.953671\n",
       "2   1942              8.888148\n",
       "3   1943              8.943669\n",
       "4   1944              9.542346\n",
       "..   ...                   ...\n",
       "80  2020             10.323499\n",
       "81  2021             10.918447\n",
       "82  2022             11.137062\n",
       "83  2023             10.999980\n",
       "84  2024             11.408806\n",
       "\n",
       "[85 rows x 2 columns]"
      ]
     },
     "execution_count": 12,
     "metadata": {},
     "output_type": "execute_result"
    }
   ],
   "source": [
    "#Getting average annual temperatures (in K and C)\n",
    "\n",
    "df_annual_temp = df_monthly_temp.groupby('year')['monthly_temperature_C'].mean().reset_index()\n",
    "df_annual_temp.rename(columns={'monthly_temperature_C': 'annual_temperature_C'}, inplace=True)\n",
    "# df_annual_temp['annual_temperature_C'] = df_annual_temp['annual_temperature_K'] - 273.15\n",
    "\n",
    "df_annual_temp"
   ]
  },
  {
   "cell_type": "code",
   "execution_count": 13,
   "id": "58c5e1c8",
   "metadata": {},
   "outputs": [],
   "source": [
    "#Getting the x and y variables for regression\n",
    "temp = df_annual_temp['annual_temperature_C']\n",
    "years = df_annual_temp['year']\n",
    "\n",
    "#Using linear regression to get required values\n",
    "slope, intercept, r_value, p_value, std_err = linregress(years, temp)\n",
    "\n",
    "#Getting the regression line using given variables\n",
    "trend_line = slope * years + intercept"
   ]
  },
  {
   "cell_type": "code",
   "execution_count": null,
   "id": "c982602b",
   "metadata": {},
   "outputs": [
    {
     "data": {
      "application/vnd.plotly.v1+json": {
       "config": {
        "plotlyServerURL": "https://plot.ly"
       },
       "data": [
        {
         "hovertemplate": "<b>Date:</b> %{x}<br><b>Temperature:</b> %{y:.2f} °C<extra></extra>",
         "line": {
          "color": "red",
          "width": 4
         },
         "marker": {
          "color": "white",
          "line": {
           "color": "red",
           "width": 2
          },
          "size": 11
         },
         "mode": "lines+markers",
         "name": "Temperature",
         "opacity": 0.9,
         "type": "scatter",
         "x": {
          "bdata": "lAcAAJUHAACWBwAAlwcAAJgHAACZBwAAmgcAAJsHAACcBwAAnQcAAJ4HAACfBwAAoAcAAKEHAACiBwAAowcAAKQHAAClBwAApgcAAKcHAACoBwAAqQcAAKoHAACrBwAArAcAAK0HAACuBwAArwcAALAHAACxBwAAsgcAALMHAAC0BwAAtQcAALYHAAC3BwAAuAcAALkHAAC6BwAAuwcAALwHAAC9BwAAvgcAAL8HAADABwAAwQcAAMIHAADDBwAAxAcAAMUHAADGBwAAxwcAAMgHAADJBwAAygcAAMsHAADMBwAAzQcAAM4HAADPBwAA0AcAANEHAADSBwAA0wcAANQHAADVBwAA1gcAANcHAADYBwAA2QcAANoHAADbBwAA3AcAAN0HAADeBwAA3wcAAOAHAADhBwAA4gcAAOMHAADkBwAA5QcAAOYHAADnBwAA6AcAAA==",
          "dtype": "i4"
         },
         "y": {
          "bdata": "6+sLQT1CD0HbNQ5BRRkPQXOtGEF4RARBkK8eQUP4HEFLVhdB5XcMQXX6CkHrpgpBW8QFQd3fCEElyxFBo7sVQb3OFkHrqhVBld0oQYstIEFNcyRBA5gVQWj+FUEjMhZBeJYjQWjjFEF7UBtBA14YQcO3EEFVZB1B3XgfQXVQFEEzeRxBK70aQRBBIkGT+h9B6DglQZiXJUGNyh1BFQkkQdV+I0GVahtBY+4aQUhbGEHlrCRBzd8kQc3ZGkFteiNB7YYrQSjZHUEgjSRB4DoiQWA5IEH1pihBcL8nQZAIIUHIXh9BVfoSQXsnKEEgCStBWwIiQS09J0HokyNB4IwhQdPtKEHr2SVB3bAvQZMlK0HYOyhB/WgxQSiIM0F7ECZB04ciQdMpI0E4EyFBIE0mQRvMOUEYSjNBoCovQVCjJUENLSVB9bEuQWgxMkHr/y9BeIo2QQ==",
          "dtype": "f4"
         }
        },
        {
         "hovertemplate": "<b>Date:</b> %{x}<br><b>Predicted Temperature:</b> %{y:.2f} °C<extra></extra>",
         "line": {
          "color": "black",
          "dash": "dash",
          "width": 3
         },
         "mode": "lines",
         "name": "trend line",
         "opacity": 0.7,
         "type": "scatter",
         "x": {
          "bdata": "lAcAAJUHAACWBwAAlwcAAJgHAACZBwAAmgcAAJsHAACcBwAAnQcAAJ4HAACfBwAAoAcAAKEHAACiBwAAowcAAKQHAAClBwAApgcAAKcHAACoBwAAqQcAAKoHAACrBwAArAcAAK0HAACuBwAArwcAALAHAACxBwAAsgcAALMHAAC0BwAAtQcAALYHAAC3BwAAuAcAALkHAAC6BwAAuwcAALwHAAC9BwAAvgcAAL8HAADABwAAwQcAAMIHAADDBwAAxAcAAMUHAADGBwAAxwcAAMgHAADJBwAAygcAAMsHAADMBwAAzQcAAM4HAADPBwAA0AcAANEHAADSBwAA0wcAANQHAADVBwAA1gcAANcHAADYBwAA2QcAANoHAADbBwAA3AcAAN0HAADeBwAA3wcAAOAHAADhBwAA4gcAAOMHAADkBwAA5QcAAOYHAADnBwAA6AcAAA==",
          "dtype": "i4"
         },
         "y": {
          "bdata": "QFTLT2D5IUCsrVKJXwUiQBgH2sJeESJAhGBh/F0dIkDwueg1XSkiQFwTcG9cNSJAyGz3qFtBIkA0xn7iWk0iQKAfBhxaWSJADHmNVVllIkB40hSPWHEiQOQrnMhXfSJAUIUjAleJIkDA3qo7VpUiQCw4MnVVoSJAmJG5rlStIkAE60DoU7kiQHBEyCFTxSJA3J1PW1LRIkBI99aUUd0iQLRQXs5Q6SJAIKrlB1D1IkCMA21BTwEjQPhc9HpODSNAZLZ7tE0ZI0DQDwPuTCUjQDxpiidMMSNAqMIRYUs9I0AUHJmaSkkjQIB1INRJVSNA7M6nDUlhI0BYKC9HSG0jQMSBtoBHeSNAMNs9ukaFI0CcNMXzRZEjQAiOTC1FnSNAdOfTZkSpI0DgQFugQ7UjQEya4tlCwSNAuPNpE0LNI0AoTfFMQdkjQJSmeIZA5SNAAAAAwD/xI0BsWYf5Pv0jQNiyDjM+CSRARAyWbD0VJECwZR2mPCEkQBy/pN87LSRAiBgsGTs5JED0cbNSOkUkQGDLOow5USRAzCTCxThdJEA4fkn/N2kkQKTX0Dg3dSRAEDFYcjaBJEB8it+rNY0kQOjjZuU0mSRAVD3uHjSlJEDAlnVYM7EkQCzw/JEyvSRAmEmEyzHJJEAEowsFMdUkQHD8kj4w4SRA3FUaeC/tJEBIr6GxLvkkQLQIKestBSVAIGKwJC0RJUCMuzdeLB0lQPwUv5crKSVAaG5G0So1JUDUx80KKkElQEAhVUQpTSVArHrcfShZJUAY1GO3J2UlQIQt6/AmcSVA8IZyKiZ9JUBc4PljJYklQMg5gZ0klSVANJMI1yOhJUCg7I8QI60lQAxGF0oiuSVAeJ+egyHFJUDk+CW9INElQFBSrfYf3SVAvKs0MB/pJUA=",
          "dtype": "f8"
         }
        }
       ],
       "layout": {
        "annotations": [
         {
          "bgcolor": "white",
          "bordercolor": "black",
          "borderpad": 5,
          "borderwidth": 1,
          "font": {
           "color": "black",
           "family": "Calibri",
           "size": 14
          },
          "opacity": 0.9,
          "showarrow": false,
          "text": "<b>Trend line variables:</b><br>Slope: 0.02343 °C/year<br>R²: 0.642<br>p-value: 3.193e-20<br>",
          "x": 0.01,
          "xref": "paper",
          "y": 0.95,
          "yref": "paper"
         }
        ],
        "height": 600,
        "legend": {
         "bordercolor": "Black",
         "borderwidth": 2,
         "font": {
          "color": "black",
          "family": "Calibri",
          "size": 16,
          "weight": "bold"
         },
         "orientation": "h",
         "title": {
          "font": {
           "color": "black",
           "family": "Calibri",
           "size": 18,
           "weight": "bold"
          }
         },
         "x": 0.999,
         "xanchor": "right",
         "y": 0.01,
         "yanchor": "bottom"
        },
        "template": {
         "data": {
          "bar": [
           {
            "error_x": {
             "color": "#2a3f5f"
            },
            "error_y": {
             "color": "#2a3f5f"
            },
            "marker": {
             "line": {
              "color": "white",
              "width": 0.5
             },
             "pattern": {
              "fillmode": "overlay",
              "size": 10,
              "solidity": 0.2
             }
            },
            "type": "bar"
           }
          ],
          "barpolar": [
           {
            "marker": {
             "line": {
              "color": "white",
              "width": 0.5
             },
             "pattern": {
              "fillmode": "overlay",
              "size": 10,
              "solidity": 0.2
             }
            },
            "type": "barpolar"
           }
          ],
          "carpet": [
           {
            "aaxis": {
             "endlinecolor": "#2a3f5f",
             "gridcolor": "#C8D4E3",
             "linecolor": "#C8D4E3",
             "minorgridcolor": "#C8D4E3",
             "startlinecolor": "#2a3f5f"
            },
            "baxis": {
             "endlinecolor": "#2a3f5f",
             "gridcolor": "#C8D4E3",
             "linecolor": "#C8D4E3",
             "minorgridcolor": "#C8D4E3",
             "startlinecolor": "#2a3f5f"
            },
            "type": "carpet"
           }
          ],
          "choropleth": [
           {
            "colorbar": {
             "outlinewidth": 0,
             "ticks": ""
            },
            "type": "choropleth"
           }
          ],
          "contour": [
           {
            "colorbar": {
             "outlinewidth": 0,
             "ticks": ""
            },
            "colorscale": [
             [
              0,
              "#0d0887"
             ],
             [
              0.1111111111111111,
              "#46039f"
             ],
             [
              0.2222222222222222,
              "#7201a8"
             ],
             [
              0.3333333333333333,
              "#9c179e"
             ],
             [
              0.4444444444444444,
              "#bd3786"
             ],
             [
              0.5555555555555556,
              "#d8576b"
             ],
             [
              0.6666666666666666,
              "#ed7953"
             ],
             [
              0.7777777777777778,
              "#fb9f3a"
             ],
             [
              0.8888888888888888,
              "#fdca26"
             ],
             [
              1,
              "#f0f921"
             ]
            ],
            "type": "contour"
           }
          ],
          "contourcarpet": [
           {
            "colorbar": {
             "outlinewidth": 0,
             "ticks": ""
            },
            "type": "contourcarpet"
           }
          ],
          "heatmap": [
           {
            "colorbar": {
             "outlinewidth": 0,
             "ticks": ""
            },
            "colorscale": [
             [
              0,
              "#0d0887"
             ],
             [
              0.1111111111111111,
              "#46039f"
             ],
             [
              0.2222222222222222,
              "#7201a8"
             ],
             [
              0.3333333333333333,
              "#9c179e"
             ],
             [
              0.4444444444444444,
              "#bd3786"
             ],
             [
              0.5555555555555556,
              "#d8576b"
             ],
             [
              0.6666666666666666,
              "#ed7953"
             ],
             [
              0.7777777777777778,
              "#fb9f3a"
             ],
             [
              0.8888888888888888,
              "#fdca26"
             ],
             [
              1,
              "#f0f921"
             ]
            ],
            "type": "heatmap"
           }
          ],
          "histogram": [
           {
            "marker": {
             "pattern": {
              "fillmode": "overlay",
              "size": 10,
              "solidity": 0.2
             }
            },
            "type": "histogram"
           }
          ],
          "histogram2d": [
           {
            "colorbar": {
             "outlinewidth": 0,
             "ticks": ""
            },
            "colorscale": [
             [
              0,
              "#0d0887"
             ],
             [
              0.1111111111111111,
              "#46039f"
             ],
             [
              0.2222222222222222,
              "#7201a8"
             ],
             [
              0.3333333333333333,
              "#9c179e"
             ],
             [
              0.4444444444444444,
              "#bd3786"
             ],
             [
              0.5555555555555556,
              "#d8576b"
             ],
             [
              0.6666666666666666,
              "#ed7953"
             ],
             [
              0.7777777777777778,
              "#fb9f3a"
             ],
             [
              0.8888888888888888,
              "#fdca26"
             ],
             [
              1,
              "#f0f921"
             ]
            ],
            "type": "histogram2d"
           }
          ],
          "histogram2dcontour": [
           {
            "colorbar": {
             "outlinewidth": 0,
             "ticks": ""
            },
            "colorscale": [
             [
              0,
              "#0d0887"
             ],
             [
              0.1111111111111111,
              "#46039f"
             ],
             [
              0.2222222222222222,
              "#7201a8"
             ],
             [
              0.3333333333333333,
              "#9c179e"
             ],
             [
              0.4444444444444444,
              "#bd3786"
             ],
             [
              0.5555555555555556,
              "#d8576b"
             ],
             [
              0.6666666666666666,
              "#ed7953"
             ],
             [
              0.7777777777777778,
              "#fb9f3a"
             ],
             [
              0.8888888888888888,
              "#fdca26"
             ],
             [
              1,
              "#f0f921"
             ]
            ],
            "type": "histogram2dcontour"
           }
          ],
          "mesh3d": [
           {
            "colorbar": {
             "outlinewidth": 0,
             "ticks": ""
            },
            "type": "mesh3d"
           }
          ],
          "parcoords": [
           {
            "line": {
             "colorbar": {
              "outlinewidth": 0,
              "ticks": ""
             }
            },
            "type": "parcoords"
           }
          ],
          "pie": [
           {
            "automargin": true,
            "type": "pie"
           }
          ],
          "scatter": [
           {
            "fillpattern": {
             "fillmode": "overlay",
             "size": 10,
             "solidity": 0.2
            },
            "type": "scatter"
           }
          ],
          "scatter3d": [
           {
            "line": {
             "colorbar": {
              "outlinewidth": 0,
              "ticks": ""
             }
            },
            "marker": {
             "colorbar": {
              "outlinewidth": 0,
              "ticks": ""
             }
            },
            "type": "scatter3d"
           }
          ],
          "scattercarpet": [
           {
            "marker": {
             "colorbar": {
              "outlinewidth": 0,
              "ticks": ""
             }
            },
            "type": "scattercarpet"
           }
          ],
          "scattergeo": [
           {
            "marker": {
             "colorbar": {
              "outlinewidth": 0,
              "ticks": ""
             }
            },
            "type": "scattergeo"
           }
          ],
          "scattergl": [
           {
            "marker": {
             "colorbar": {
              "outlinewidth": 0,
              "ticks": ""
             }
            },
            "type": "scattergl"
           }
          ],
          "scattermap": [
           {
            "marker": {
             "colorbar": {
              "outlinewidth": 0,
              "ticks": ""
             }
            },
            "type": "scattermap"
           }
          ],
          "scattermapbox": [
           {
            "marker": {
             "colorbar": {
              "outlinewidth": 0,
              "ticks": ""
             }
            },
            "type": "scattermapbox"
           }
          ],
          "scatterpolar": [
           {
            "marker": {
             "colorbar": {
              "outlinewidth": 0,
              "ticks": ""
             }
            },
            "type": "scatterpolar"
           }
          ],
          "scatterpolargl": [
           {
            "marker": {
             "colorbar": {
              "outlinewidth": 0,
              "ticks": ""
             }
            },
            "type": "scatterpolargl"
           }
          ],
          "scatterternary": [
           {
            "marker": {
             "colorbar": {
              "outlinewidth": 0,
              "ticks": ""
             }
            },
            "type": "scatterternary"
           }
          ],
          "surface": [
           {
            "colorbar": {
             "outlinewidth": 0,
             "ticks": ""
            },
            "colorscale": [
             [
              0,
              "#0d0887"
             ],
             [
              0.1111111111111111,
              "#46039f"
             ],
             [
              0.2222222222222222,
              "#7201a8"
             ],
             [
              0.3333333333333333,
              "#9c179e"
             ],
             [
              0.4444444444444444,
              "#bd3786"
             ],
             [
              0.5555555555555556,
              "#d8576b"
             ],
             [
              0.6666666666666666,
              "#ed7953"
             ],
             [
              0.7777777777777778,
              "#fb9f3a"
             ],
             [
              0.8888888888888888,
              "#fdca26"
             ],
             [
              1,
              "#f0f921"
             ]
            ],
            "type": "surface"
           }
          ],
          "table": [
           {
            "cells": {
             "fill": {
              "color": "#EBF0F8"
             },
             "line": {
              "color": "white"
             }
            },
            "header": {
             "fill": {
              "color": "#C8D4E3"
             },
             "line": {
              "color": "white"
             }
            },
            "type": "table"
           }
          ]
         },
         "layout": {
          "annotationdefaults": {
           "arrowcolor": "#2a3f5f",
           "arrowhead": 0,
           "arrowwidth": 1
          },
          "autotypenumbers": "strict",
          "coloraxis": {
           "colorbar": {
            "outlinewidth": 0,
            "ticks": ""
           }
          },
          "colorscale": {
           "diverging": [
            [
             0,
             "#8e0152"
            ],
            [
             0.1,
             "#c51b7d"
            ],
            [
             0.2,
             "#de77ae"
            ],
            [
             0.3,
             "#f1b6da"
            ],
            [
             0.4,
             "#fde0ef"
            ],
            [
             0.5,
             "#f7f7f7"
            ],
            [
             0.6,
             "#e6f5d0"
            ],
            [
             0.7,
             "#b8e186"
            ],
            [
             0.8,
             "#7fbc41"
            ],
            [
             0.9,
             "#4d9221"
            ],
            [
             1,
             "#276419"
            ]
           ],
           "sequential": [
            [
             0,
             "#0d0887"
            ],
            [
             0.1111111111111111,
             "#46039f"
            ],
            [
             0.2222222222222222,
             "#7201a8"
            ],
            [
             0.3333333333333333,
             "#9c179e"
            ],
            [
             0.4444444444444444,
             "#bd3786"
            ],
            [
             0.5555555555555556,
             "#d8576b"
            ],
            [
             0.6666666666666666,
             "#ed7953"
            ],
            [
             0.7777777777777778,
             "#fb9f3a"
            ],
            [
             0.8888888888888888,
             "#fdca26"
            ],
            [
             1,
             "#f0f921"
            ]
           ],
           "sequentialminus": [
            [
             0,
             "#0d0887"
            ],
            [
             0.1111111111111111,
             "#46039f"
            ],
            [
             0.2222222222222222,
             "#7201a8"
            ],
            [
             0.3333333333333333,
             "#9c179e"
            ],
            [
             0.4444444444444444,
             "#bd3786"
            ],
            [
             0.5555555555555556,
             "#d8576b"
            ],
            [
             0.6666666666666666,
             "#ed7953"
            ],
            [
             0.7777777777777778,
             "#fb9f3a"
            ],
            [
             0.8888888888888888,
             "#fdca26"
            ],
            [
             1,
             "#f0f921"
            ]
           ]
          },
          "colorway": [
           "#636efa",
           "#EF553B",
           "#00cc96",
           "#ab63fa",
           "#FFA15A",
           "#19d3f3",
           "#FF6692",
           "#B6E880",
           "#FF97FF",
           "#FECB52"
          ],
          "font": {
           "color": "#2a3f5f"
          },
          "geo": {
           "bgcolor": "white",
           "lakecolor": "white",
           "landcolor": "white",
           "showlakes": true,
           "showland": true,
           "subunitcolor": "#C8D4E3"
          },
          "hoverlabel": {
           "align": "left"
          },
          "hovermode": "closest",
          "mapbox": {
           "style": "light"
          },
          "paper_bgcolor": "white",
          "plot_bgcolor": "white",
          "polar": {
           "angularaxis": {
            "gridcolor": "#EBF0F8",
            "linecolor": "#EBF0F8",
            "ticks": ""
           },
           "bgcolor": "white",
           "radialaxis": {
            "gridcolor": "#EBF0F8",
            "linecolor": "#EBF0F8",
            "ticks": ""
           }
          },
          "scene": {
           "xaxis": {
            "backgroundcolor": "white",
            "gridcolor": "#DFE8F3",
            "gridwidth": 2,
            "linecolor": "#EBF0F8",
            "showbackground": true,
            "ticks": "",
            "zerolinecolor": "#EBF0F8"
           },
           "yaxis": {
            "backgroundcolor": "white",
            "gridcolor": "#DFE8F3",
            "gridwidth": 2,
            "linecolor": "#EBF0F8",
            "showbackground": true,
            "ticks": "",
            "zerolinecolor": "#EBF0F8"
           },
           "zaxis": {
            "backgroundcolor": "white",
            "gridcolor": "#DFE8F3",
            "gridwidth": 2,
            "linecolor": "#EBF0F8",
            "showbackground": true,
            "ticks": "",
            "zerolinecolor": "#EBF0F8"
           }
          },
          "shapedefaults": {
           "line": {
            "color": "#2a3f5f"
           }
          },
          "ternary": {
           "aaxis": {
            "gridcolor": "#DFE8F3",
            "linecolor": "#A2B1C6",
            "ticks": ""
           },
           "baxis": {
            "gridcolor": "#DFE8F3",
            "linecolor": "#A2B1C6",
            "ticks": ""
           },
           "bgcolor": "white",
           "caxis": {
            "gridcolor": "#DFE8F3",
            "linecolor": "#A2B1C6",
            "ticks": ""
           }
          },
          "title": {
           "x": 0.05
          },
          "xaxis": {
           "automargin": true,
           "gridcolor": "#EBF0F8",
           "linecolor": "#EBF0F8",
           "ticks": "",
           "title": {
            "standoff": 15
           },
           "zerolinecolor": "#EBF0F8",
           "zerolinewidth": 2
          },
          "yaxis": {
           "automargin": true,
           "gridcolor": "#EBF0F8",
           "linecolor": "#EBF0F8",
           "ticks": "",
           "title": {
            "standoff": 15
           },
           "zerolinecolor": "#EBF0F8",
           "zerolinewidth": 2
          }
         }
        },
        "title": {
         "font": {
          "color": "black",
          "family": "Calibri",
          "size": 24,
          "weight": "bold"
         },
         "text": "Annual Average Temperature of Nepal (1940 to 2024) with Trend Line"
        },
        "width": 1600,
        "xaxis": {
         "tickfont": {
          "color": "black",
          "family": "Calibri",
          "size": 18,
          "weight": "bold"
         },
         "title": {
          "font": {
           "color": "black",
           "family": "Calibri",
           "size": 22,
           "weight": "bold"
          },
          "text": "Year"
         }
        },
        "yaxis": {
         "tickfont": {
          "color": "black",
          "family": "Calibri",
          "size": 18,
          "weight": "bold"
         },
         "title": {
          "font": {
           "color": "black",
           "family": "Calibri",
           "size": 22,
           "weight": "bold"
          },
          "text": "Temperature (°C)"
         }
        }
       }
      }
     },
     "metadata": {},
     "output_type": "display_data"
    }
   ],
   "source": [
    "#Plotting a graph that shows the annual temperatures from 1940 to 2024 \n",
    "\n",
    "fig = go.Figure()\n",
    "\n",
    "#Getting date and temperature to plot the time series\n",
    "temp = df_annual_temp['annual_temperature_C']\n",
    "years = df_annual_temp['year']\n",
    "\n",
    "#Plotting the temperatures from 1940 to 2024\n",
    "fig.add_trace(go.Scatter(\n",
    "    x = years, y = temp,\n",
    "    mode = 'lines+markers',\n",
    "    line = dict(width = 4, color = 'red'),\n",
    "    marker=dict(\n",
    "            color='white',\n",
    "            size=11,\n",
    "            line=dict(\n",
    "                color='red',\n",
    "                width=2\n",
    "            )\n",
    "        ),\n",
    "    opacity = 0.9,\n",
    "    name = 'Temperature',\n",
    "    hovertemplate=\n",
    "            '<b>Date:</b> %{x}<br>' +\n",
    "            '<b>Temperature:</b> %{y:.2f} °C<extra></extra>'\n",
    "))\n",
    "\n",
    "#Plotting the trend line\n",
    "fig.add_trace(go.Scatter(\n",
    "    x = years, y = trend_line,\n",
    "    mode = 'lines',\n",
    "    line = dict(width = 3, color = 'black', dash = 'dash'),\n",
    "    opacity = 0.7,\n",
    "    name = 'trend line',\n",
    "    hovertemplate=\n",
    "            '<b>Date:</b> %{x}<br>'\n",
    "            '<b>Predicted Temperature:</b> %{y:.2f} °C<extra></extra>'\n",
    "))\n",
    "\n",
    "\n",
    "#Overall layout for the graph\n",
    "fig.update_layout(\n",
    "    title = \"Annual Average Temperature of Nepal (1940 to 2024) with Trend Line\",\n",
    "    title_font = dict(size = 24, family = \"Calibri\", color = \"black\"),  \n",
    "    xaxis = dict(\n",
    "        title = \"Year\",\n",
    "        title_font = dict(size = 22, family = \"Calibri\", color = \"black\"),  \n",
    "        tickfont = dict(size = 18, family = \"Calibri\", color = \"black\")\n",
    "    ),\n",
    "    yaxis = dict(\n",
    "        title = \"Temperature (°C)\",\n",
    "        title_font = dict(size = 22, family = \"Calibri\", color = \"black\"), \n",
    "        tickfont = dict(size = 18, family = \"Calibri\", color = \"black\")     \n",
    "    ),\n",
    "    legend = dict(\n",
    "        # title = \"Legend\",\n",
    "        orientation = \"h\",\n",
    "        yanchor = \"bottom\",\n",
    "        y = 0.01,\n",
    "        xanchor = \"right\",\n",
    "        x = 0.999,\n",
    "        title_font = dict(size = 18, family = \"Calibri\", color = \"black\"), \n",
    "        font = dict(size = 16, family = \"Calibri\", color = \"black\"),       \n",
    "    bordercolor = \"Black\",\n",
    "    borderwidth = 2\n",
    "    ),\n",
    "    template = \"plotly_white\",\n",
    "    width = 1600, height = 600\n",
    ")\n",
    "\n",
    "#Text to be added for trend line\n",
    "trend_line_text = (\n",
    "    \"<b>Trend line variables:</b><br>\"\n",
    "    f\"Slope: {slope:.5f} °C/year<br>\"\n",
    "    f\"R²: {r_value**2:.3f}<br>\"\n",
    "    f\"p-value: {p_value:.3e}<br>\"\n",
    ")\n",
    "\n",
    "#Adding trend line variables as a box in the figure\n",
    "fig.add_annotation(\n",
    "    xref=\"paper\", yref=\"paper\", \n",
    "    x=0.01, y=0.95,             \n",
    "    text=trend_line_text,\n",
    "    showarrow=False,\n",
    "    bordercolor=\"black\",\n",
    "    borderwidth=1,\n",
    "    borderpad=5,\n",
    "    bgcolor=\"white\",\n",
    "    opacity=0.9,\n",
    "    font=dict(family=\"Calibri\", size=14, color=\"black\")\n",
    ")\n",
    "\n",
    "fig.show()"
   ]
  },
  {
   "cell_type": "code",
   "execution_count": null,
   "id": "59323efa",
   "metadata": {},
   "outputs": [],
   "source": []
  },
  {
   "cell_type": "code",
   "execution_count": null,
   "id": "4dc7acad",
   "metadata": {},
   "outputs": [],
   "source": []
  }
 ],
 "metadata": {
  "kernelspec": {
   "display_name": "Python 3",
   "language": "python",
   "name": "python3"
  },
  "language_info": {
   "codemirror_mode": {
    "name": "ipython",
    "version": 3
   },
   "file_extension": ".py",
   "mimetype": "text/x-python",
   "name": "python",
   "nbconvert_exporter": "python",
   "pygments_lexer": "ipython3",
   "version": "3.11.0"
  }
 },
 "nbformat": 4,
 "nbformat_minor": 5
}
